{
  "nbformat": 4,
  "nbformat_minor": 0,
  "metadata": {
    "colab": {
      "provenance": [],
      "gpuType": "T4",
      "authorship_tag": "ABX9TyP8N7lVPjc/NN0K5DLaHS8C",
      "include_colab_link": true
    },
    "kernelspec": {
      "name": "python3",
      "display_name": "Python 3"
    },
    "language_info": {
      "name": "python"
    },
    "accelerator": "GPU",
    "widgets": {
      "application/vnd.jupyter.widget-state+json": {
        "75a770efbe644c07bbc76d561c2fcfb7": {
          "model_module": "@jupyter-widgets/controls",
          "model_name": "HBoxModel",
          "model_module_version": "1.5.0",
          "state": {
            "_dom_classes": [],
            "_model_module": "@jupyter-widgets/controls",
            "_model_module_version": "1.5.0",
            "_model_name": "HBoxModel",
            "_view_count": null,
            "_view_module": "@jupyter-widgets/controls",
            "_view_module_version": "1.5.0",
            "_view_name": "HBoxView",
            "box_style": "",
            "children": [
              "IPY_MODEL_44f3a22e63554469a0990034cb559b16",
              "IPY_MODEL_1844d3c7653e41ad95b0d450a4732810",
              "IPY_MODEL_0eb7e5367df84c878e95b01602d544ba"
            ],
            "layout": "IPY_MODEL_ffd4a19b456444fbbdaa37f1efb1ffa6"
          }
        },
        "44f3a22e63554469a0990034cb559b16": {
          "model_module": "@jupyter-widgets/controls",
          "model_name": "HTMLModel",
          "model_module_version": "1.5.0",
          "state": {
            "_dom_classes": [],
            "_model_module": "@jupyter-widgets/controls",
            "_model_module_version": "1.5.0",
            "_model_name": "HTMLModel",
            "_view_count": null,
            "_view_module": "@jupyter-widgets/controls",
            "_view_module_version": "1.5.0",
            "_view_name": "HTMLView",
            "description": "",
            "description_tooltip": null,
            "layout": "IPY_MODEL_35f0b5c60add47a78648fe1dd3bb4e55",
            "placeholder": "​",
            "style": "IPY_MODEL_656188dad56f4c6696b6c09075e30fbd",
            "value": "100%"
          }
        },
        "1844d3c7653e41ad95b0d450a4732810": {
          "model_module": "@jupyter-widgets/controls",
          "model_name": "FloatProgressModel",
          "model_module_version": "1.5.0",
          "state": {
            "_dom_classes": [],
            "_model_module": "@jupyter-widgets/controls",
            "_model_module_version": "1.5.0",
            "_model_name": "FloatProgressModel",
            "_view_count": null,
            "_view_module": "@jupyter-widgets/controls",
            "_view_module_version": "1.5.0",
            "_view_name": "ProgressView",
            "bar_style": "success",
            "description": "",
            "description_tooltip": null,
            "layout": "IPY_MODEL_12a05dd44c404de8b1718ddb794a4ba9",
            "max": 3,
            "min": 0,
            "orientation": "horizontal",
            "style": "IPY_MODEL_ecfc5cb30fbe460496148aeccb96ece6",
            "value": 3
          }
        },
        "0eb7e5367df84c878e95b01602d544ba": {
          "model_module": "@jupyter-widgets/controls",
          "model_name": "HTMLModel",
          "model_module_version": "1.5.0",
          "state": {
            "_dom_classes": [],
            "_model_module": "@jupyter-widgets/controls",
            "_model_module_version": "1.5.0",
            "_model_name": "HTMLModel",
            "_view_count": null,
            "_view_module": "@jupyter-widgets/controls",
            "_view_module_version": "1.5.0",
            "_view_name": "HTMLView",
            "description": "",
            "description_tooltip": null,
            "layout": "IPY_MODEL_38a076cfc91341eda6e7a3c6f5411237",
            "placeholder": "​",
            "style": "IPY_MODEL_f28f6fcb79b444209e4b8f3e25737739",
            "value": " 3/3 [00:37&lt;00:00, 11.99s/it]"
          }
        },
        "ffd4a19b456444fbbdaa37f1efb1ffa6": {
          "model_module": "@jupyter-widgets/base",
          "model_name": "LayoutModel",
          "model_module_version": "1.2.0",
          "state": {
            "_model_module": "@jupyter-widgets/base",
            "_model_module_version": "1.2.0",
            "_model_name": "LayoutModel",
            "_view_count": null,
            "_view_module": "@jupyter-widgets/base",
            "_view_module_version": "1.2.0",
            "_view_name": "LayoutView",
            "align_content": null,
            "align_items": null,
            "align_self": null,
            "border": null,
            "bottom": null,
            "display": null,
            "flex": null,
            "flex_flow": null,
            "grid_area": null,
            "grid_auto_columns": null,
            "grid_auto_flow": null,
            "grid_auto_rows": null,
            "grid_column": null,
            "grid_gap": null,
            "grid_row": null,
            "grid_template_areas": null,
            "grid_template_columns": null,
            "grid_template_rows": null,
            "height": null,
            "justify_content": null,
            "justify_items": null,
            "left": null,
            "margin": null,
            "max_height": null,
            "max_width": null,
            "min_height": null,
            "min_width": null,
            "object_fit": null,
            "object_position": null,
            "order": null,
            "overflow": null,
            "overflow_x": null,
            "overflow_y": null,
            "padding": null,
            "right": null,
            "top": null,
            "visibility": null,
            "width": null
          }
        },
        "35f0b5c60add47a78648fe1dd3bb4e55": {
          "model_module": "@jupyter-widgets/base",
          "model_name": "LayoutModel",
          "model_module_version": "1.2.0",
          "state": {
            "_model_module": "@jupyter-widgets/base",
            "_model_module_version": "1.2.0",
            "_model_name": "LayoutModel",
            "_view_count": null,
            "_view_module": "@jupyter-widgets/base",
            "_view_module_version": "1.2.0",
            "_view_name": "LayoutView",
            "align_content": null,
            "align_items": null,
            "align_self": null,
            "border": null,
            "bottom": null,
            "display": null,
            "flex": null,
            "flex_flow": null,
            "grid_area": null,
            "grid_auto_columns": null,
            "grid_auto_flow": null,
            "grid_auto_rows": null,
            "grid_column": null,
            "grid_gap": null,
            "grid_row": null,
            "grid_template_areas": null,
            "grid_template_columns": null,
            "grid_template_rows": null,
            "height": null,
            "justify_content": null,
            "justify_items": null,
            "left": null,
            "margin": null,
            "max_height": null,
            "max_width": null,
            "min_height": null,
            "min_width": null,
            "object_fit": null,
            "object_position": null,
            "order": null,
            "overflow": null,
            "overflow_x": null,
            "overflow_y": null,
            "padding": null,
            "right": null,
            "top": null,
            "visibility": null,
            "width": null
          }
        },
        "656188dad56f4c6696b6c09075e30fbd": {
          "model_module": "@jupyter-widgets/controls",
          "model_name": "DescriptionStyleModel",
          "model_module_version": "1.5.0",
          "state": {
            "_model_module": "@jupyter-widgets/controls",
            "_model_module_version": "1.5.0",
            "_model_name": "DescriptionStyleModel",
            "_view_count": null,
            "_view_module": "@jupyter-widgets/base",
            "_view_module_version": "1.2.0",
            "_view_name": "StyleView",
            "description_width": ""
          }
        },
        "12a05dd44c404de8b1718ddb794a4ba9": {
          "model_module": "@jupyter-widgets/base",
          "model_name": "LayoutModel",
          "model_module_version": "1.2.0",
          "state": {
            "_model_module": "@jupyter-widgets/base",
            "_model_module_version": "1.2.0",
            "_model_name": "LayoutModel",
            "_view_count": null,
            "_view_module": "@jupyter-widgets/base",
            "_view_module_version": "1.2.0",
            "_view_name": "LayoutView",
            "align_content": null,
            "align_items": null,
            "align_self": null,
            "border": null,
            "bottom": null,
            "display": null,
            "flex": null,
            "flex_flow": null,
            "grid_area": null,
            "grid_auto_columns": null,
            "grid_auto_flow": null,
            "grid_auto_rows": null,
            "grid_column": null,
            "grid_gap": null,
            "grid_row": null,
            "grid_template_areas": null,
            "grid_template_columns": null,
            "grid_template_rows": null,
            "height": null,
            "justify_content": null,
            "justify_items": null,
            "left": null,
            "margin": null,
            "max_height": null,
            "max_width": null,
            "min_height": null,
            "min_width": null,
            "object_fit": null,
            "object_position": null,
            "order": null,
            "overflow": null,
            "overflow_x": null,
            "overflow_y": null,
            "padding": null,
            "right": null,
            "top": null,
            "visibility": null,
            "width": null
          }
        },
        "ecfc5cb30fbe460496148aeccb96ece6": {
          "model_module": "@jupyter-widgets/controls",
          "model_name": "ProgressStyleModel",
          "model_module_version": "1.5.0",
          "state": {
            "_model_module": "@jupyter-widgets/controls",
            "_model_module_version": "1.5.0",
            "_model_name": "ProgressStyleModel",
            "_view_count": null,
            "_view_module": "@jupyter-widgets/base",
            "_view_module_version": "1.2.0",
            "_view_name": "StyleView",
            "bar_color": null,
            "description_width": ""
          }
        },
        "38a076cfc91341eda6e7a3c6f5411237": {
          "model_module": "@jupyter-widgets/base",
          "model_name": "LayoutModel",
          "model_module_version": "1.2.0",
          "state": {
            "_model_module": "@jupyter-widgets/base",
            "_model_module_version": "1.2.0",
            "_model_name": "LayoutModel",
            "_view_count": null,
            "_view_module": "@jupyter-widgets/base",
            "_view_module_version": "1.2.0",
            "_view_name": "LayoutView",
            "align_content": null,
            "align_items": null,
            "align_self": null,
            "border": null,
            "bottom": null,
            "display": null,
            "flex": null,
            "flex_flow": null,
            "grid_area": null,
            "grid_auto_columns": null,
            "grid_auto_flow": null,
            "grid_auto_rows": null,
            "grid_column": null,
            "grid_gap": null,
            "grid_row": null,
            "grid_template_areas": null,
            "grid_template_columns": null,
            "grid_template_rows": null,
            "height": null,
            "justify_content": null,
            "justify_items": null,
            "left": null,
            "margin": null,
            "max_height": null,
            "max_width": null,
            "min_height": null,
            "min_width": null,
            "object_fit": null,
            "object_position": null,
            "order": null,
            "overflow": null,
            "overflow_x": null,
            "overflow_y": null,
            "padding": null,
            "right": null,
            "top": null,
            "visibility": null,
            "width": null
          }
        },
        "f28f6fcb79b444209e4b8f3e25737739": {
          "model_module": "@jupyter-widgets/controls",
          "model_name": "DescriptionStyleModel",
          "model_module_version": "1.5.0",
          "state": {
            "_model_module": "@jupyter-widgets/controls",
            "_model_module_version": "1.5.0",
            "_model_name": "DescriptionStyleModel",
            "_view_count": null,
            "_view_module": "@jupyter-widgets/base",
            "_view_module_version": "1.2.0",
            "_view_name": "StyleView",
            "description_width": ""
          }
        },
        "83d8b26f1ea84ec6a0f7dccf07632eae": {
          "model_module": "@jupyter-widgets/controls",
          "model_name": "HBoxModel",
          "model_module_version": "1.5.0",
          "state": {
            "_dom_classes": [],
            "_model_module": "@jupyter-widgets/controls",
            "_model_module_version": "1.5.0",
            "_model_name": "HBoxModel",
            "_view_count": null,
            "_view_module": "@jupyter-widgets/controls",
            "_view_module_version": "1.5.0",
            "_view_name": "HBoxView",
            "box_style": "",
            "children": [
              "IPY_MODEL_c7bd582a1718450abfcdaf9ee378afb9",
              "IPY_MODEL_11916ec4e8cb4095b187bba59be17973",
              "IPY_MODEL_fecde342d696450ab4f14ba88b44426e"
            ],
            "layout": "IPY_MODEL_29de44d684e24d1bb4a4857b126db866"
          }
        },
        "c7bd582a1718450abfcdaf9ee378afb9": {
          "model_module": "@jupyter-widgets/controls",
          "model_name": "HTMLModel",
          "model_module_version": "1.5.0",
          "state": {
            "_dom_classes": [],
            "_model_module": "@jupyter-widgets/controls",
            "_model_module_version": "1.5.0",
            "_model_name": "HTMLModel",
            "_view_count": null,
            "_view_module": "@jupyter-widgets/controls",
            "_view_module_version": "1.5.0",
            "_view_name": "HTMLView",
            "description": "",
            "description_tooltip": null,
            "layout": "IPY_MODEL_3648232db5104f7cbbcfad852d2c15d8",
            "placeholder": "​",
            "style": "IPY_MODEL_073d3bb3042240cba9b1b5bc019089e9",
            "value": "100%"
          }
        },
        "11916ec4e8cb4095b187bba59be17973": {
          "model_module": "@jupyter-widgets/controls",
          "model_name": "FloatProgressModel",
          "model_module_version": "1.5.0",
          "state": {
            "_dom_classes": [],
            "_model_module": "@jupyter-widgets/controls",
            "_model_module_version": "1.5.0",
            "_model_name": "FloatProgressModel",
            "_view_count": null,
            "_view_module": "@jupyter-widgets/controls",
            "_view_module_version": "1.5.0",
            "_view_name": "ProgressView",
            "bar_style": "success",
            "description": "",
            "description_tooltip": null,
            "layout": "IPY_MODEL_ea3ae609bde745028edfa5d1148721e0",
            "max": 3,
            "min": 0,
            "orientation": "horizontal",
            "style": "IPY_MODEL_3762471ea27744a2b4cbe6c63afc869c",
            "value": 3
          }
        },
        "fecde342d696450ab4f14ba88b44426e": {
          "model_module": "@jupyter-widgets/controls",
          "model_name": "HTMLModel",
          "model_module_version": "1.5.0",
          "state": {
            "_dom_classes": [],
            "_model_module": "@jupyter-widgets/controls",
            "_model_module_version": "1.5.0",
            "_model_name": "HTMLModel",
            "_view_count": null,
            "_view_module": "@jupyter-widgets/controls",
            "_view_module_version": "1.5.0",
            "_view_name": "HTMLView",
            "description": "",
            "description_tooltip": null,
            "layout": "IPY_MODEL_30f0484c36f545daa72a56337b7a4f22",
            "placeholder": "​",
            "style": "IPY_MODEL_9dc7a49eb0524f5cb1c691743183317f",
            "value": " 3/3 [00:29&lt;00:00,  9.87s/it]"
          }
        },
        "29de44d684e24d1bb4a4857b126db866": {
          "model_module": "@jupyter-widgets/base",
          "model_name": "LayoutModel",
          "model_module_version": "1.2.0",
          "state": {
            "_model_module": "@jupyter-widgets/base",
            "_model_module_version": "1.2.0",
            "_model_name": "LayoutModel",
            "_view_count": null,
            "_view_module": "@jupyter-widgets/base",
            "_view_module_version": "1.2.0",
            "_view_name": "LayoutView",
            "align_content": null,
            "align_items": null,
            "align_self": null,
            "border": null,
            "bottom": null,
            "display": null,
            "flex": null,
            "flex_flow": null,
            "grid_area": null,
            "grid_auto_columns": null,
            "grid_auto_flow": null,
            "grid_auto_rows": null,
            "grid_column": null,
            "grid_gap": null,
            "grid_row": null,
            "grid_template_areas": null,
            "grid_template_columns": null,
            "grid_template_rows": null,
            "height": null,
            "justify_content": null,
            "justify_items": null,
            "left": null,
            "margin": null,
            "max_height": null,
            "max_width": null,
            "min_height": null,
            "min_width": null,
            "object_fit": null,
            "object_position": null,
            "order": null,
            "overflow": null,
            "overflow_x": null,
            "overflow_y": null,
            "padding": null,
            "right": null,
            "top": null,
            "visibility": null,
            "width": null
          }
        },
        "3648232db5104f7cbbcfad852d2c15d8": {
          "model_module": "@jupyter-widgets/base",
          "model_name": "LayoutModel",
          "model_module_version": "1.2.0",
          "state": {
            "_model_module": "@jupyter-widgets/base",
            "_model_module_version": "1.2.0",
            "_model_name": "LayoutModel",
            "_view_count": null,
            "_view_module": "@jupyter-widgets/base",
            "_view_module_version": "1.2.0",
            "_view_name": "LayoutView",
            "align_content": null,
            "align_items": null,
            "align_self": null,
            "border": null,
            "bottom": null,
            "display": null,
            "flex": null,
            "flex_flow": null,
            "grid_area": null,
            "grid_auto_columns": null,
            "grid_auto_flow": null,
            "grid_auto_rows": null,
            "grid_column": null,
            "grid_gap": null,
            "grid_row": null,
            "grid_template_areas": null,
            "grid_template_columns": null,
            "grid_template_rows": null,
            "height": null,
            "justify_content": null,
            "justify_items": null,
            "left": null,
            "margin": null,
            "max_height": null,
            "max_width": null,
            "min_height": null,
            "min_width": null,
            "object_fit": null,
            "object_position": null,
            "order": null,
            "overflow": null,
            "overflow_x": null,
            "overflow_y": null,
            "padding": null,
            "right": null,
            "top": null,
            "visibility": null,
            "width": null
          }
        },
        "073d3bb3042240cba9b1b5bc019089e9": {
          "model_module": "@jupyter-widgets/controls",
          "model_name": "DescriptionStyleModel",
          "model_module_version": "1.5.0",
          "state": {
            "_model_module": "@jupyter-widgets/controls",
            "_model_module_version": "1.5.0",
            "_model_name": "DescriptionStyleModel",
            "_view_count": null,
            "_view_module": "@jupyter-widgets/base",
            "_view_module_version": "1.2.0",
            "_view_name": "StyleView",
            "description_width": ""
          }
        },
        "ea3ae609bde745028edfa5d1148721e0": {
          "model_module": "@jupyter-widgets/base",
          "model_name": "LayoutModel",
          "model_module_version": "1.2.0",
          "state": {
            "_model_module": "@jupyter-widgets/base",
            "_model_module_version": "1.2.0",
            "_model_name": "LayoutModel",
            "_view_count": null,
            "_view_module": "@jupyter-widgets/base",
            "_view_module_version": "1.2.0",
            "_view_name": "LayoutView",
            "align_content": null,
            "align_items": null,
            "align_self": null,
            "border": null,
            "bottom": null,
            "display": null,
            "flex": null,
            "flex_flow": null,
            "grid_area": null,
            "grid_auto_columns": null,
            "grid_auto_flow": null,
            "grid_auto_rows": null,
            "grid_column": null,
            "grid_gap": null,
            "grid_row": null,
            "grid_template_areas": null,
            "grid_template_columns": null,
            "grid_template_rows": null,
            "height": null,
            "justify_content": null,
            "justify_items": null,
            "left": null,
            "margin": null,
            "max_height": null,
            "max_width": null,
            "min_height": null,
            "min_width": null,
            "object_fit": null,
            "object_position": null,
            "order": null,
            "overflow": null,
            "overflow_x": null,
            "overflow_y": null,
            "padding": null,
            "right": null,
            "top": null,
            "visibility": null,
            "width": null
          }
        },
        "3762471ea27744a2b4cbe6c63afc869c": {
          "model_module": "@jupyter-widgets/controls",
          "model_name": "ProgressStyleModel",
          "model_module_version": "1.5.0",
          "state": {
            "_model_module": "@jupyter-widgets/controls",
            "_model_module_version": "1.5.0",
            "_model_name": "ProgressStyleModel",
            "_view_count": null,
            "_view_module": "@jupyter-widgets/base",
            "_view_module_version": "1.2.0",
            "_view_name": "StyleView",
            "bar_color": null,
            "description_width": ""
          }
        },
        "30f0484c36f545daa72a56337b7a4f22": {
          "model_module": "@jupyter-widgets/base",
          "model_name": "LayoutModel",
          "model_module_version": "1.2.0",
          "state": {
            "_model_module": "@jupyter-widgets/base",
            "_model_module_version": "1.2.0",
            "_model_name": "LayoutModel",
            "_view_count": null,
            "_view_module": "@jupyter-widgets/base",
            "_view_module_version": "1.2.0",
            "_view_name": "LayoutView",
            "align_content": null,
            "align_items": null,
            "align_self": null,
            "border": null,
            "bottom": null,
            "display": null,
            "flex": null,
            "flex_flow": null,
            "grid_area": null,
            "grid_auto_columns": null,
            "grid_auto_flow": null,
            "grid_auto_rows": null,
            "grid_column": null,
            "grid_gap": null,
            "grid_row": null,
            "grid_template_areas": null,
            "grid_template_columns": null,
            "grid_template_rows": null,
            "height": null,
            "justify_content": null,
            "justify_items": null,
            "left": null,
            "margin": null,
            "max_height": null,
            "max_width": null,
            "min_height": null,
            "min_width": null,
            "object_fit": null,
            "object_position": null,
            "order": null,
            "overflow": null,
            "overflow_x": null,
            "overflow_y": null,
            "padding": null,
            "right": null,
            "top": null,
            "visibility": null,
            "width": null
          }
        },
        "9dc7a49eb0524f5cb1c691743183317f": {
          "model_module": "@jupyter-widgets/controls",
          "model_name": "DescriptionStyleModel",
          "model_module_version": "1.5.0",
          "state": {
            "_model_module": "@jupyter-widgets/controls",
            "_model_module_version": "1.5.0",
            "_model_name": "DescriptionStyleModel",
            "_view_count": null,
            "_view_module": "@jupyter-widgets/base",
            "_view_module_version": "1.2.0",
            "_view_name": "StyleView",
            "description_width": ""
          }
        },
        "41e2d1089e114d5a89be08e39e37fd3c": {
          "model_module": "@jupyter-widgets/controls",
          "model_name": "HBoxModel",
          "model_module_version": "1.5.0",
          "state": {
            "_dom_classes": [],
            "_model_module": "@jupyter-widgets/controls",
            "_model_module_version": "1.5.0",
            "_model_name": "HBoxModel",
            "_view_count": null,
            "_view_module": "@jupyter-widgets/controls",
            "_view_module_version": "1.5.0",
            "_view_name": "HBoxView",
            "box_style": "",
            "children": [
              "IPY_MODEL_3d60a9538f1545f386a9beb7f5ea6312",
              "IPY_MODEL_6446e16b8bdc4f46895bfc598aab258a",
              "IPY_MODEL_627d207ba08848a5b418d73fa4becf89"
            ],
            "layout": "IPY_MODEL_574293a8c4e54886a5846ef58f90c1d2"
          }
        },
        "3d60a9538f1545f386a9beb7f5ea6312": {
          "model_module": "@jupyter-widgets/controls",
          "model_name": "HTMLModel",
          "model_module_version": "1.5.0",
          "state": {
            "_dom_classes": [],
            "_model_module": "@jupyter-widgets/controls",
            "_model_module_version": "1.5.0",
            "_model_name": "HTMLModel",
            "_view_count": null,
            "_view_module": "@jupyter-widgets/controls",
            "_view_module_version": "1.5.0",
            "_view_name": "HTMLView",
            "description": "",
            "description_tooltip": null,
            "layout": "IPY_MODEL_dec89541b7914c828f395a4aa401e8ed",
            "placeholder": "​",
            "style": "IPY_MODEL_cc543a08626d4baf887e6b2530188647",
            "value": "100%"
          }
        },
        "6446e16b8bdc4f46895bfc598aab258a": {
          "model_module": "@jupyter-widgets/controls",
          "model_name": "FloatProgressModel",
          "model_module_version": "1.5.0",
          "state": {
            "_dom_classes": [],
            "_model_module": "@jupyter-widgets/controls",
            "_model_module_version": "1.5.0",
            "_model_name": "FloatProgressModel",
            "_view_count": null,
            "_view_module": "@jupyter-widgets/controls",
            "_view_module_version": "1.5.0",
            "_view_name": "ProgressView",
            "bar_style": "success",
            "description": "",
            "description_tooltip": null,
            "layout": "IPY_MODEL_a5ae2ed236984c99b77318dbcdd4a0b8",
            "max": 3,
            "min": 0,
            "orientation": "horizontal",
            "style": "IPY_MODEL_fb5891ef58fe48158f87661633b44140",
            "value": 3
          }
        },
        "627d207ba08848a5b418d73fa4becf89": {
          "model_module": "@jupyter-widgets/controls",
          "model_name": "HTMLModel",
          "model_module_version": "1.5.0",
          "state": {
            "_dom_classes": [],
            "_model_module": "@jupyter-widgets/controls",
            "_model_module_version": "1.5.0",
            "_model_name": "HTMLModel",
            "_view_count": null,
            "_view_module": "@jupyter-widgets/controls",
            "_view_module_version": "1.5.0",
            "_view_name": "HTMLView",
            "description": "",
            "description_tooltip": null,
            "layout": "IPY_MODEL_d3c4fced3d534cd584925f7242ed681b",
            "placeholder": "​",
            "style": "IPY_MODEL_d0e1cf9604d346bfa2a3c03032d3908e",
            "value": " 3/3 [00:29&lt;00:00,  9.80s/it]"
          }
        },
        "574293a8c4e54886a5846ef58f90c1d2": {
          "model_module": "@jupyter-widgets/base",
          "model_name": "LayoutModel",
          "model_module_version": "1.2.0",
          "state": {
            "_model_module": "@jupyter-widgets/base",
            "_model_module_version": "1.2.0",
            "_model_name": "LayoutModel",
            "_view_count": null,
            "_view_module": "@jupyter-widgets/base",
            "_view_module_version": "1.2.0",
            "_view_name": "LayoutView",
            "align_content": null,
            "align_items": null,
            "align_self": null,
            "border": null,
            "bottom": null,
            "display": null,
            "flex": null,
            "flex_flow": null,
            "grid_area": null,
            "grid_auto_columns": null,
            "grid_auto_flow": null,
            "grid_auto_rows": null,
            "grid_column": null,
            "grid_gap": null,
            "grid_row": null,
            "grid_template_areas": null,
            "grid_template_columns": null,
            "grid_template_rows": null,
            "height": null,
            "justify_content": null,
            "justify_items": null,
            "left": null,
            "margin": null,
            "max_height": null,
            "max_width": null,
            "min_height": null,
            "min_width": null,
            "object_fit": null,
            "object_position": null,
            "order": null,
            "overflow": null,
            "overflow_x": null,
            "overflow_y": null,
            "padding": null,
            "right": null,
            "top": null,
            "visibility": null,
            "width": null
          }
        },
        "dec89541b7914c828f395a4aa401e8ed": {
          "model_module": "@jupyter-widgets/base",
          "model_name": "LayoutModel",
          "model_module_version": "1.2.0",
          "state": {
            "_model_module": "@jupyter-widgets/base",
            "_model_module_version": "1.2.0",
            "_model_name": "LayoutModel",
            "_view_count": null,
            "_view_module": "@jupyter-widgets/base",
            "_view_module_version": "1.2.0",
            "_view_name": "LayoutView",
            "align_content": null,
            "align_items": null,
            "align_self": null,
            "border": null,
            "bottom": null,
            "display": null,
            "flex": null,
            "flex_flow": null,
            "grid_area": null,
            "grid_auto_columns": null,
            "grid_auto_flow": null,
            "grid_auto_rows": null,
            "grid_column": null,
            "grid_gap": null,
            "grid_row": null,
            "grid_template_areas": null,
            "grid_template_columns": null,
            "grid_template_rows": null,
            "height": null,
            "justify_content": null,
            "justify_items": null,
            "left": null,
            "margin": null,
            "max_height": null,
            "max_width": null,
            "min_height": null,
            "min_width": null,
            "object_fit": null,
            "object_position": null,
            "order": null,
            "overflow": null,
            "overflow_x": null,
            "overflow_y": null,
            "padding": null,
            "right": null,
            "top": null,
            "visibility": null,
            "width": null
          }
        },
        "cc543a08626d4baf887e6b2530188647": {
          "model_module": "@jupyter-widgets/controls",
          "model_name": "DescriptionStyleModel",
          "model_module_version": "1.5.0",
          "state": {
            "_model_module": "@jupyter-widgets/controls",
            "_model_module_version": "1.5.0",
            "_model_name": "DescriptionStyleModel",
            "_view_count": null,
            "_view_module": "@jupyter-widgets/base",
            "_view_module_version": "1.2.0",
            "_view_name": "StyleView",
            "description_width": ""
          }
        },
        "a5ae2ed236984c99b77318dbcdd4a0b8": {
          "model_module": "@jupyter-widgets/base",
          "model_name": "LayoutModel",
          "model_module_version": "1.2.0",
          "state": {
            "_model_module": "@jupyter-widgets/base",
            "_model_module_version": "1.2.0",
            "_model_name": "LayoutModel",
            "_view_count": null,
            "_view_module": "@jupyter-widgets/base",
            "_view_module_version": "1.2.0",
            "_view_name": "LayoutView",
            "align_content": null,
            "align_items": null,
            "align_self": null,
            "border": null,
            "bottom": null,
            "display": null,
            "flex": null,
            "flex_flow": null,
            "grid_area": null,
            "grid_auto_columns": null,
            "grid_auto_flow": null,
            "grid_auto_rows": null,
            "grid_column": null,
            "grid_gap": null,
            "grid_row": null,
            "grid_template_areas": null,
            "grid_template_columns": null,
            "grid_template_rows": null,
            "height": null,
            "justify_content": null,
            "justify_items": null,
            "left": null,
            "margin": null,
            "max_height": null,
            "max_width": null,
            "min_height": null,
            "min_width": null,
            "object_fit": null,
            "object_position": null,
            "order": null,
            "overflow": null,
            "overflow_x": null,
            "overflow_y": null,
            "padding": null,
            "right": null,
            "top": null,
            "visibility": null,
            "width": null
          }
        },
        "fb5891ef58fe48158f87661633b44140": {
          "model_module": "@jupyter-widgets/controls",
          "model_name": "ProgressStyleModel",
          "model_module_version": "1.5.0",
          "state": {
            "_model_module": "@jupyter-widgets/controls",
            "_model_module_version": "1.5.0",
            "_model_name": "ProgressStyleModel",
            "_view_count": null,
            "_view_module": "@jupyter-widgets/base",
            "_view_module_version": "1.2.0",
            "_view_name": "StyleView",
            "bar_color": null,
            "description_width": ""
          }
        },
        "d3c4fced3d534cd584925f7242ed681b": {
          "model_module": "@jupyter-widgets/base",
          "model_name": "LayoutModel",
          "model_module_version": "1.2.0",
          "state": {
            "_model_module": "@jupyter-widgets/base",
            "_model_module_version": "1.2.0",
            "_model_name": "LayoutModel",
            "_view_count": null,
            "_view_module": "@jupyter-widgets/base",
            "_view_module_version": "1.2.0",
            "_view_name": "LayoutView",
            "align_content": null,
            "align_items": null,
            "align_self": null,
            "border": null,
            "bottom": null,
            "display": null,
            "flex": null,
            "flex_flow": null,
            "grid_area": null,
            "grid_auto_columns": null,
            "grid_auto_flow": null,
            "grid_auto_rows": null,
            "grid_column": null,
            "grid_gap": null,
            "grid_row": null,
            "grid_template_areas": null,
            "grid_template_columns": null,
            "grid_template_rows": null,
            "height": null,
            "justify_content": null,
            "justify_items": null,
            "left": null,
            "margin": null,
            "max_height": null,
            "max_width": null,
            "min_height": null,
            "min_width": null,
            "object_fit": null,
            "object_position": null,
            "order": null,
            "overflow": null,
            "overflow_x": null,
            "overflow_y": null,
            "padding": null,
            "right": null,
            "top": null,
            "visibility": null,
            "width": null
          }
        },
        "d0e1cf9604d346bfa2a3c03032d3908e": {
          "model_module": "@jupyter-widgets/controls",
          "model_name": "DescriptionStyleModel",
          "model_module_version": "1.5.0",
          "state": {
            "_model_module": "@jupyter-widgets/controls",
            "_model_module_version": "1.5.0",
            "_model_name": "DescriptionStyleModel",
            "_view_count": null,
            "_view_module": "@jupyter-widgets/base",
            "_view_module_version": "1.2.0",
            "_view_name": "StyleView",
            "description_width": ""
          }
        },
        "583152ac4a6447008f6671fe064d53a2": {
          "model_module": "@jupyter-widgets/controls",
          "model_name": "HBoxModel",
          "model_module_version": "1.5.0",
          "state": {
            "_dom_classes": [],
            "_model_module": "@jupyter-widgets/controls",
            "_model_module_version": "1.5.0",
            "_model_name": "HBoxModel",
            "_view_count": null,
            "_view_module": "@jupyter-widgets/controls",
            "_view_module_version": "1.5.0",
            "_view_name": "HBoxView",
            "box_style": "",
            "children": [
              "IPY_MODEL_33c1fd5c95d94a24a51fabc0669abf31",
              "IPY_MODEL_5c1b1a9590234272b6063def386d4051",
              "IPY_MODEL_d5833d187003448fa219293719e726f6"
            ],
            "layout": "IPY_MODEL_990e40f6717e470ba6d281a73aa568c3"
          }
        },
        "33c1fd5c95d94a24a51fabc0669abf31": {
          "model_module": "@jupyter-widgets/controls",
          "model_name": "HTMLModel",
          "model_module_version": "1.5.0",
          "state": {
            "_dom_classes": [],
            "_model_module": "@jupyter-widgets/controls",
            "_model_module_version": "1.5.0",
            "_model_name": "HTMLModel",
            "_view_count": null,
            "_view_module": "@jupyter-widgets/controls",
            "_view_module_version": "1.5.0",
            "_view_name": "HTMLView",
            "description": "",
            "description_tooltip": null,
            "layout": "IPY_MODEL_59544960c5f44c7caa151fa159447709",
            "placeholder": "​",
            "style": "IPY_MODEL_5d9f3fb529e04b949d130af92eb3a92e",
            "value": "100%"
          }
        },
        "5c1b1a9590234272b6063def386d4051": {
          "model_module": "@jupyter-widgets/controls",
          "model_name": "FloatProgressModel",
          "model_module_version": "1.5.0",
          "state": {
            "_dom_classes": [],
            "_model_module": "@jupyter-widgets/controls",
            "_model_module_version": "1.5.0",
            "_model_name": "FloatProgressModel",
            "_view_count": null,
            "_view_module": "@jupyter-widgets/controls",
            "_view_module_version": "1.5.0",
            "_view_name": "ProgressView",
            "bar_style": "success",
            "description": "",
            "description_tooltip": null,
            "layout": "IPY_MODEL_6cdb2f6595f9470cbb26fe1fc7d1d4dc",
            "max": 3,
            "min": 0,
            "orientation": "horizontal",
            "style": "IPY_MODEL_d94df373b19d4de3a75b5f46c7b1ef14",
            "value": 3
          }
        },
        "d5833d187003448fa219293719e726f6": {
          "model_module": "@jupyter-widgets/controls",
          "model_name": "HTMLModel",
          "model_module_version": "1.5.0",
          "state": {
            "_dom_classes": [],
            "_model_module": "@jupyter-widgets/controls",
            "_model_module_version": "1.5.0",
            "_model_name": "HTMLModel",
            "_view_count": null,
            "_view_module": "@jupyter-widgets/controls",
            "_view_module_version": "1.5.0",
            "_view_name": "HTMLView",
            "description": "",
            "description_tooltip": null,
            "layout": "IPY_MODEL_d14f2e6a13234b348d201cb4432d92eb",
            "placeholder": "​",
            "style": "IPY_MODEL_7e8c1556172d4ef58f7cadbc9d35a683",
            "value": " 3/3 [02:30&lt;00:00, 50.15s/it]"
          }
        },
        "990e40f6717e470ba6d281a73aa568c3": {
          "model_module": "@jupyter-widgets/base",
          "model_name": "LayoutModel",
          "model_module_version": "1.2.0",
          "state": {
            "_model_module": "@jupyter-widgets/base",
            "_model_module_version": "1.2.0",
            "_model_name": "LayoutModel",
            "_view_count": null,
            "_view_module": "@jupyter-widgets/base",
            "_view_module_version": "1.2.0",
            "_view_name": "LayoutView",
            "align_content": null,
            "align_items": null,
            "align_self": null,
            "border": null,
            "bottom": null,
            "display": null,
            "flex": null,
            "flex_flow": null,
            "grid_area": null,
            "grid_auto_columns": null,
            "grid_auto_flow": null,
            "grid_auto_rows": null,
            "grid_column": null,
            "grid_gap": null,
            "grid_row": null,
            "grid_template_areas": null,
            "grid_template_columns": null,
            "grid_template_rows": null,
            "height": null,
            "justify_content": null,
            "justify_items": null,
            "left": null,
            "margin": null,
            "max_height": null,
            "max_width": null,
            "min_height": null,
            "min_width": null,
            "object_fit": null,
            "object_position": null,
            "order": null,
            "overflow": null,
            "overflow_x": null,
            "overflow_y": null,
            "padding": null,
            "right": null,
            "top": null,
            "visibility": null,
            "width": null
          }
        },
        "59544960c5f44c7caa151fa159447709": {
          "model_module": "@jupyter-widgets/base",
          "model_name": "LayoutModel",
          "model_module_version": "1.2.0",
          "state": {
            "_model_module": "@jupyter-widgets/base",
            "_model_module_version": "1.2.0",
            "_model_name": "LayoutModel",
            "_view_count": null,
            "_view_module": "@jupyter-widgets/base",
            "_view_module_version": "1.2.0",
            "_view_name": "LayoutView",
            "align_content": null,
            "align_items": null,
            "align_self": null,
            "border": null,
            "bottom": null,
            "display": null,
            "flex": null,
            "flex_flow": null,
            "grid_area": null,
            "grid_auto_columns": null,
            "grid_auto_flow": null,
            "grid_auto_rows": null,
            "grid_column": null,
            "grid_gap": null,
            "grid_row": null,
            "grid_template_areas": null,
            "grid_template_columns": null,
            "grid_template_rows": null,
            "height": null,
            "justify_content": null,
            "justify_items": null,
            "left": null,
            "margin": null,
            "max_height": null,
            "max_width": null,
            "min_height": null,
            "min_width": null,
            "object_fit": null,
            "object_position": null,
            "order": null,
            "overflow": null,
            "overflow_x": null,
            "overflow_y": null,
            "padding": null,
            "right": null,
            "top": null,
            "visibility": null,
            "width": null
          }
        },
        "5d9f3fb529e04b949d130af92eb3a92e": {
          "model_module": "@jupyter-widgets/controls",
          "model_name": "DescriptionStyleModel",
          "model_module_version": "1.5.0",
          "state": {
            "_model_module": "@jupyter-widgets/controls",
            "_model_module_version": "1.5.0",
            "_model_name": "DescriptionStyleModel",
            "_view_count": null,
            "_view_module": "@jupyter-widgets/base",
            "_view_module_version": "1.2.0",
            "_view_name": "StyleView",
            "description_width": ""
          }
        },
        "6cdb2f6595f9470cbb26fe1fc7d1d4dc": {
          "model_module": "@jupyter-widgets/base",
          "model_name": "LayoutModel",
          "model_module_version": "1.2.0",
          "state": {
            "_model_module": "@jupyter-widgets/base",
            "_model_module_version": "1.2.0",
            "_model_name": "LayoutModel",
            "_view_count": null,
            "_view_module": "@jupyter-widgets/base",
            "_view_module_version": "1.2.0",
            "_view_name": "LayoutView",
            "align_content": null,
            "align_items": null,
            "align_self": null,
            "border": null,
            "bottom": null,
            "display": null,
            "flex": null,
            "flex_flow": null,
            "grid_area": null,
            "grid_auto_columns": null,
            "grid_auto_flow": null,
            "grid_auto_rows": null,
            "grid_column": null,
            "grid_gap": null,
            "grid_row": null,
            "grid_template_areas": null,
            "grid_template_columns": null,
            "grid_template_rows": null,
            "height": null,
            "justify_content": null,
            "justify_items": null,
            "left": null,
            "margin": null,
            "max_height": null,
            "max_width": null,
            "min_height": null,
            "min_width": null,
            "object_fit": null,
            "object_position": null,
            "order": null,
            "overflow": null,
            "overflow_x": null,
            "overflow_y": null,
            "padding": null,
            "right": null,
            "top": null,
            "visibility": null,
            "width": null
          }
        },
        "d94df373b19d4de3a75b5f46c7b1ef14": {
          "model_module": "@jupyter-widgets/controls",
          "model_name": "ProgressStyleModel",
          "model_module_version": "1.5.0",
          "state": {
            "_model_module": "@jupyter-widgets/controls",
            "_model_module_version": "1.5.0",
            "_model_name": "ProgressStyleModel",
            "_view_count": null,
            "_view_module": "@jupyter-widgets/base",
            "_view_module_version": "1.2.0",
            "_view_name": "StyleView",
            "bar_color": null,
            "description_width": ""
          }
        },
        "d14f2e6a13234b348d201cb4432d92eb": {
          "model_module": "@jupyter-widgets/base",
          "model_name": "LayoutModel",
          "model_module_version": "1.2.0",
          "state": {
            "_model_module": "@jupyter-widgets/base",
            "_model_module_version": "1.2.0",
            "_model_name": "LayoutModel",
            "_view_count": null,
            "_view_module": "@jupyter-widgets/base",
            "_view_module_version": "1.2.0",
            "_view_name": "LayoutView",
            "align_content": null,
            "align_items": null,
            "align_self": null,
            "border": null,
            "bottom": null,
            "display": null,
            "flex": null,
            "flex_flow": null,
            "grid_area": null,
            "grid_auto_columns": null,
            "grid_auto_flow": null,
            "grid_auto_rows": null,
            "grid_column": null,
            "grid_gap": null,
            "grid_row": null,
            "grid_template_areas": null,
            "grid_template_columns": null,
            "grid_template_rows": null,
            "height": null,
            "justify_content": null,
            "justify_items": null,
            "left": null,
            "margin": null,
            "max_height": null,
            "max_width": null,
            "min_height": null,
            "min_width": null,
            "object_fit": null,
            "object_position": null,
            "order": null,
            "overflow": null,
            "overflow_x": null,
            "overflow_y": null,
            "padding": null,
            "right": null,
            "top": null,
            "visibility": null,
            "width": null
          }
        },
        "7e8c1556172d4ef58f7cadbc9d35a683": {
          "model_module": "@jupyter-widgets/controls",
          "model_name": "DescriptionStyleModel",
          "model_module_version": "1.5.0",
          "state": {
            "_model_module": "@jupyter-widgets/controls",
            "_model_module_version": "1.5.0",
            "_model_name": "DescriptionStyleModel",
            "_view_count": null,
            "_view_module": "@jupyter-widgets/base",
            "_view_module_version": "1.2.0",
            "_view_name": "StyleView",
            "description_width": ""
          }
        },
        "8550167d24e94b8db083bb2ae0ef00ea": {
          "model_module": "@jupyter-widgets/controls",
          "model_name": "HBoxModel",
          "model_module_version": "1.5.0",
          "state": {
            "_dom_classes": [],
            "_model_module": "@jupyter-widgets/controls",
            "_model_module_version": "1.5.0",
            "_model_name": "HBoxModel",
            "_view_count": null,
            "_view_module": "@jupyter-widgets/controls",
            "_view_module_version": "1.5.0",
            "_view_name": "HBoxView",
            "box_style": "",
            "children": [
              "IPY_MODEL_75ab488e755a4794b8645b8772edb7b2",
              "IPY_MODEL_ef023c673afa4d09b5fd27324081fa32",
              "IPY_MODEL_764e419bc47c4297b5b4aed1841051a9"
            ],
            "layout": "IPY_MODEL_e99a05be1fbc47b9a6cc5320155c143f"
          }
        },
        "75ab488e755a4794b8645b8772edb7b2": {
          "model_module": "@jupyter-widgets/controls",
          "model_name": "HTMLModel",
          "model_module_version": "1.5.0",
          "state": {
            "_dom_classes": [],
            "_model_module": "@jupyter-widgets/controls",
            "_model_module_version": "1.5.0",
            "_model_name": "HTMLModel",
            "_view_count": null,
            "_view_module": "@jupyter-widgets/controls",
            "_view_module_version": "1.5.0",
            "_view_name": "HTMLView",
            "description": "",
            "description_tooltip": null,
            "layout": "IPY_MODEL_6b34609a63fe4df792f5384bc126b5fa",
            "placeholder": "​",
            "style": "IPY_MODEL_5f9fbcac79f940b585021540762c596c",
            "value": "Making predictions: 100%"
          }
        },
        "ef023c673afa4d09b5fd27324081fa32": {
          "model_module": "@jupyter-widgets/controls",
          "model_name": "FloatProgressModel",
          "model_module_version": "1.5.0",
          "state": {
            "_dom_classes": [],
            "_model_module": "@jupyter-widgets/controls",
            "_model_module_version": "1.5.0",
            "_model_name": "FloatProgressModel",
            "_view_count": null,
            "_view_module": "@jupyter-widgets/controls",
            "_view_module_version": "1.5.0",
            "_view_name": "ProgressView",
            "bar_style": "success",
            "description": "",
            "description_tooltip": null,
            "layout": "IPY_MODEL_7309b334f44843f7bbcdadcaa81e0605",
            "max": 313,
            "min": 0,
            "orientation": "horizontal",
            "style": "IPY_MODEL_d9403136b5a2438591a3900ea358c667",
            "value": 313
          }
        },
        "764e419bc47c4297b5b4aed1841051a9": {
          "model_module": "@jupyter-widgets/controls",
          "model_name": "HTMLModel",
          "model_module_version": "1.5.0",
          "state": {
            "_dom_classes": [],
            "_model_module": "@jupyter-widgets/controls",
            "_model_module_version": "1.5.0",
            "_model_name": "HTMLModel",
            "_view_count": null,
            "_view_module": "@jupyter-widgets/controls",
            "_view_module_version": "1.5.0",
            "_view_name": "HTMLView",
            "description": "",
            "description_tooltip": null,
            "layout": "IPY_MODEL_e8f8eb9ea4cf46428b6023455e3b481b",
            "placeholder": "​",
            "style": "IPY_MODEL_02e9de85562c443f9e340377b7cc1c81",
            "value": " 313/313 [00:03&lt;00:00, 84.06it/s]"
          }
        },
        "e99a05be1fbc47b9a6cc5320155c143f": {
          "model_module": "@jupyter-widgets/base",
          "model_name": "LayoutModel",
          "model_module_version": "1.2.0",
          "state": {
            "_model_module": "@jupyter-widgets/base",
            "_model_module_version": "1.2.0",
            "_model_name": "LayoutModel",
            "_view_count": null,
            "_view_module": "@jupyter-widgets/base",
            "_view_module_version": "1.2.0",
            "_view_name": "LayoutView",
            "align_content": null,
            "align_items": null,
            "align_self": null,
            "border": null,
            "bottom": null,
            "display": null,
            "flex": null,
            "flex_flow": null,
            "grid_area": null,
            "grid_auto_columns": null,
            "grid_auto_flow": null,
            "grid_auto_rows": null,
            "grid_column": null,
            "grid_gap": null,
            "grid_row": null,
            "grid_template_areas": null,
            "grid_template_columns": null,
            "grid_template_rows": null,
            "height": null,
            "justify_content": null,
            "justify_items": null,
            "left": null,
            "margin": null,
            "max_height": null,
            "max_width": null,
            "min_height": null,
            "min_width": null,
            "object_fit": null,
            "object_position": null,
            "order": null,
            "overflow": null,
            "overflow_x": null,
            "overflow_y": null,
            "padding": null,
            "right": null,
            "top": null,
            "visibility": null,
            "width": null
          }
        },
        "6b34609a63fe4df792f5384bc126b5fa": {
          "model_module": "@jupyter-widgets/base",
          "model_name": "LayoutModel",
          "model_module_version": "1.2.0",
          "state": {
            "_model_module": "@jupyter-widgets/base",
            "_model_module_version": "1.2.0",
            "_model_name": "LayoutModel",
            "_view_count": null,
            "_view_module": "@jupyter-widgets/base",
            "_view_module_version": "1.2.0",
            "_view_name": "LayoutView",
            "align_content": null,
            "align_items": null,
            "align_self": null,
            "border": null,
            "bottom": null,
            "display": null,
            "flex": null,
            "flex_flow": null,
            "grid_area": null,
            "grid_auto_columns": null,
            "grid_auto_flow": null,
            "grid_auto_rows": null,
            "grid_column": null,
            "grid_gap": null,
            "grid_row": null,
            "grid_template_areas": null,
            "grid_template_columns": null,
            "grid_template_rows": null,
            "height": null,
            "justify_content": null,
            "justify_items": null,
            "left": null,
            "margin": null,
            "max_height": null,
            "max_width": null,
            "min_height": null,
            "min_width": null,
            "object_fit": null,
            "object_position": null,
            "order": null,
            "overflow": null,
            "overflow_x": null,
            "overflow_y": null,
            "padding": null,
            "right": null,
            "top": null,
            "visibility": null,
            "width": null
          }
        },
        "5f9fbcac79f940b585021540762c596c": {
          "model_module": "@jupyter-widgets/controls",
          "model_name": "DescriptionStyleModel",
          "model_module_version": "1.5.0",
          "state": {
            "_model_module": "@jupyter-widgets/controls",
            "_model_module_version": "1.5.0",
            "_model_name": "DescriptionStyleModel",
            "_view_count": null,
            "_view_module": "@jupyter-widgets/base",
            "_view_module_version": "1.2.0",
            "_view_name": "StyleView",
            "description_width": ""
          }
        },
        "7309b334f44843f7bbcdadcaa81e0605": {
          "model_module": "@jupyter-widgets/base",
          "model_name": "LayoutModel",
          "model_module_version": "1.2.0",
          "state": {
            "_model_module": "@jupyter-widgets/base",
            "_model_module_version": "1.2.0",
            "_model_name": "LayoutModel",
            "_view_count": null,
            "_view_module": "@jupyter-widgets/base",
            "_view_module_version": "1.2.0",
            "_view_name": "LayoutView",
            "align_content": null,
            "align_items": null,
            "align_self": null,
            "border": null,
            "bottom": null,
            "display": null,
            "flex": null,
            "flex_flow": null,
            "grid_area": null,
            "grid_auto_columns": null,
            "grid_auto_flow": null,
            "grid_auto_rows": null,
            "grid_column": null,
            "grid_gap": null,
            "grid_row": null,
            "grid_template_areas": null,
            "grid_template_columns": null,
            "grid_template_rows": null,
            "height": null,
            "justify_content": null,
            "justify_items": null,
            "left": null,
            "margin": null,
            "max_height": null,
            "max_width": null,
            "min_height": null,
            "min_width": null,
            "object_fit": null,
            "object_position": null,
            "order": null,
            "overflow": null,
            "overflow_x": null,
            "overflow_y": null,
            "padding": null,
            "right": null,
            "top": null,
            "visibility": null,
            "width": null
          }
        },
        "d9403136b5a2438591a3900ea358c667": {
          "model_module": "@jupyter-widgets/controls",
          "model_name": "ProgressStyleModel",
          "model_module_version": "1.5.0",
          "state": {
            "_model_module": "@jupyter-widgets/controls",
            "_model_module_version": "1.5.0",
            "_model_name": "ProgressStyleModel",
            "_view_count": null,
            "_view_module": "@jupyter-widgets/base",
            "_view_module_version": "1.2.0",
            "_view_name": "StyleView",
            "bar_color": null,
            "description_width": ""
          }
        },
        "e8f8eb9ea4cf46428b6023455e3b481b": {
          "model_module": "@jupyter-widgets/base",
          "model_name": "LayoutModel",
          "model_module_version": "1.2.0",
          "state": {
            "_model_module": "@jupyter-widgets/base",
            "_model_module_version": "1.2.0",
            "_model_name": "LayoutModel",
            "_view_count": null,
            "_view_module": "@jupyter-widgets/base",
            "_view_module_version": "1.2.0",
            "_view_name": "LayoutView",
            "align_content": null,
            "align_items": null,
            "align_self": null,
            "border": null,
            "bottom": null,
            "display": null,
            "flex": null,
            "flex_flow": null,
            "grid_area": null,
            "grid_auto_columns": null,
            "grid_auto_flow": null,
            "grid_auto_rows": null,
            "grid_column": null,
            "grid_gap": null,
            "grid_row": null,
            "grid_template_areas": null,
            "grid_template_columns": null,
            "grid_template_rows": null,
            "height": null,
            "justify_content": null,
            "justify_items": null,
            "left": null,
            "margin": null,
            "max_height": null,
            "max_width": null,
            "min_height": null,
            "min_width": null,
            "object_fit": null,
            "object_position": null,
            "order": null,
            "overflow": null,
            "overflow_x": null,
            "overflow_y": null,
            "padding": null,
            "right": null,
            "top": null,
            "visibility": null,
            "width": null
          }
        },
        "02e9de85562c443f9e340377b7cc1c81": {
          "model_module": "@jupyter-widgets/controls",
          "model_name": "DescriptionStyleModel",
          "model_module_version": "1.5.0",
          "state": {
            "_model_module": "@jupyter-widgets/controls",
            "_model_module_version": "1.5.0",
            "_model_name": "DescriptionStyleModel",
            "_view_count": null,
            "_view_module": "@jupyter-widgets/base",
            "_view_module_version": "1.2.0",
            "_view_name": "StyleView",
            "description_width": ""
          }
        }
      }
    }
  },
  "cells": [
    {
      "cell_type": "markdown",
      "metadata": {
        "id": "view-in-github",
        "colab_type": "text"
      },
      "source": [
        "<a href=\"https://colab.research.google.com/github/rohandhunde/12_Mnist_image_Classification-Pytorch-/blob/main/Computer_Vision.ipynb\" target=\"_parent\"><img src=\"https://colab.research.google.com/assets/colab-badge.svg\" alt=\"Open In Colab\"/></a>"
      ]
    },
    {
      "cell_type": "code",
      "execution_count": 178,
      "metadata": {
        "colab": {
          "base_uri": "https://localhost:8080/"
        },
        "id": "ss-KqIHMJgzj",
        "outputId": "2925167f-83a8-4244-de92-b89e7397830d"
      },
      "outputs": [
        {
          "output_type": "stream",
          "name": "stdout",
          "text": [
            "2.5.1+cu121\n",
            "0.20.1+cu121\n"
          ]
        }
      ],
      "source": [
        "import torch\n",
        "from torch import nn\n",
        "\n",
        "# import torchvision\n",
        "import torchvision\n",
        "from torchvision import datasets\n",
        "from torchvision import transforms\n",
        "from torchvision.transforms import ToTensor\n",
        "\n",
        "# import matplotlib\n",
        "import matplotlib.pyplot as plt\n",
        "\n",
        "# Check versions\n",
        "print(torch.__version__)\n",
        "print(torchvision.__version__)\n"
      ]
    },
    {
      "cell_type": "code",
      "source": [],
      "metadata": {
        "id": "jt_EgoKmK1w4"
      },
      "execution_count": 178,
      "outputs": []
    },
    {
      "cell_type": "markdown",
      "source": [
        "\n",
        "\n",
        "```\n",
        "# This is formatted as code\n",
        "```\n",
        "\n",
        "# 1. Getting a Dataset"
      ],
      "metadata": {
        "id": "HUwko4I_K3Jl"
      }
    },
    {
      "cell_type": "code",
      "source": [
        "from torchvision import datasets\n",
        "from torchvision.transforms import ToTensor\n",
        "\n",
        "train_data = datasets.FashionMNIST(\n",
        "    root = 'data',\n",
        "    train = True,\n",
        "    transform = torchvision.transforms.ToTensor(),\n",
        "    download = True,\n",
        "    target_transform=None\n",
        ")\n",
        "test_data = datasets.FashionMNIST(\n",
        "    root = 'data',\n",
        "    train = True,\n",
        "    transform = torchvision.transforms.ToTensor(),\n",
        "    download = True,\n",
        "    target_transform=None\n",
        ")"
      ],
      "metadata": {
        "id": "1sxe4kTtK7uq"
      },
      "execution_count": 179,
      "outputs": []
    },
    {
      "cell_type": "code",
      "source": [
        "from torchvision import datasets\n",
        "from torchvision.transforms import ToTensor\n",
        "\n",
        "train_data = datasets.FashionMNIST(\n",
        "    root='data',\n",
        "    train=True,\n",
        "    transform=torchvision.transforms.ToTensor(),\n",
        "    download=True,\n",
        "    target_transform=None\n",
        ")\n",
        "\n",
        "test_data = datasets.FashionMNIST(\n",
        "    root='data',\n",
        "    train=False,\n",
        "    transform=torchvision.transforms.ToTensor(),\n",
        "    download=True,\n",
        "    target_transform=None\n",
        ")"
      ],
      "metadata": {
        "id": "Bxv23uvoUTDR"
      },
      "execution_count": 180,
      "outputs": []
    },
    {
      "cell_type": "code",
      "source": [
        "len(train_data), len(test_data)"
      ],
      "metadata": {
        "colab": {
          "base_uri": "https://localhost:8080/"
        },
        "id": "RyrprsebY8Q6",
        "outputId": "ecce1ce0-7240-4617-ac30-e8590c5d7afd"
      },
      "execution_count": 181,
      "outputs": [
        {
          "output_type": "execute_result",
          "data": {
            "text/plain": [
              "(60000, 10000)"
            ]
          },
          "metadata": {},
          "execution_count": 181
        }
      ]
    },
    {
      "cell_type": "markdown",
      "source": [
        "1.1 Shape of the data\n",
        "\n",
        "```\n",
        "# This is formatted as code\n",
        "```\n",
        "\n"
      ],
      "metadata": {
        "id": "EpdgiXyfJ5c2"
      }
    },
    {
      "cell_type": "code",
      "source": [
        "plt.subplot(2,2,1)\n",
        "plt.imshow(train_data[0][0][0], cmap='gray')\n",
        "\n",
        "plt.subplot(2,2,2)\n",
        "plt.imshow(test_data[0][0][0], cmap='gray')"
      ],
      "metadata": {
        "colab": {
          "base_uri": "https://localhost:8080/",
          "height": 248
        },
        "id": "y8-v-zzKZKG9",
        "outputId": "63523a36-bfee-41da-becc-91ff8bf0b18b"
      },
      "execution_count": 182,
      "outputs": [
        {
          "output_type": "execute_result",
          "data": {
            "text/plain": [
              "<matplotlib.image.AxesImage at 0x7b4847586f50>"
            ]
          },
          "metadata": {},
          "execution_count": 182
        },
        {
          "output_type": "display_data",
          "data": {
            "text/plain": [
              "<Figure size 640x480 with 2 Axes>"
            ],
            "image/png": "[encoded data removed]"
          },
          "metadata": {}
        }
      ]
    },
    {
      "cell_type": "code",
      "source": [
        "image, label = train_data[0]\n",
        "image, label"
      ],
      "metadata": {
        "colab": {
          "base_uri": "https://localhost:8080/"
        },
        "collapsed": true,
        "id": "kBFnoTwsaf7N",
        "outputId": "ced7e6a3-c08e-49e9-b9f9-f754fb9e9f60"
      },
      "execution_count": 183,
      "outputs": [
        {
          "output_type": "execute_result",
          "data": {
            "text/plain": [
              "(tensor([[[0.0000, 0.0000, 0.0000, 0.0000, 0.0000, 0.0000, 0.0000, 0.0000,\n",
              "           0.0000, 0.0000, 0.0000, 0.0000, 0.0000, 0.0000, 0.0000, 0.0000,\n",
              "           0.0000, 0.0000, 0.0000, 0.0000, 0.0000, 0.0000, 0.0000, 0.0000,\n",
              "           0.0000, 0.0000, 0.0000, 0.0000],\n",
              "          [0.0000, 0.0000, 0.0000, 0.0000, 0.0000, 0.0000, 0.0000, 0.0000,\n",
              "           0.0000, 0.0000, 0.0000, 0.0000, 0.0000, 0.0000, 0.0000, 0.0000,\n",
              "           0.0000, 0.0000, 0.0000, 0.0000, 0.0000, 0.0000, 0.0000, 0.0000,\n",
              "           0.0000, 0.0000, 0.0000, 0.0000],\n",
              "          [0.0000, 0.0000, 0.0000, 0.0000, 0.0000, 0.0000, 0.0000, 0.0000,\n",
              "           0.0000, 0.0000, 0.0000, 0.0000, 0.0000, 0.0000, 0.0000, 0.0000,\n",
              "           0.0000, 0.0000, 0.0000, 0.0000, 0.0000, 0.0000, 0.0000, 0.0000,\n",
              "           0.0000, 0.0000, 0.0000, 0.0000],\n",
              "          [0.0000, 0.0000, 0.0000, 0.0000, 0.0000, 0.0000, 0.0000, 0.0000,\n",
              "           0.0000, 0.0000, 0.0000, 0.0000, 0.0039, 0.0000, 0.0000, 0.0510,\n",
              "           0.2863, 0.0000, 0.0000, 0.0039, 0.0157, 0.0000, 0.0000, 0.0000,\n",
              "           0.0000, 0.0039, 0.0039, 0.0000],\n",
              "          [0.0000, 0.0000, 0.0000, 0.0000, 0.0000, 0.0000, 0.0000, 0.0000,\n",
              "           0.0000, 0.0000, 0.0000, 0.0000, 0.0118, 0.0000, 0.1412, 0.5333,\n",
              "           0.4980, 0.2431, 0.2118, 0.0000, 0.0000, 0.0000, 0.0039, 0.0118,\n",
              "           0.0157, 0.0000, 0.0000, 0.0118],\n",
              "          [0.0000, 0.0000, 0.0000, 0.0000, 0.0000, 0.0000, 0.0000, 0.0000,\n",
              "           0.0000, 0.0000, 0.0000, 0.0000, 0.0235, 0.0000, 0.4000, 0.8000,\n",
              "           0.6902, 0.5255, 0.5647, 0.4824, 0.0902, 0.0000, 0.0000, 0.0000,\n",
              "           0.0000, 0.0471, 0.0392, 0.0000],\n",
              "          [0.0000, 0.0000, 0.0000, 0.0000, 0.0000, 0.0000, 0.0000, 0.0000,\n",
              "           0.0000, 0.0000, 0.0000, 0.0000, 0.0000, 0.0000, 0.6078, 0.9255,\n",
              "           0.8118, 0.6980, 0.4196, 0.6118, 0.6314, 0.4275, 0.2510, 0.0902,\n",
              "           0.3020, 0.5098, 0.2824, 0.0588],\n",
              "          [0.0000, 0.0000, 0.0000, 0.0000, 0.0000, 0.0000, 0.0000, 0.0000,\n",
              "           0.0000, 0.0000, 0.0000, 0.0039, 0.0000, 0.2706, 0.8118, 0.8745,\n",
              "           0.8549, 0.8471, 0.8471, 0.6392, 0.4980, 0.4745, 0.4784, 0.5725,\n",
              "           0.5529, 0.3451, 0.6745, 0.2588],\n",
              "          [0.0000, 0.0000, 0.0000, 0.0000, 0.0000, 0.0000, 0.0000, 0.0000,\n",
              "           0.0000, 0.0039, 0.0039, 0.0039, 0.0000, 0.7843, 0.9098, 0.9098,\n",
              "           0.9137, 0.8980, 0.8745, 0.8745, 0.8431, 0.8353, 0.6431, 0.4980,\n",
              "           0.4824, 0.7686, 0.8980, 0.0000],\n",
              "          [0.0000, 0.0000, 0.0000, 0.0000, 0.0000, 0.0000, 0.0000, 0.0000,\n",
              "           0.0000, 0.0000, 0.0000, 0.0000, 0.0000, 0.7176, 0.8824, 0.8471,\n",
              "           0.8745, 0.8941, 0.9216, 0.8902, 0.8784, 0.8706, 0.8784, 0.8667,\n",
              "           0.8745, 0.9608, 0.6784, 0.0000],\n",
              "          [0.0000, 0.0000, 0.0000, 0.0000, 0.0000, 0.0000, 0.0000, 0.0000,\n",
              "           0.0000, 0.0000, 0.0000, 0.0000, 0.0000, 0.7569, 0.8941, 0.8549,\n",
              "           0.8353, 0.7765, 0.7059, 0.8314, 0.8235, 0.8275, 0.8353, 0.8745,\n",
              "           0.8627, 0.9529, 0.7922, 0.0000],\n",
              "          [0.0000, 0.0000, 0.0000, 0.0000, 0.0000, 0.0000, 0.0000, 0.0000,\n",
              "           0.0000, 0.0039, 0.0118, 0.0000, 0.0471, 0.8588, 0.8627, 0.8314,\n",
              "           0.8549, 0.7529, 0.6627, 0.8902, 0.8157, 0.8549, 0.8784, 0.8314,\n",
              "           0.8863, 0.7725, 0.8196, 0.2039],\n",
              "          [0.0000, 0.0000, 0.0000, 0.0000, 0.0000, 0.0000, 0.0000, 0.0000,\n",
              "           0.0000, 0.0000, 0.0235, 0.0000, 0.3882, 0.9569, 0.8706, 0.8627,\n",
              "           0.8549, 0.7961, 0.7765, 0.8667, 0.8431, 0.8353, 0.8706, 0.8627,\n",
              "           0.9608, 0.4667, 0.6549, 0.2196],\n",
              "          [0.0000, 0.0000, 0.0000, 0.0000, 0.0000, 0.0000, 0.0000, 0.0000,\n",
              "           0.0000, 0.0157, 0.0000, 0.0000, 0.2157, 0.9255, 0.8941, 0.9020,\n",
              "           0.8941, 0.9412, 0.9098, 0.8353, 0.8549, 0.8745, 0.9176, 0.8510,\n",
              "           0.8510, 0.8196, 0.3608, 0.0000],\n",
              "          [0.0000, 0.0000, 0.0039, 0.0157, 0.0235, 0.0275, 0.0078, 0.0000,\n",
              "           0.0000, 0.0000, 0.0000, 0.0000, 0.9294, 0.8863, 0.8510, 0.8745,\n",
              "           0.8706, 0.8588, 0.8706, 0.8667, 0.8471, 0.8745, 0.8980, 0.8431,\n",
              "           0.8549, 1.0000, 0.3020, 0.0000],\n",
              "          [0.0000, 0.0118, 0.0000, 0.0000, 0.0000, 0.0000, 0.0000, 0.0000,\n",
              "           0.0000, 0.2431, 0.5686, 0.8000, 0.8941, 0.8118, 0.8353, 0.8667,\n",
              "           0.8549, 0.8157, 0.8275, 0.8549, 0.8784, 0.8745, 0.8588, 0.8431,\n",
              "           0.8784, 0.9569, 0.6235, 0.0000],\n",
              "          [0.0000, 0.0000, 0.0000, 0.0000, 0.0706, 0.1725, 0.3216, 0.4196,\n",
              "           0.7412, 0.8941, 0.8627, 0.8706, 0.8510, 0.8863, 0.7843, 0.8039,\n",
              "           0.8275, 0.9020, 0.8784, 0.9176, 0.6902, 0.7373, 0.9804, 0.9725,\n",
              "           0.9137, 0.9333, 0.8431, 0.0000],\n",
              "          [0.0000, 0.2235, 0.7333, 0.8157, 0.8784, 0.8667, 0.8784, 0.8157,\n",
              "           0.8000, 0.8392, 0.8157, 0.8196, 0.7843, 0.6235, 0.9608, 0.7569,\n",
              "           0.8078, 0.8745, 1.0000, 1.0000, 0.8667, 0.9176, 0.8667, 0.8275,\n",
              "           0.8627, 0.9098, 0.9647, 0.0000],\n",
              "          [0.0118, 0.7922, 0.8941, 0.8784, 0.8667, 0.8275, 0.8275, 0.8392,\n",
              "           0.8039, 0.8039, 0.8039, 0.8627, 0.9412, 0.3137, 0.5882, 1.0000,\n",
              "           0.8980, 0.8667, 0.7373, 0.6039, 0.7490, 0.8235, 0.8000, 0.8196,\n",
              "           0.8706, 0.8941, 0.8824, 0.0000],\n",
              "          [0.3843, 0.9137, 0.7765, 0.8235, 0.8706, 0.8980, 0.8980, 0.9176,\n",
              "           0.9765, 0.8627, 0.7608, 0.8431, 0.8510, 0.9451, 0.2549, 0.2863,\n",
              "           0.4157, 0.4588, 0.6588, 0.8588, 0.8667, 0.8431, 0.8510, 0.8745,\n",
              "           0.8745, 0.8784, 0.8980, 0.1137],\n",
              "          [0.2941, 0.8000, 0.8314, 0.8000, 0.7569, 0.8039, 0.8275, 0.8824,\n",
              "           0.8471, 0.7255, 0.7725, 0.8078, 0.7765, 0.8353, 0.9412, 0.7647,\n",
              "           0.8902, 0.9608, 0.9373, 0.8745, 0.8549, 0.8314, 0.8196, 0.8706,\n",
              "           0.8627, 0.8667, 0.9020, 0.2627],\n",
              "          [0.1882, 0.7961, 0.7176, 0.7608, 0.8353, 0.7725, 0.7255, 0.7451,\n",
              "           0.7608, 0.7529, 0.7922, 0.8392, 0.8588, 0.8667, 0.8627, 0.9255,\n",
              "           0.8824, 0.8471, 0.7804, 0.8078, 0.7294, 0.7098, 0.6941, 0.6745,\n",
              "           0.7098, 0.8039, 0.8078, 0.4510],\n",
              "          [0.0000, 0.4784, 0.8588, 0.7569, 0.7020, 0.6706, 0.7176, 0.7686,\n",
              "           0.8000, 0.8235, 0.8353, 0.8118, 0.8275, 0.8235, 0.7843, 0.7686,\n",
              "           0.7608, 0.7490, 0.7647, 0.7490, 0.7765, 0.7529, 0.6902, 0.6118,\n",
              "           0.6549, 0.6941, 0.8235, 0.3608],\n",
              "          [0.0000, 0.0000, 0.2902, 0.7412, 0.8314, 0.7490, 0.6863, 0.6745,\n",
              "           0.6863, 0.7098, 0.7255, 0.7373, 0.7412, 0.7373, 0.7569, 0.7765,\n",
              "           0.8000, 0.8196, 0.8235, 0.8235, 0.8275, 0.7373, 0.7373, 0.7608,\n",
              "           0.7529, 0.8471, 0.6667, 0.0000],\n",
              "          [0.0078, 0.0000, 0.0000, 0.0000, 0.2588, 0.7843, 0.8706, 0.9294,\n",
              "           0.9373, 0.9490, 0.9647, 0.9529, 0.9569, 0.8667, 0.8627, 0.7569,\n",
              "           0.7490, 0.7020, 0.7137, 0.7137, 0.7098, 0.6902, 0.6510, 0.6588,\n",
              "           0.3882, 0.2275, 0.0000, 0.0000],\n",
              "          [0.0000, 0.0000, 0.0000, 0.0000, 0.0000, 0.0000, 0.0000, 0.1569,\n",
              "           0.2392, 0.1725, 0.2824, 0.1608, 0.1373, 0.0000, 0.0000, 0.0000,\n",
              "           0.0000, 0.0000, 0.0000, 0.0000, 0.0000, 0.0000, 0.0000, 0.0000,\n",
              "           0.0000, 0.0000, 0.0000, 0.0000],\n",
              "          [0.0000, 0.0000, 0.0000, 0.0000, 0.0000, 0.0000, 0.0000, 0.0000,\n",
              "           0.0000, 0.0000, 0.0000, 0.0000, 0.0000, 0.0000, 0.0000, 0.0000,\n",
              "           0.0000, 0.0000, 0.0000, 0.0000, 0.0000, 0.0000, 0.0000, 0.0000,\n",
              "           0.0000, 0.0000, 0.0000, 0.0000],\n",
              "          [0.0000, 0.0000, 0.0000, 0.0000, 0.0000, 0.0000, 0.0000, 0.0000,\n",
              "           0.0000, 0.0000, 0.0000, 0.0000, 0.0000, 0.0000, 0.0000, 0.0000,\n",
              "           0.0000, 0.0000, 0.0000, 0.0000, 0.0000, 0.0000, 0.0000, 0.0000,\n",
              "           0.0000, 0.0000, 0.0000, 0.0000]]]),\n",
              " 9)"
            ]
          },
          "metadata": {},
          "execution_count": 183
        }
      ]
    },
    {
      "cell_type": "markdown",
      "source": [
        "# 1.1 Input and output shapes of a computer vision model"
      ],
      "metadata": {
        "id": "XUkqAGAEKMMN"
      }
    },
    {
      "cell_type": "code",
      "source": [
        "image.shape"
      ],
      "metadata": {
        "colab": {
          "base_uri": "https://localhost:8080/"
        },
        "id": "yyvPdED4dPdm",
        "outputId": "b4a7a97b-24eb-4d2b-96dc-ae655eadb6a2"
      },
      "execution_count": 184,
      "outputs": [
        {
          "output_type": "execute_result",
          "data": {
            "text/plain": [
              "torch.Size([1, 28, 28])"
            ]
          },
          "metadata": {},
          "execution_count": 184
        }
      ]
    },
    {
      "cell_type": "code",
      "source": [
        "class_names = train_data.classes\n",
        "class_names"
      ],
      "metadata": {
        "colab": {
          "base_uri": "https://localhost:8080/"
        },
        "id": "mCptKd2na5_U",
        "outputId": "753bafbb-a7ca-495b-cd7b-a8ef35dc4f6d"
      },
      "execution_count": 185,
      "outputs": [
        {
          "output_type": "execute_result",
          "data": {
            "text/plain": [
              "['T-shirt/top',\n",
              " 'Trouser',\n",
              " 'Pullover',\n",
              " 'Dress',\n",
              " 'Coat',\n",
              " 'Sandal',\n",
              " 'Shirt',\n",
              " 'Sneaker',\n",
              " 'Bag',\n",
              " 'Ankle boot']"
            ]
          },
          "metadata": {},
          "execution_count": 185
        }
      ]
    },
    {
      "cell_type": "code",
      "source": [
        "class_to_idx = train_data.class_to_idx\n",
        "class_to_idx"
      ],
      "metadata": {
        "colab": {
          "base_uri": "https://localhost:8080/"
        },
        "id": "gU5Z4e-YbahV",
        "outputId": "b76c473f-38ee-461a-ae49-9bed89fcf6a4"
      },
      "execution_count": 186,
      "outputs": [
        {
          "output_type": "execute_result",
          "data": {
            "text/plain": [
              "{'T-shirt/top': 0,\n",
              " 'Trouser': 1,\n",
              " 'Pullover': 2,\n",
              " 'Dress': 3,\n",
              " 'Coat': 4,\n",
              " 'Sandal': 5,\n",
              " 'Shirt': 6,\n",
              " 'Sneaker': 7,\n",
              " 'Bag': 8,\n",
              " 'Ankle boot': 9}"
            ]
          },
          "metadata": {},
          "execution_count": 186
        }
      ]
    },
    {
      "cell_type": "code",
      "source": [
        "train_data.targets"
      ],
      "metadata": {
        "colab": {
          "base_uri": "https://localhost:8080/"
        },
        "id": "ZlL7r2bJaB50",
        "outputId": "1e00f8d0-f399-4131-8678-cabfdbf31f37"
      },
      "execution_count": 187,
      "outputs": [
        {
          "output_type": "execute_result",
          "data": {
            "text/plain": [
              "tensor([9, 0, 0,  ..., 3, 0, 5])"
            ]
          },
          "metadata": {},
          "execution_count": 187
        }
      ]
    },
    {
      "cell_type": "code",
      "source": [
        "class_names[label]"
      ],
      "metadata": {
        "colab": {
          "base_uri": "https://localhost:8080/",
          "height": 35
        },
        "id": "Beg-tQk1cel2",
        "outputId": "8ce2ea16-6386-4b2b-e5b8-ef597a98669e"
      },
      "execution_count": 188,
      "outputs": [
        {
          "output_type": "execute_result",
          "data": {
            "text/plain": [
              "'Ankle boot'"
            ],
            "application/vnd.google.colaboratory.intrinsic+json": {
              "type": "string"
            }
          },
          "metadata": {},
          "execution_count": 188
        }
      ]
    },
    {
      "cell_type": "code",
      "source": [
        "plt.imshow(image[0], cmap='gray')\n",
        "plt.title(class_names[label])"
      ],
      "metadata": {
        "colab": {
          "base_uri": "https://localhost:8080/",
          "height": 469
        },
        "id": "F1lghKiNfW5m",
        "outputId": "94cdb1c6-8ff8-438c-aa3f-90cf976e62c3"
      },
      "execution_count": 189,
      "outputs": [
        {
          "output_type": "execute_result",
          "data": {
            "text/plain": [
              "Text(0.5, 1.0, 'Ankle boot')"
            ]
          },
          "metadata": {},
          "execution_count": 189
        },
        {
          "output_type": "display_data",
          "data": {
            "text/plain": [
              "<Figure size 640x480 with 1 Axes>"
            ],
            "image/png": "[encoded data removed]"
          },
          "metadata": {}
        }
      ]
    },
    {
      "cell_type": "code",
      "source": [
        "plt.imshow(image[0])\n",
        "plt.title(class_names[label])"
      ],
      "metadata": {
        "colab": {
          "base_uri": "https://localhost:8080/",
          "height": 469
        },
        "id": "NADOccjAKSAB",
        "outputId": "91bbfbab-fefa-4360-d1ba-08ccb502f66d"
      },
      "execution_count": 190,
      "outputs": [
        {
          "output_type": "execute_result",
          "data": {
            "text/plain": [
              "Text(0.5, 1.0, 'Ankle boot')"
            ]
          },
          "metadata": {},
          "execution_count": 190
        },
        {
          "output_type": "display_data",
          "data": {
            "text/plain": [
              "<Figure size 640x480 with 1 Axes>"
            ],
            "image/png": "[encoded data removed]"
          },
          "metadata": {}
        }
      ]
    },
    {
      "cell_type": "code",
      "source": [
        "import random\n",
        "import matplotlib.pyplot as plt\n",
        "\n",
        "# Assuming train_data and class_names are already defined\n",
        "\n",
        "# Get 5 unique random indices\n",
        "random_indices = random.sample(range(len(train_data)), 5)\n",
        "\n",
        "# Create a figure with 5 subplots\n",
        "fig, axes = plt.subplots(1, 5, figsize=(15, 3))\n",
        "\n",
        "# Iterate through the random indices and display images\n",
        "for i, random_idx in enumerate(random_indices):\n",
        "    image, label = train_data[random_idx]\n",
        "    axes[i].imshow(image[0], cmap='gray')\n",
        "    axes[i].set_title(class_names[label])\n",
        "    axes[i].axis('off')  # Turn off axis ticks and labels\n",
        "\n",
        "plt.show()"
      ],
      "metadata": {
        "colab": {
          "base_uri": "https://localhost:8080/",
          "height": 259
        },
        "id": "oHvSk7m93mIT",
        "outputId": "6c618559-7027-4a00-92f2-dfef7b697fed"
      },
      "execution_count": 191,
      "outputs": [
        {
          "output_type": "display_data",
          "data": {
            "text/plain": [
              "<Figure size 1500x300 with 5 Axes>"
            ],
            "image/png": "[encoded data removed]"
          },
          "metadata": {}
        }
      ]
    },
    {
      "cell_type": "markdown",
      "source": [
        "# 2. Prepare DataLoader"
      ],
      "metadata": {
        "id": "1JuG08VeKfuK"
      }
    },
    {
      "cell_type": "code",
      "source": [
        "from torch.utils.data import DataLoader\n",
        "\n",
        "BATCH_SIZE = 32\n",
        "\n",
        "# turn dataset into iterables (batches)\n",
        "train_dataloader = DataLoader(train_data,\n",
        "                              batch_size=BATCH_SIZE,\n",
        "                              shuffle=True)# <- number_of_workers = 2 The num_workers parameter controls how many CPU threads (workers) are spawned to load data in parallel during training.\n",
        "\n",
        "test_dataloader = DataLoader(test_data,\n",
        "                             batch_size=BATCH_SIZE,\n",
        "                             shuffle=False)# <- number_of_workers = 2 The num_workers parameter controls how many CPU threads (workers) are spawned to load data in parallel during training.\n",
        "\n",
        "train_dataloader, test_dataloader\n",
        "\n",
        "# Let's check out what we've created\n",
        "print(f\"Dataloaders: {train_dataloader, test_dataloader}\")\n",
        "print(f\"Length of train dataloader: {len(train_dataloader)} batches of {BATCH_SIZE}\")\n",
        "print(f\"Length of test dataloader: {len(test_dataloader)} batches of {BATCH_SIZE}\")"
      ],
      "metadata": {
        "id": "CXf7S3l13egG",
        "colab": {
          "base_uri": "https://localhost:8080/"
        },
        "outputId": "0103747b-0627-4a80-a68b-11efcf5728cd"
      },
      "execution_count": 192,
      "outputs": [
        {
          "output_type": "stream",
          "name": "stdout",
          "text": [
            "Dataloaders: (<torch.utils.data.dataloader.DataLoader object at 0x7b4847758690>, <torch.utils.data.dataloader.DataLoader object at 0x7b484c08c5d0>)\n",
            "Length of train dataloader: 1875 batches of 32\n",
            "Length of test dataloader: 313 batches of 32\n"
          ]
        }
      ]
    },
    {
      "cell_type": "code",
      "source": [
        "len(train_dataloader), len(test_dataloader)"
      ],
      "metadata": {
        "colab": {
          "base_uri": "https://localhost:8080/"
        },
        "id": "hpNLuLoaMKK_",
        "outputId": "b8aaa783-1e69-44b5-8c15-77a6f8d3c2ca"
      },
      "execution_count": 193,
      "outputs": [
        {
          "output_type": "execute_result",
          "data": {
            "text/plain": [
              "(1875, 313)"
            ]
          },
          "metadata": {},
          "execution_count": 193
        }
      ]
    },
    {
      "cell_type": "code",
      "source": [
        "# Check out what's inside the training dataloader\n",
        "train_features_batch, train_labels_batch = next(iter(train_dataloader))\n",
        "train_features_batch.shape, train_labels_batch.shape"
      ],
      "metadata": {
        "id": "elqRBWqWd0N1",
        "colab": {
          "base_uri": "https://localhost:8080/"
        },
        "outputId": "bd5dafe0-2e5b-4926-e53e-bba9cacdc0d6"
      },
      "execution_count": 194,
      "outputs": [
        {
          "output_type": "execute_result",
          "data": {
            "text/plain": [
              "(torch.Size([32, 1, 28, 28]), torch.Size([32]))"
            ]
          },
          "metadata": {},
          "execution_count": 194
        }
      ]
    },
    {
      "cell_type": "code",
      "source": [
        "# Check out the what's inside the training dataloader\n",
        "train_features_batch, train_labels_batch = next(iter(train_dataloader))\n",
        "train_features_batch.shape, train_labels_batch.shape"
      ],
      "metadata": {
        "id": "fXn4FGefePyt",
        "colab": {
          "base_uri": "https://localhost:8080/"
        },
        "outputId": "169c43df-7e6e-4080-f22f-2640568f0417"
      },
      "execution_count": 195,
      "outputs": [
        {
          "output_type": "execute_result",
          "data": {
            "text/plain": [
              "(torch.Size([32, 1, 28, 28]), torch.Size([32]))"
            ]
          },
          "metadata": {},
          "execution_count": 195
        }
      ]
    },
    {
      "cell_type": "code",
      "source": [
        "# Show a sample\n",
        "# torch.manual_seed(42)\n",
        "random_idx = torch.randint(0, len(train_features_batch), size=[1]).item()\n",
        "img, label = train_features_batch[random_idx], train_labels_batch[random_idx]\n",
        "plt.imshow(img.squeeze(), cmap=\"gray\")\n",
        "plt.title(class_names[label])\n",
        "plt.axis(\"Off\");\n",
        "print(f\"Image size: {img.shape}\")\n",
        "print(f\"Label: {label}, label size: {label.shape}\")"
      ],
      "metadata": {
        "id": "M_kg3IsOeXFL",
        "colab": {
          "base_uri": "https://localhost:8080/",
          "height": 463
        },
        "collapsed": true,
        "outputId": "844aecab-107c-462b-a312-cbd38a71975b"
      },
      "execution_count": 196,
      "outputs": [
        {
          "output_type": "stream",
          "name": "stdout",
          "text": [
            "Image size: torch.Size([1, 28, 28])\n",
            "Label: 4, label size: torch.Size([])\n"
          ]
        },
        {
          "output_type": "display_data",
          "data": {
            "text/plain": [
              "<Figure size 640x480 with 1 Axes>"
            ],
            "image/png": "[encoded data removed]"
          },
          "metadata": {}
        }
      ]
    },
    {
      "cell_type": "markdown",
      "source": [
        "# 3. Model 0: Build a baseline model"
      ],
      "metadata": {
        "id": "4bVSOOijkliS"
      }
    },
    {
      "cell_type": "code",
      "source": [
        "# Create a flatten layer\n",
        "flatten_model = nn.Flatten()\n",
        "\n",
        "x = train_features_batch[0]\n",
        "print(x.shape)\n",
        "\n",
        "# output shape after using flatten\n",
        "output = flatten_model(x)\n",
        "print(output.shape)\n",
        "\n",
        "print(f\"shape before flattening: {x.shape}  -> [color_channels, heigh, width]\")\n",
        "print(f\"shape after flattening: {output.shape}  -> [color_channels, heigh*width]\")"
      ],
      "metadata": {
        "colab": {
          "base_uri": "https://localhost:8080/"
        },
        "id": "-ydANQ-IoGFc",
        "outputId": "6615324f-51f1-49b9-d823-c2a4e1f7f3dc"
      },
      "execution_count": 197,
      "outputs": [
        {
          "output_type": "stream",
          "name": "stdout",
          "text": [
            "torch.Size([1, 28, 28])\n",
            "torch.Size([1, 784])\n",
            "shape before flattening: torch.Size([1, 28, 28])  -> [color_channels, heigh, width]\n",
            "shape after flattening: torch.Size([1, 784])  -> [color_channels, heigh*width]\n"
          ]
        }
      ]
    },
    {
      "cell_type": "code",
      "source": [
        "print(x), print(output)"
      ],
      "metadata": {
        "colab": {
          "base_uri": "https://localhost:8080/"
        },
        "id": "qg4kWCQYrApn",
        "outputId": "f0e21c2c-8fba-4281-acdf-fda583a19c1f"
      },
      "execution_count": 198,
      "outputs": [
        {
          "output_type": "stream",
          "name": "stdout",
          "text": [
            "tensor([[[0.0000, 0.0000, 0.0000, 0.0000, 0.0000, 0.0000, 0.0000, 0.0000,\n",
            "          0.0000, 0.0000, 0.0000, 0.0000, 0.0000, 0.0000, 0.0000, 0.0000,\n",
            "          0.0000, 0.0000, 0.0000, 0.0000, 0.0000, 0.0000, 0.0000, 0.0000,\n",
            "          0.0000, 0.0000, 0.0000, 0.0000],\n",
            "         [0.0000, 0.0000, 0.0000, 0.0000, 0.0000, 0.0000, 0.0000, 0.0000,\n",
            "          0.0000, 0.0000, 0.0000, 0.0000, 0.0000, 0.0000, 0.0000, 0.0000,\n",
            "          0.0000, 0.0000, 0.0000, 0.0000, 0.0000, 0.0000, 0.0000, 0.0000,\n",
            "          0.0000, 0.0000, 0.0000, 0.0000],\n",
            "         [0.0000, 0.0000, 0.0000, 0.0000, 0.0000, 0.0000, 0.0000, 0.0000,\n",
            "          0.0000, 0.0000, 0.0000, 0.0000, 0.0000, 0.0000, 0.0000, 0.0000,\n",
            "          0.0000, 0.0000, 0.0000, 0.0000, 0.0000, 0.0000, 0.0000, 0.0000,\n",
            "          0.0000, 0.0000, 0.0000, 0.0000],\n",
            "         [0.0000, 0.0000, 0.0000, 0.0000, 0.0000, 0.0000, 0.0000, 0.0000,\n",
            "          0.0000, 0.0000, 0.0000, 0.0000, 0.0000, 0.0000, 0.0000, 0.0000,\n",
            "          0.0000, 0.0000, 0.0000, 0.0000, 0.0000, 0.0000, 0.0000, 0.0000,\n",
            "          0.0000, 0.0000, 0.0000, 0.0000],\n",
            "         [0.0000, 0.0000, 0.0000, 0.0000, 0.0000, 0.0000, 0.0000, 0.0000,\n",
            "          0.0000, 0.0000, 0.0000, 0.0000, 0.0000, 0.0000, 0.0000, 0.0039,\n",
            "          0.0000, 0.0588, 0.0353, 0.0000, 0.0000, 0.0000, 0.0000, 0.0000,\n",
            "          0.0000, 0.0000, 0.0000, 0.0000],\n",
            "         [0.0000, 0.0000, 0.0000, 0.0000, 0.0000, 0.0000, 0.0000, 0.0000,\n",
            "          0.0000, 0.0000, 0.0000, 0.0000, 0.0000, 0.0078, 0.0000, 0.0000,\n",
            "          0.0588, 0.8706, 0.7843, 0.7451, 0.6627, 0.4078, 0.1529, 0.0000,\n",
            "          0.0000, 0.0000, 0.1137, 0.0000],\n",
            "         [0.0000, 0.0000, 0.0000, 0.0000, 0.0000, 0.0000, 0.0000, 0.0000,\n",
            "          0.0000, 0.0000, 0.0000, 0.0000, 0.0000, 0.0196, 0.0000, 0.0157,\n",
            "          0.8314, 0.7373, 0.6902, 1.0000, 1.0000, 1.0000, 0.9961, 0.8275,\n",
            "          0.5608, 0.6000, 0.7098, 0.0000],\n",
            "         [0.0000, 0.0000, 0.0000, 0.0000, 0.0000, 0.0000, 0.0000, 0.0000,\n",
            "          0.0000, 0.0000, 0.0000, 0.0000, 0.0000, 0.0000, 0.0000, 0.7451,\n",
            "          0.9333, 0.6431, 0.8549, 0.9608, 0.9647, 0.9569, 0.9647, 0.8078,\n",
            "          0.8078, 0.8118, 0.4588, 0.0000],\n",
            "         [0.0000, 0.0000, 0.0000, 0.0000, 0.0000, 0.0000, 0.0000, 0.0000,\n",
            "          0.0000, 0.0000, 0.0039, 0.0000, 0.0078, 0.0000, 0.0000, 0.7725,\n",
            "          0.7804, 0.9333, 1.0000, 0.9647, 0.9843, 0.9882, 0.9490, 0.7765,\n",
            "          0.7373, 0.7882, 0.3569, 0.0000],\n",
            "         [0.0000, 0.0000, 0.0000, 0.0000, 0.0000, 0.0000, 0.0000, 0.0000,\n",
            "          0.0000, 0.0039, 0.0078, 0.0000, 0.0000, 0.0000, 0.2431, 0.9373,\n",
            "          0.6235, 0.7098, 1.0000, 0.9804, 0.9843, 1.0000, 0.9608, 0.7451,\n",
            "          0.7686, 0.7725, 0.2039, 0.0000],\n",
            "         [0.0000, 0.0000, 0.0000, 0.0000, 0.0000, 0.0000, 0.0000, 0.0000,\n",
            "          0.0000, 0.0000, 0.0000, 0.0000, 0.0000, 0.0000, 0.8039, 1.0000,\n",
            "          0.8314, 0.9373, 0.9725, 1.0000, 0.9804, 1.0000, 0.9412, 0.7412,\n",
            "          0.7647, 0.7765, 0.1294, 0.0000],\n",
            "         [0.0000, 0.0000, 0.0000, 0.0000, 0.0000, 0.0000, 0.0000, 0.0000,\n",
            "          0.0000, 0.0000, 0.0000, 0.0000, 0.0000, 0.0000, 0.8549, 0.7490,\n",
            "          0.9647, 0.9725, 0.9725, 0.9961, 0.9725, 1.0000, 0.8980, 0.7255,\n",
            "          0.7529, 0.7686, 0.1216, 0.0000],\n",
            "         [0.0000, 0.0000, 0.0000, 0.0000, 0.0000, 0.0000, 0.0000, 0.0000,\n",
            "          0.0000, 0.0000, 0.0118, 0.0000, 0.0000, 0.7059, 0.9451, 0.4000,\n",
            "          0.9255, 0.9765, 1.0000, 0.9804, 0.9725, 1.0000, 0.8627, 0.7569,\n",
            "          0.7569, 0.7686, 0.1176, 0.0000],\n",
            "         [0.0000, 0.0000, 0.0000, 0.0000, 0.0000, 0.0000, 0.0000, 0.0000,\n",
            "          0.0039, 0.0118, 0.0000, 0.0000, 0.4588, 0.8941, 0.9059, 1.0000,\n",
            "          0.9569, 0.9725, 0.9882, 0.9804, 0.9765, 1.0000, 0.8784, 0.7255,\n",
            "          0.7569, 0.8039, 0.2118, 0.0000],\n",
            "         [0.0000, 0.0000, 0.0000, 0.0000, 0.0000, 0.0000, 0.0000, 0.0000,\n",
            "          0.0000, 0.0000, 0.0000, 0.8078, 0.9882, 0.5216, 0.7922, 0.9569,\n",
            "          0.9176, 1.0000, 0.9843, 0.9843, 0.9804, 1.0000, 0.9608, 0.7451,\n",
            "          0.7373, 0.8039, 0.5216, 0.0000],\n",
            "         [0.0000, 0.0000, 0.0000, 0.0039, 0.0039, 0.0039, 0.0078, 0.0078,\n",
            "          0.0000, 0.0000, 0.8784, 0.8235, 0.8667, 0.9020, 0.9451, 0.9333,\n",
            "          0.9961, 0.9843, 0.9882, 0.9804, 0.9804, 0.9765, 1.0000, 0.8706,\n",
            "          0.7333, 0.7569, 0.8118, 0.0000],\n",
            "         [0.0000, 0.0000, 0.0000, 0.0000, 0.0000, 0.0000, 0.0000, 0.0000,\n",
            "          0.0000, 0.4824, 0.9176, 0.5725, 0.9255, 0.9804, 0.9725, 1.0000,\n",
            "          1.0000, 0.9961, 0.9804, 0.9843, 0.9843, 0.9922, 0.9647, 0.9098,\n",
            "          0.9569, 0.7961, 0.8431, 0.1373],\n",
            "         [0.0118, 0.0000, 0.0000, 0.0000, 0.0000, 0.0000, 0.0000, 0.0000,\n",
            "          0.3490, 0.5647, 0.8667, 0.9686, 0.8627, 0.8353, 0.8667, 0.8588,\n",
            "          0.9137, 0.9804, 1.0000, 0.9804, 0.9686, 0.9843, 0.8745, 0.9686,\n",
            "          0.9922, 0.8627, 0.7922, 0.3412],\n",
            "         [0.0000, 0.0000, 0.3686, 0.5137, 0.6549, 0.6314, 0.6039, 0.7765,\n",
            "          1.0000, 0.8196, 0.7686, 0.7961, 0.8392, 0.8745, 0.8353, 0.7922,\n",
            "          0.7725, 0.7882, 0.8941, 1.0000, 1.0000, 0.9647, 0.9451, 0.9882,\n",
            "          0.9647, 0.7843, 0.8118, 0.4157],\n",
            "         [0.0000, 0.0745, 0.7098, 0.8196, 0.7765, 0.7098, 0.9333, 0.9255,\n",
            "          0.9333, 0.9294, 0.9569, 1.0000, 1.0000, 1.0000, 1.0000, 1.0000,\n",
            "          1.0000, 0.9608, 0.8706, 0.8667, 0.9765, 0.9608, 0.9686, 1.0000,\n",
            "          1.0000, 0.7569, 0.8235, 0.3725],\n",
            "         [0.0000, 0.3765, 0.7490, 0.8667, 0.8471, 0.8824, 0.9569, 0.9216,\n",
            "          0.9373, 0.9569, 0.9765, 0.9725, 0.9725, 0.9843, 1.0000, 0.9686,\n",
            "          0.8157, 0.7216, 0.7882, 0.7961, 0.7020, 0.7529, 0.7569, 0.7529,\n",
            "          0.7451, 0.7333, 0.8118, 0.2392],\n",
            "         [0.2392, 0.6745, 0.5804, 0.6235, 0.6471, 0.8039, 0.9098, 0.9490,\n",
            "          1.0000, 1.0000, 1.0000, 1.0000, 1.0000, 0.9961, 0.8667, 0.7294,\n",
            "          0.7098, 0.7412, 0.7176, 0.7412, 0.7176, 0.6824, 0.6784, 0.6235,\n",
            "          0.6588, 0.6667, 0.7529, 0.5216],\n",
            "         [0.2510, 0.7490, 0.8196, 0.7529, 0.6902, 0.6706, 0.5843, 0.6157,\n",
            "          0.6431, 0.6863, 0.6902, 0.6510, 0.6000, 0.5647, 0.5882, 0.6784,\n",
            "          0.7608, 0.7765, 0.7882, 0.7765, 0.7765, 0.7922, 0.7922, 0.7922,\n",
            "          0.7961, 0.7804, 0.7961, 0.7020],\n",
            "         [0.0000, 0.0000, 0.2314, 0.5804, 0.8431, 0.9725, 0.9804, 0.9490,\n",
            "          0.8549, 0.8039, 0.8039, 0.8314, 0.8941, 0.9529, 1.0000, 0.9961,\n",
            "          0.9451, 0.7765, 0.8627, 1.0000, 0.8784, 0.8627, 0.9647, 0.9647,\n",
            "          0.9451, 0.8353, 0.8588, 0.7725],\n",
            "         [0.0000, 0.0000, 0.0000, 0.0000, 0.0000, 0.0000, 0.1765, 0.4863,\n",
            "          0.6314, 0.7490, 0.7373, 0.6471, 0.5569, 0.3804, 0.1843, 0.0314,\n",
            "          0.0000, 0.0000, 0.0000, 0.1882, 0.6824, 0.5294, 0.4314, 0.4471,\n",
            "          0.4157, 0.4196, 0.4275, 0.0549],\n",
            "         [0.0000, 0.0000, 0.0000, 0.0000, 0.0000, 0.0000, 0.0000, 0.0000,\n",
            "          0.0000, 0.0000, 0.0000, 0.0000, 0.0000, 0.0000, 0.0000, 0.0000,\n",
            "          0.0000, 0.0000, 0.0000, 0.0000, 0.0000, 0.0000, 0.0000, 0.0000,\n",
            "          0.0000, 0.0000, 0.0000, 0.0000],\n",
            "         [0.0000, 0.0000, 0.0000, 0.0000, 0.0000, 0.0000, 0.0000, 0.0000,\n",
            "          0.0000, 0.0000, 0.0000, 0.0000, 0.0000, 0.0000, 0.0000, 0.0000,\n",
            "          0.0000, 0.0000, 0.0000, 0.0000, 0.0000, 0.0000, 0.0000, 0.0000,\n",
            "          0.0000, 0.0000, 0.0000, 0.0000],\n",
            "         [0.0000, 0.0000, 0.0000, 0.0000, 0.0000, 0.0000, 0.0000, 0.0000,\n",
            "          0.0000, 0.0000, 0.0000, 0.0000, 0.0000, 0.0000, 0.0000, 0.0000,\n",
            "          0.0000, 0.0000, 0.0000, 0.0000, 0.0000, 0.0000, 0.0000, 0.0000,\n",
            "          0.0000, 0.0000, 0.0000, 0.0000]]])\n",
            "tensor([[0.0000, 0.0000, 0.0000, 0.0000, 0.0000, 0.0000, 0.0000, 0.0000, 0.0000,\n",
            "         0.0000, 0.0000, 0.0000, 0.0000, 0.0000, 0.0000, 0.0000, 0.0000, 0.0000,\n",
            "         0.0000, 0.0000, 0.0000, 0.0000, 0.0000, 0.0000, 0.0000, 0.0000, 0.0000,\n",
            "         0.0000, 0.0000, 0.0000, 0.0000, 0.0000, 0.0000, 0.0000, 0.0000, 0.0000,\n",
            "         0.0000, 0.0000, 0.0000, 0.0000, 0.0000, 0.0000, 0.0000, 0.0000, 0.0000,\n",
            "         0.0000, 0.0000, 0.0000, 0.0000, 0.0000, 0.0000, 0.0000, 0.0000, 0.0000,\n",
            "         0.0000, 0.0000, 0.0000, 0.0000, 0.0000, 0.0000, 0.0000, 0.0000, 0.0000,\n",
            "         0.0000, 0.0000, 0.0000, 0.0000, 0.0000, 0.0000, 0.0000, 0.0000, 0.0000,\n",
            "         0.0000, 0.0000, 0.0000, 0.0000, 0.0000, 0.0000, 0.0000, 0.0000, 0.0000,\n",
            "         0.0000, 0.0000, 0.0000, 0.0000, 0.0000, 0.0000, 0.0000, 0.0000, 0.0000,\n",
            "         0.0000, 0.0000, 0.0000, 0.0000, 0.0000, 0.0000, 0.0000, 0.0000, 0.0000,\n",
            "         0.0000, 0.0000, 0.0000, 0.0000, 0.0000, 0.0000, 0.0000, 0.0000, 0.0000,\n",
            "         0.0000, 0.0000, 0.0000, 0.0000, 0.0000, 0.0000, 0.0000, 0.0000, 0.0000,\n",
            "         0.0000, 0.0000, 0.0000, 0.0000, 0.0000, 0.0000, 0.0000, 0.0000, 0.0000,\n",
            "         0.0000, 0.0039, 0.0000, 0.0588, 0.0353, 0.0000, 0.0000, 0.0000, 0.0000,\n",
            "         0.0000, 0.0000, 0.0000, 0.0000, 0.0000, 0.0000, 0.0000, 0.0000, 0.0000,\n",
            "         0.0000, 0.0000, 0.0000, 0.0000, 0.0000, 0.0000, 0.0000, 0.0000, 0.0000,\n",
            "         0.0078, 0.0000, 0.0000, 0.0588, 0.8706, 0.7843, 0.7451, 0.6627, 0.4078,\n",
            "         0.1529, 0.0000, 0.0000, 0.0000, 0.1137, 0.0000, 0.0000, 0.0000, 0.0000,\n",
            "         0.0000, 0.0000, 0.0000, 0.0000, 0.0000, 0.0000, 0.0000, 0.0000, 0.0000,\n",
            "         0.0000, 0.0196, 0.0000, 0.0157, 0.8314, 0.7373, 0.6902, 1.0000, 1.0000,\n",
            "         1.0000, 0.9961, 0.8275, 0.5608, 0.6000, 0.7098, 0.0000, 0.0000, 0.0000,\n",
            "         0.0000, 0.0000, 0.0000, 0.0000, 0.0000, 0.0000, 0.0000, 0.0000, 0.0000,\n",
            "         0.0000, 0.0000, 0.0000, 0.0000, 0.7451, 0.9333, 0.6431, 0.8549, 0.9608,\n",
            "         0.9647, 0.9569, 0.9647, 0.8078, 0.8078, 0.8118, 0.4588, 0.0000, 0.0000,\n",
            "         0.0000, 0.0000, 0.0000, 0.0000, 0.0000, 0.0000, 0.0000, 0.0000, 0.0000,\n",
            "         0.0039, 0.0000, 0.0078, 0.0000, 0.0000, 0.7725, 0.7804, 0.9333, 1.0000,\n",
            "         0.9647, 0.9843, 0.9882, 0.9490, 0.7765, 0.7373, 0.7882, 0.3569, 0.0000,\n",
            "         0.0000, 0.0000, 0.0000, 0.0000, 0.0000, 0.0000, 0.0000, 0.0000, 0.0000,\n",
            "         0.0039, 0.0078, 0.0000, 0.0000, 0.0000, 0.2431, 0.9373, 0.6235, 0.7098,\n",
            "         1.0000, 0.9804, 0.9843, 1.0000, 0.9608, 0.7451, 0.7686, 0.7725, 0.2039,\n",
            "         0.0000, 0.0000, 0.0000, 0.0000, 0.0000, 0.0000, 0.0000, 0.0000, 0.0000,\n",
            "         0.0000, 0.0000, 0.0000, 0.0000, 0.0000, 0.0000, 0.8039, 1.0000, 0.8314,\n",
            "         0.9373, 0.9725, 1.0000, 0.9804, 1.0000, 0.9412, 0.7412, 0.7647, 0.7765,\n",
            "         0.1294, 0.0000, 0.0000, 0.0000, 0.0000, 0.0000, 0.0000, 0.0000, 0.0000,\n",
            "         0.0000, 0.0000, 0.0000, 0.0000, 0.0000, 0.0000, 0.0000, 0.8549, 0.7490,\n",
            "         0.9647, 0.9725, 0.9725, 0.9961, 0.9725, 1.0000, 0.8980, 0.7255, 0.7529,\n",
            "         0.7686, 0.1216, 0.0000, 0.0000, 0.0000, 0.0000, 0.0000, 0.0000, 0.0000,\n",
            "         0.0000, 0.0000, 0.0000, 0.0000, 0.0118, 0.0000, 0.0000, 0.7059, 0.9451,\n",
            "         0.4000, 0.9255, 0.9765, 1.0000, 0.9804, 0.9725, 1.0000, 0.8627, 0.7569,\n",
            "         0.7569, 0.7686, 0.1176, 0.0000, 0.0000, 0.0000, 0.0000, 0.0000, 0.0000,\n",
            "         0.0000, 0.0000, 0.0000, 0.0039, 0.0118, 0.0000, 0.0000, 0.4588, 0.8941,\n",
            "         0.9059, 1.0000, 0.9569, 0.9725, 0.9882, 0.9804, 0.9765, 1.0000, 0.8784,\n",
            "         0.7255, 0.7569, 0.8039, 0.2118, 0.0000, 0.0000, 0.0000, 0.0000, 0.0000,\n",
            "         0.0000, 0.0000, 0.0000, 0.0000, 0.0000, 0.0000, 0.0000, 0.8078, 0.9882,\n",
            "         0.5216, 0.7922, 0.9569, 0.9176, 1.0000, 0.9843, 0.9843, 0.9804, 1.0000,\n",
            "         0.9608, 0.7451, 0.7373, 0.8039, 0.5216, 0.0000, 0.0000, 0.0000, 0.0000,\n",
            "         0.0039, 0.0039, 0.0039, 0.0078, 0.0078, 0.0000, 0.0000, 0.8784, 0.8235,\n",
            "         0.8667, 0.9020, 0.9451, 0.9333, 0.9961, 0.9843, 0.9882, 0.9804, 0.9804,\n",
            "         0.9765, 1.0000, 0.8706, 0.7333, 0.7569, 0.8118, 0.0000, 0.0000, 0.0000,\n",
            "         0.0000, 0.0000, 0.0000, 0.0000, 0.0000, 0.0000, 0.0000, 0.4824, 0.9176,\n",
            "         0.5725, 0.9255, 0.9804, 0.9725, 1.0000, 1.0000, 0.9961, 0.9804, 0.9843,\n",
            "         0.9843, 0.9922, 0.9647, 0.9098, 0.9569, 0.7961, 0.8431, 0.1373, 0.0118,\n",
            "         0.0000, 0.0000, 0.0000, 0.0000, 0.0000, 0.0000, 0.0000, 0.3490, 0.5647,\n",
            "         0.8667, 0.9686, 0.8627, 0.8353, 0.8667, 0.8588, 0.9137, 0.9804, 1.0000,\n",
            "         0.9804, 0.9686, 0.9843, 0.8745, 0.9686, 0.9922, 0.8627, 0.7922, 0.3412,\n",
            "         0.0000, 0.0000, 0.3686, 0.5137, 0.6549, 0.6314, 0.6039, 0.7765, 1.0000,\n",
            "         0.8196, 0.7686, 0.7961, 0.8392, 0.8745, 0.8353, 0.7922, 0.7725, 0.7882,\n",
            "         0.8941, 1.0000, 1.0000, 0.9647, 0.9451, 0.9882, 0.9647, 0.7843, 0.8118,\n",
            "         0.4157, 0.0000, 0.0745, 0.7098, 0.8196, 0.7765, 0.7098, 0.9333, 0.9255,\n",
            "         0.9333, 0.9294, 0.9569, 1.0000, 1.0000, 1.0000, 1.0000, 1.0000, 1.0000,\n",
            "         0.9608, 0.8706, 0.8667, 0.9765, 0.9608, 0.9686, 1.0000, 1.0000, 0.7569,\n",
            "         0.8235, 0.3725, 0.0000, 0.3765, 0.7490, 0.8667, 0.8471, 0.8824, 0.9569,\n",
            "         0.9216, 0.9373, 0.9569, 0.9765, 0.9725, 0.9725, 0.9843, 1.0000, 0.9686,\n",
            "         0.8157, 0.7216, 0.7882, 0.7961, 0.7020, 0.7529, 0.7569, 0.7529, 0.7451,\n",
            "         0.7333, 0.8118, 0.2392, 0.2392, 0.6745, 0.5804, 0.6235, 0.6471, 0.8039,\n",
            "         0.9098, 0.9490, 1.0000, 1.0000, 1.0000, 1.0000, 1.0000, 0.9961, 0.8667,\n",
            "         0.7294, 0.7098, 0.7412, 0.7176, 0.7412, 0.7176, 0.6824, 0.6784, 0.6235,\n",
            "         0.6588, 0.6667, 0.7529, 0.5216, 0.2510, 0.7490, 0.8196, 0.7529, 0.6902,\n",
            "         0.6706, 0.5843, 0.6157, 0.6431, 0.6863, 0.6902, 0.6510, 0.6000, 0.5647,\n",
            "         0.5882, 0.6784, 0.7608, 0.7765, 0.7882, 0.7765, 0.7765, 0.7922, 0.7922,\n",
            "         0.7922, 0.7961, 0.7804, 0.7961, 0.7020, 0.0000, 0.0000, 0.2314, 0.5804,\n",
            "         0.8431, 0.9725, 0.9804, 0.9490, 0.8549, 0.8039, 0.8039, 0.8314, 0.8941,\n",
            "         0.9529, 1.0000, 0.9961, 0.9451, 0.7765, 0.8627, 1.0000, 0.8784, 0.8627,\n",
            "         0.9647, 0.9647, 0.9451, 0.8353, 0.8588, 0.7725, 0.0000, 0.0000, 0.0000,\n",
            "         0.0000, 0.0000, 0.0000, 0.1765, 0.4863, 0.6314, 0.7490, 0.7373, 0.6471,\n",
            "         0.5569, 0.3804, 0.1843, 0.0314, 0.0000, 0.0000, 0.0000, 0.1882, 0.6824,\n",
            "         0.5294, 0.4314, 0.4471, 0.4157, 0.4196, 0.4275, 0.0549, 0.0000, 0.0000,\n",
            "         0.0000, 0.0000, 0.0000, 0.0000, 0.0000, 0.0000, 0.0000, 0.0000, 0.0000,\n",
            "         0.0000, 0.0000, 0.0000, 0.0000, 0.0000, 0.0000, 0.0000, 0.0000, 0.0000,\n",
            "         0.0000, 0.0000, 0.0000, 0.0000, 0.0000, 0.0000, 0.0000, 0.0000, 0.0000,\n",
            "         0.0000, 0.0000, 0.0000, 0.0000, 0.0000, 0.0000, 0.0000, 0.0000, 0.0000,\n",
            "         0.0000, 0.0000, 0.0000, 0.0000, 0.0000, 0.0000, 0.0000, 0.0000, 0.0000,\n",
            "         0.0000, 0.0000, 0.0000, 0.0000, 0.0000, 0.0000, 0.0000, 0.0000, 0.0000,\n",
            "         0.0000, 0.0000, 0.0000, 0.0000, 0.0000, 0.0000, 0.0000, 0.0000, 0.0000,\n",
            "         0.0000, 0.0000, 0.0000, 0.0000, 0.0000, 0.0000, 0.0000, 0.0000, 0.0000,\n",
            "         0.0000, 0.0000, 0.0000, 0.0000, 0.0000, 0.0000, 0.0000, 0.0000, 0.0000,\n",
            "         0.0000]])\n"
          ]
        },
        {
          "output_type": "execute_result",
          "data": {
            "text/plain": [
              "(None, None)"
            ]
          },
          "metadata": {},
          "execution_count": 198
        }
      ]
    },
    {
      "cell_type": "code",
      "source": [
        "from torch import nn\n",
        "class FashionMNISTModelV0(nn.Module):\n",
        "    def __init__(self, input_shape: int, hidden_units: int, output_shape: int):\n",
        "        super().__init__()\n",
        "        self.layer_stack = nn.Sequential(\n",
        "            nn.Flatten(), # neural networks like their inputs in vector form\n",
        "            nn.Linear(in_features=input_shape, out_features=hidden_units), # in_features = number of features in a data sample (784 pixels)\n",
        "            nn.Linear(in_features=hidden_units, out_features=output_shape)\n",
        "        )\n",
        "\n",
        "    def forward(self, x):\n",
        "        return self.layer_stack(x)"
      ],
      "metadata": {
        "id": "HVAqzPhpsjCN"
      },
      "execution_count": 199,
      "outputs": []
    },
    {
      "cell_type": "code",
      "source": [
        "torch.manual_seed(42)\n",
        "\n",
        "# Need to setup model with input parameters\n",
        "model_0 = FashionMNISTModelV0(input_shape=784, # one for every pixel (28x28)\n",
        "    hidden_units=10, # how many units in the hidden layer\n",
        "    output_shape=len(class_names) # one for every class\n",
        ")\n",
        "model_0.to(\"cpu\") # keep model on CPU to begin with\n",
        "model_0"
      ],
      "metadata": {
        "colab": {
          "base_uri": "https://localhost:8080/"
        },
        "id": "cnv4STwn2cUI",
        "outputId": "9ce1fc7e-6188-4ee2-dc2f-25b02a08c70c"
      },
      "execution_count": 200,
      "outputs": [
        {
          "output_type": "execute_result",
          "data": {
            "text/plain": [
              "FashionMNISTModelV0(\n",
              "  (layer_stack): Sequential(\n",
              "    (0): Flatten(start_dim=1, end_dim=-1)\n",
              "    (1): Linear(in_features=784, out_features=10, bias=True)\n",
              "    (2): Linear(in_features=10, out_features=10, bias=True)\n",
              "  )\n",
              ")"
            ]
          },
          "metadata": {},
          "execution_count": 200
        }
      ]
    },
    {
      "cell_type": "code",
      "source": [
        "torch.manual_seed(42)\n",
        "dummy_x = torch.rand(size=(64, 1, 28, 28))\n",
        "model_0(dummy_x)"
      ],
      "metadata": {
        "colab": {
          "base_uri": "https://localhost:8080/"
        },
        "id": "T3bNnE9M8QH_",
        "outputId": "65535ad9-b6e2-4ee6-93de-91b057a615bb",
        "collapsed": true
      },
      "execution_count": 201,
      "outputs": [
        {
          "output_type": "execute_result",
          "data": {
            "text/plain": [
              "tensor([[ 0.1813, -0.3193,  1.3691,  0.9185, -0.1709, -1.0997, -0.3299,  1.6366,\n",
              "         -0.0506, -0.6301],\n",
              "        [-0.4516,  0.8411,  0.9107, -1.3592,  0.1957,  0.3044, -0.7906,  0.1414,\n",
              "         -0.7352,  0.2019],\n",
              "        [-0.1695, -0.0031,  1.0184,  0.9335,  0.2591,  0.8857, -0.5853,  0.5086,\n",
              "         -0.4174, -0.5672],\n",
              "        [ 1.1775,  1.0962,  0.8174, -0.4832,  1.6177,  1.0467, -0.4865,  0.5285,\n",
              "         -0.1905,  0.8807],\n",
              "        [ 0.9195, -0.1074, -1.1882,  0.0464, -0.2602,  0.4225,  0.0083, -0.3225,\n",
              "         -0.6650, -0.3440],\n",
              "        [ 0.3489, -0.8205, -0.0385,  0.5377,  1.8037,  1.6808, -0.2349, -0.7085,\n",
              "          0.0145, -1.2598],\n",
              "        [-1.1052, -1.2354,  0.9184,  0.0667,  1.3134,  0.9424,  1.7224, -0.4596,\n",
              "          0.1907,  0.4120],\n",
              "        [-0.6839,  0.0221,  1.0478, -1.0945,  1.1105,  0.9232,  1.0275, -0.1860,\n",
              "         -0.8912,  1.1185],\n",
              "        [ 0.7829,  0.6067, -0.9735,  0.3528,  1.5706, -0.4519, -0.8325,  1.4092,\n",
              "          0.7138, -0.0277],\n",
              "        [ 1.1889, -0.5403, -0.5520, -1.5725, -0.3200,  0.7837,  0.4461, -0.9828,\n",
              "          1.0528, -0.1878],\n",
              "        [ 0.0478,  0.3702,  0.0408, -0.1330,  0.6125,  0.2799,  0.2101,  0.2830,\n",
              "         -0.0727, -0.0896],\n",
              "        [-0.1387,  0.4250,  0.3344, -0.1021,  0.7445,  0.3706,  0.2178,  0.2974,\n",
              "         -0.3127, -0.0025],\n",
              "        [-0.1849,  0.1253,  0.2053, -0.2824,  0.3341,  0.2346,  0.5288,  0.1086,\n",
              "         -0.1366, -0.0259],\n",
              "        [-0.1743,  0.2462,  0.2531, -0.1468,  0.5874,  0.2481,  0.5233,  0.2283,\n",
              "         -0.0991, -0.0203],\n",
              "        [-0.2313,  0.4421,  0.2579, -0.2955,  0.6135,  0.2517,  0.2935,  0.2462,\n",
              "         -0.2836,  0.0206],\n",
              "        [-0.3638,  0.3424,  0.4125, -0.2771,  0.5599,  0.1814,  0.4718,  0.2641,\n",
              "         -0.1937,  0.0168],\n",
              "        [ 0.0345,  0.1478,  0.0611, -0.0592,  0.4966,  0.2625,  0.3352,  0.1912,\n",
              "         -0.0464, -0.1841],\n",
              "        [-0.0703,  0.2743,  0.0785, -0.0145,  0.7376,  0.3436,  0.3303,  0.2334,\n",
              "         -0.1847, -0.1020],\n",
              "        [-0.1704,  0.1381,  0.0486, -0.1287,  0.5565,  0.3576,  0.5131,  0.0451,\n",
              "         -0.1693, -0.1630],\n",
              "        [-0.1035,  0.3469,  0.4115, -0.2119,  0.4223,  0.3696,  0.2226,  0.1739,\n",
              "         -0.3201, -0.1238],\n",
              "        [-0.3283,  0.4090,  0.4994, -0.0592,  0.7170,  0.3038,  0.2385,  0.3805,\n",
              "         -0.3603,  0.0281],\n",
              "        [-0.2195,  0.3005,  0.2201, -0.1646,  0.4969,  0.3321,  0.5115,  0.1366,\n",
              "         -0.3137,  0.0261],\n",
              "        [-0.0569,  0.3236,  0.0816, -0.2188,  0.4917,  0.2879,  0.3136,  0.1430,\n",
              "         -0.1834, -0.1501],\n",
              "        [-0.0777,  0.3305,  0.2653, -0.0680,  0.6007,  0.2348,  0.3167,  0.3504,\n",
              "         -0.1574, -0.0226],\n",
              "        [-0.2402,  0.3084,  0.3970, -0.2235,  0.6537,  0.3182,  0.4038,  0.2071,\n",
              "         -0.1993, -0.0538],\n",
              "        [-0.1675,  0.1963,  0.2352, -0.1476,  0.5947,  0.2805,  0.5222,  0.1855,\n",
              "         -0.1504, -0.0174],\n",
              "        [-0.1954,  0.2675,  0.2863, -0.0852,  0.6270,  0.2655,  0.3370,  0.2738,\n",
              "         -0.2460, -0.0771],\n",
              "        [-0.1743,  0.4080,  0.2597, -0.0337,  0.7041,  0.2031,  0.1701,  0.4205,\n",
              "         -0.2262, -0.0274],\n",
              "        [-0.2074,  0.2641,  0.2056, -0.3116,  0.4823,  0.3168,  0.4367,  0.1090,\n",
              "         -0.2073,  0.0064],\n",
              "        [ 0.0359,  0.3155,  0.1222, -0.0772,  0.5848,  0.2282,  0.1826,  0.3306,\n",
              "         -0.0738, -0.1272],\n",
              "        [-0.1799,  0.3592,  0.2380, -0.1313,  0.4727,  0.1801,  0.2762,  0.3355,\n",
              "         -0.1887, -0.0206],\n",
              "        [-0.1406,  0.3809,  0.2189, -0.2081,  0.5298,  0.1855,  0.1945,  0.3028,\n",
              "         -0.2414, -0.0841],\n",
              "        [-0.0242,  0.4664,  0.1984, -0.1773,  0.5008,  0.1832,  0.1679,  0.3354,\n",
              "         -0.2457, -0.0875],\n",
              "        [-0.3324,  0.2246,  0.4108, -0.1941,  0.5814,  0.2823,  0.4498,  0.1882,\n",
              "         -0.2881, -0.0538],\n",
              "        [-0.2930,  0.2706,  0.3571, -0.0051,  0.6397,  0.2737,  0.3862,  0.2862,\n",
              "         -0.2181, -0.1189],\n",
              "        [-0.2678,  0.2084,  0.3029, -0.0335,  0.5780,  0.2269,  0.3911,  0.2788,\n",
              "         -0.2341, -0.0960],\n",
              "        [-0.1906,  0.2739,  0.1131,  0.0158,  0.3983,  0.2209,  0.4053,  0.2126,\n",
              "         -0.1785, -0.2654],\n",
              "        [-0.0513,  0.1801,  0.0172, -0.1085,  0.2788,  0.2046,  0.2856,  0.1511,\n",
              "         -0.2422, -0.2347],\n",
              "        [-0.1630,  0.2163,  0.2828, -0.0110,  0.6581,  0.2853,  0.3182,  0.2777,\n",
              "         -0.1444, -0.1355],\n",
              "        [-0.2017,  0.4496,  0.3042, -0.1310,  0.3692,  0.0795,  0.3511,  0.3825,\n",
              "         -0.3180, -0.0316],\n",
              "        [-0.1783,  0.3695,  0.1786, -0.0631,  0.5735,  0.1850,  0.2333,  0.3326,\n",
              "         -0.2078, -0.1477],\n",
              "        [-0.0792,  0.4311,  0.1710, -0.2413,  0.4455,  0.1776,  0.3482,  0.2707,\n",
              "         -0.1832, -0.0518],\n",
              "        [-0.2260,  0.3865,  0.2862, -0.0361,  0.6393,  0.1846,  0.2341,  0.3803,\n",
              "         -0.1708, -0.1486],\n",
              "        [-0.0953,  0.3201,  0.2136, -0.2060,  0.4649,  0.1285,  0.3561,  0.3187,\n",
              "         -0.1435, -0.0064],\n",
              "        [-0.2247,  0.1816,  0.4381, -0.1352,  0.5309,  0.3704,  0.3683,  0.1996,\n",
              "         -0.2896,  0.0022],\n",
              "        [-0.3219,  0.2379,  0.4465, -0.0225,  0.4426,  0.1572,  0.4537,  0.3441,\n",
              "         -0.2303, -0.0432],\n",
              "        [-0.1849,  0.4168,  0.3678, -0.0872,  0.5812,  0.2403,  0.2496,  0.3453,\n",
              "         -0.3302, -0.0692],\n",
              "        [-0.3182,  0.4046,  0.3108, -0.2161,  0.5663,  0.2661,  0.4672,  0.2222,\n",
              "         -0.3778,  0.0458],\n",
              "        [-0.1271,  0.1870,  0.3259, -0.1447,  0.6352,  0.3860,  0.3187,  0.1660,\n",
              "         -0.2849, -0.0720],\n",
              "        [-0.2423,  0.3731,  0.4424, -0.1272,  0.6165,  0.2998,  0.3391,  0.3120,\n",
              "         -0.2846,  0.0485],\n",
              "        [-0.1423,  0.4628,  0.2439, -0.1275,  0.6297,  0.1979,  0.1642,  0.4101,\n",
              "         -0.2606,  0.0138],\n",
              "        [-0.1376,  0.2051,  0.1857, -0.1923,  0.3609,  0.1970,  0.4306,  0.1970,\n",
              "         -0.1751, -0.0565],\n",
              "        [-0.0837,  0.3747,  0.2097, -0.1665,  0.6419,  0.3145,  0.3374,  0.2330,\n",
              "         -0.2962,  0.0019],\n",
              "        [-0.2983,  0.2813,  0.3542, -0.2290,  0.5047,  0.1814,  0.5479,  0.2534,\n",
              "         -0.2232,  0.0796],\n",
              "        [-0.1777,  0.4589,  0.2349, -0.2677,  0.6117,  0.2021,  0.3260,  0.2956,\n",
              "         -0.2124,  0.0330],\n",
              "        [-0.1642,  0.4239,  0.2503, -0.1143,  0.5343,  0.2407,  0.2998,  0.2917,\n",
              "         -0.3970, -0.0046],\n",
              "        [-0.0885,  0.3346,  0.2586, -0.3185,  0.6433,  0.4494,  0.4035,  0.1128,\n",
              "         -0.3049,  0.1327],\n",
              "        [-0.0440,  0.2858,  0.1824, -0.2759,  0.6783,  0.3983,  0.3634,  0.1345,\n",
              "         -0.1916,  0.0296],\n",
              "        [-0.1407,  0.2985,  0.1812, -0.1641,  0.4949,  0.1909,  0.3379,  0.2518,\n",
              "         -0.2215, -0.0860],\n",
              "        [-0.1464,  0.1521,  0.1812, -0.0971,  0.6201,  0.3615,  0.4008,  0.1398,\n",
              "         -0.1799, -0.0921],\n",
              "        [-0.1568,  0.5137,  0.4738, -0.1287,  0.6831,  0.2568,  0.1706,  0.4339,\n",
              "         -0.2537,  0.0311],\n",
              "        [-0.3141,  0.1824,  0.2842, -0.0756,  0.5398,  0.2516,  0.3774,  0.2115,\n",
              "         -0.2683, -0.1520],\n",
              "        [-0.1726,  0.1745,  0.3364, -0.1626,  0.4652,  0.2410,  0.3270,  0.2236,\n",
              "         -0.1749, -0.1269],\n",
              "        [-0.1215,  0.2535,  0.3672,  0.0473,  0.6018,  0.2216,  0.3280,  0.3699,\n",
              "         -0.1224, -0.1174]], grad_fn=<AddmmBackward0>)"
            ]
          },
          "metadata": {},
          "execution_count": 201
        }
      ]
    },
    {
      "cell_type": "code",
      "source": [],
      "metadata": {
        "id": "HDz0Hp_qD8bU"
      },
      "execution_count": 201,
      "outputs": []
    },
    {
      "cell_type": "code",
      "source": [
        "loss = nn.CrossEntropyLoss()\n",
        "loss"
      ],
      "metadata": {
        "colab": {
          "base_uri": "https://localhost:8080/"
        },
        "id": "8dCY1xJHDbj1",
        "outputId": "ad45eb2a-e5f4-4fef-b9f4-6b498086c8dd"
      },
      "execution_count": 202,
      "outputs": [
        {
          "output_type": "execute_result",
          "data": {
            "text/plain": [
              "CrossEntropyLoss()"
            ]
          },
          "metadata": {},
          "execution_count": 202
        }
      ]
    },
    {
      "cell_type": "markdown",
      "source": [
        "# 3.1 Setup loss, optimizer and evaluation metrics\n",
        "1. Classification Problems:\n",
        "Loss Function: Cross-Entropy Loss\n",
        "Optimizer: Adam\n",
        "Evaluation Metrics:\n",
        "Accuracy\n",
        "Precision\n",
        "Recall\n",
        "F1-Score\n",
        "AUC-ROC\n",
        "2. Regression Problems:\n",
        "Loss Function: Mean Squared Error (MSE)\n",
        "Optimizer: Adam\n",
        "Evaluation Metrics:\n",
        "Mean Absolute Error (MAE)\n",
        "Mean Squared Error (MSE)\n",
        "Root Mean Squared Error (RMSE)\n",
        "R-squared (R²)\n",
        "3. Binary Classification:\n",
        "Loss Function: Binary Cross-Entropy\n",
        "Optimizer: Adam\n",
        "Evaluation Metrics:\n",
        "Accuracy\n",
        "Precision\n",
        "Recall\n",
        "F1-Score\n",
        "AUC-ROC\n",
        "4. Image Classification / CNNs:\n",
        "Loss Function: Categorical Cross-Entropy Loss\n",
        "Optimizer: Adam\n",
        "Evaluation Metrics:\n",
        "Accuracy\n",
        "Precision\n",
        "Recall\n",
        "F1-Score\n",
        "Confusion Matrix\n",
        "5. Sequence Models / RNNs:\n",
        "Loss Function: Cross-Entropy Loss (for classification), Mean Squared Error (MSE) (for regression)\n",
        "Optimizer: Adam\n",
        "Evaluation Metrics:\n",
        "Accuracy (for classification)\n",
        "Perplexity (for language models)\n",
        "BLEU Score (for translation tasks)\n",
        "ROUGE Score (for text summarization)\n",
        "6. Unsupervised Learning (e.g., Autoencoders, Clustering):\n",
        "Loss Function: Kullback-Leibler Divergence, Reconstruction Loss (MSE)\n",
        "Optimizer: Adam\n",
        "Evaluation Metrics:\n",
        "Silhouette Score (for clustering)\n",
        "Davies-Bouldin Index (for clustering)\n",
        "Mean Squared Error (MSE) (for reconstruction tasks)\n",
        "7. Generative Models (e.g., GANs):\n",
        "Loss Function: Binary Cross-Entropy\n",
        "Optimizer: Adam\n",
        "Evaluation Metrics:\n",
        "Inception Score\n",
        "Fréchet Inception Distance (FID)\n",
        "Visual Inspection (qualitative evaluation)\n"
      ],
      "metadata": {
        "id": "wA4VwuyoEEuE"
      }
    },
    {
      "cell_type": "markdown",
      "source": [
        "![image.png](data:image/png;base64,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)"
      ],
      "metadata": {
        "id": "PIU8exuSFg_Q"
      }
    },
    {
      "cell_type": "code",
      "source": [
        "import requests\n",
        "from pathlib import Path\n",
        "\n",
        "# Download helper functions from Learn PyTorch repo (if not already downloaded)\n",
        "if Path(\"helper_functions.py\").is_file():\n",
        "  print(\"helper_functions.py already exists, skipping download\")\n",
        "else:\n",
        "  print(\"Downloading helper_functions.py\")\n",
        "  # Note: you need the \"raw\" GitHub URL for this to work\n",
        "  request = requests.get(\"https://raw.githubusercontent.com/mrdbourke/pytorch-deep-learning/main/helper_functions.py\")\n",
        "  with open(\"helper_functions.py\", \"wb\") as f:\n",
        "    f.write(request.content)"
      ],
      "metadata": {
        "colab": {
          "base_uri": "https://localhost:8080/"
        },
        "id": "KbiOYb_uGlso",
        "outputId": "792ce216-208f-47d8-8f28-0390edf2ab25"
      },
      "execution_count": 203,
      "outputs": [
        {
          "output_type": "stream",
          "name": "stdout",
          "text": [
            "helper_functions.py already exists, skipping download\n"
          ]
        }
      ]
    },
    {
      "cell_type": "code",
      "source": [
        "# import accuracy function from the helper function\n",
        "from helper_functions import accuracy_fn\n",
        "\n",
        "# setup loss function and optimizer\n",
        "loss_fn = nn.CrossEntropyLoss()\n",
        "optimizers = torch.optim.SGD(params=model_0.parameters(),\n",
        "                             lr=0.1)\n"
      ],
      "metadata": {
        "id": "bkbacE-wJ2dA"
      },
      "execution_count": 204,
      "outputs": []
    },
    {
      "cell_type": "markdown",
      "source": [
        "# 3.2 Creating a function to tome out expetiments\n",
        "\n",
        "Two of the main things you'll often wanta to track are:\n",
        "1. model' performance (loss and accuracy values etc)\n",
        "2. How fast it runs\n"
      ],
      "metadata": {
        "id": "xcjq5wv9MjEI"
      }
    },
    {
      "cell_type": "code",
      "source": [
        "from timeit import default_timer as timer\n",
        "def print_train_time(start:float,\n",
        "                     end:float,\n",
        "                     device:torch.device=None):\n",
        "  \"\"\" print difftence between the start and end time.\"\"\"\n",
        "  total_time = end - start\n",
        "  print(f\"Train time on {device}: {total_time:.3f} seconds\")\n",
        "  return total_time"
      ],
      "metadata": {
        "id": "BMW4pxkVK0e1"
      },
      "execution_count": 205,
      "outputs": []
    },
    {
      "cell_type": "code",
      "source": [
        "start_time = timer()\n",
        "end_time = timer()\n",
        "\n",
        "print_train_time(start = start_time,\n",
        "                 end = end_time,\n",
        "                 device=\"cpu\")"
      ],
      "metadata": {
        "colab": {
          "base_uri": "https://localhost:8080/"
        },
        "id": "n2RULzokKs8t",
        "outputId": "e402cef0-5e5d-40aa-b90b-89054c123e41"
      },
      "execution_count": 206,
      "outputs": [
        {
          "output_type": "stream",
          "name": "stdout",
          "text": [
            "Train time on cpu: 0.000 seconds\n"
          ]
        },
        {
          "output_type": "execute_result",
          "data": {
            "text/plain": [
              "5.499400140251964e-05"
            ]
          },
          "metadata": {},
          "execution_count": 206
        }
      ]
    },
    {
      "cell_type": "code",
      "source": [
        "start_time = timer()\n",
        "end_time = timer()\n",
        "\n",
        "print_train_time(start = start_time,\n",
        "                 end = end_time,\n",
        "                 device=\"gpu\")"
      ],
      "metadata": {
        "colab": {
          "base_uri": "https://localhost:8080/"
        },
        "id": "t71Bz2fwSrY3",
        "outputId": "dbc303e4-f9ec-485d-fea3-c0cde470b3f7"
      },
      "execution_count": 207,
      "outputs": [
        {
          "output_type": "stream",
          "name": "stdout",
          "text": [
            "Train time on gpu: 0.000 seconds\n"
          ]
        },
        {
          "output_type": "execute_result",
          "data": {
            "text/plain": [
              "4.67630015918985e-05"
            ]
          },
          "metadata": {},
          "execution_count": 207
        }
      ]
    },
    {
      "cell_type": "markdown",
      "source": [
        "### 3.3 Creating a training loop and training a model on batches of data\n",
        "\n",
        "1. Loop through epochs.\n",
        "2. Loop through training batches, perform training steps, calculate the train loss *per batch*.\n",
        "3. Loop through testing batches, perform testing steps, calculate the test loss *per batch*.\n",
        "4. print out what's hapenning.\n",
        "5. Time it all (for fun)"
      ],
      "metadata": {
        "id": "xYinpJwGAYoa"
      }
    },
    {
      "cell_type": "code",
      "source": [
        "optimizer = torch.optim.SGD(params=model_0.parameters(),\n",
        "                            lr=0.1)"
      ],
      "metadata": {
        "id": "CK7zRotrGr_R"
      },
      "execution_count": 208,
      "outputs": []
    },
    {
      "cell_type": "code",
      "source": [
        "# Import tqdm for progress bar\n",
        "from tqdm.auto import tqdm\n",
        "\n",
        "# Set the seed and start the timer\n",
        "torch.manual_seed(42)\n",
        "train_time_start_on_cpu = timer()\n",
        "\n",
        "# Set the number of epochs (we'll keep this small for faster training times)\n",
        "epochs = 3\n",
        "\n",
        "# Create training and testing loop\n",
        "for epoch in tqdm(range(epochs)):\n",
        "    print(f\"Epoch: {epoch}\\n-------\")\n",
        "    ### Training\n",
        "    train_loss = 0\n",
        "    # Add a loop to loop through training batches\n",
        "    for batch, (X, y) in enumerate(train_dataloader):\n",
        "        model_0.train()\n",
        "        # 1. Forward pass\n",
        "        y_pred = model_0(X)\n",
        "\n",
        "        # 2. Calculate loss (per batch)\n",
        "        loss = loss_fn(y_pred, y)\n",
        "        train_loss += loss # accumulatively add up the loss per epoch\n",
        "\n",
        "        # 3. Optimizer zero grad\n",
        "        optimizer.zero_grad()\n",
        "\n",
        "        # 4. Loss backward\n",
        "        loss.backward()\n",
        "\n",
        "        # 5. Optimizer step\n",
        "        optimizer.step()\n",
        "\n",
        "        # Print out how many samples have been seen\n",
        "        if batch % 400 == 0:\n",
        "            print(f\"Looked at {batch * len(X)}/{len(train_dataloader.dataset)} samples\")\n",
        "\n",
        "    # Divide total train loss by length of train dataloader (average loss per batch per epoch)\n",
        "    train_loss /= len(train_dataloader)\n",
        "\n",
        "    ### Testing\n",
        "    # Setup variables for accumulatively adding up loss and accuracy\n",
        "    test_loss, test_acc = 0, 0\n",
        "    model_0.eval()\n",
        "    with torch.inference_mode():\n",
        "        for X, y in test_dataloader:\n",
        "            # 1. Forward pass\n",
        "            test_pred = model_0(X)\n",
        "\n",
        "            # 2. Calculate loss (accumulatively)\n",
        "            test_loss += loss_fn(test_pred, y) # accumulatively add up the loss per epoch\n",
        "\n",
        "            # 3. Calculate accuracy (preds need to be same as y_true)\n",
        "            test_acc += accuracy_fn(y_true=y, y_pred=test_pred.argmax(dim=1))\n",
        "\n",
        "        # Calculations on test metrics need to happen inside torch.inference_mode()\n",
        "        # Divide total test loss by length of test dataloader (per batch)\n",
        "        test_loss /= len(test_dataloader)\n",
        "\n",
        "        # Divide total accuracy by length of test dataloader (per batch)\n",
        "        test_acc /= len(test_dataloader)\n",
        "\n",
        "    ## Print out what's happening\n",
        "    print(f\"\\nTrain loss: {train_loss:.5f} | Test loss: {test_loss:.5f}, Test acc: {test_acc:.2f}%\\n\")\n",
        "\n",
        "# Calculate training time\n",
        "train_time_end_on_cpu = timer()\n",
        "total_train_time_model_0 = print_train_time(start=train_time_start_on_cpu,\n",
        "                                           end=train_time_end_on_cpu,\n",
        "                                           device=str(next(model_0.parameters()).device))"
      ],
      "metadata": {
        "colab": {
          "base_uri": "https://localhost:8080/",
          "height": 587,
          "referenced_widgets": [
            "75a770efbe644c07bbc76d561c2fcfb7",
            "44f3a22e63554469a0990034cb559b16",
            "1844d3c7653e41ad95b0d450a4732810",
            "0eb7e5367df84c878e95b01602d544ba",
            "ffd4a19b456444fbbdaa37f1efb1ffa6",
            "35f0b5c60add47a78648fe1dd3bb4e55",
            "656188dad56f4c6696b6c09075e30fbd",
            "12a05dd44c404de8b1718ddb794a4ba9",
            "ecfc5cb30fbe460496148aeccb96ece6",
            "38a076cfc91341eda6e7a3c6f5411237",
            "f28f6fcb79b444209e4b8f3e25737739"
          ]
        },
        "id": "0pZq2qhoBJLD",
        "outputId": "dff7b8ab-8759-4c7b-d0fb-17b02a0a8515"
      },
      "execution_count": 209,
      "outputs": [
        {
          "output_type": "display_data",
          "data": {
            "text/plain": [
              "  0%|          | 0/3 [00:00<?, ?it/s]"
            ],
            "application/vnd.jupyter.widget-view+json": {
              "version_major": 2,
              "version_minor": 0,
              "model_id": "75a770efbe644c07bbc76d561c2fcfb7"
            }
          },
          "metadata": {}
        },
        {
          "output_type": "stream",
          "name": "stdout",
          "text": [
            "Epoch: 0\n",
            "-------\n",
            "Looked at 0/60000 samples\n",
            "Looked at 12800/60000 samples\n",
            "Looked at 25600/60000 samples\n",
            "Looked at 38400/60000 samples\n",
            "Looked at 51200/60000 samples\n",
            "\n",
            "Train loss: 0.59039 | Test loss: 0.50954, Test acc: 82.04%\n",
            "\n",
            "Epoch: 1\n",
            "-------\n",
            "Looked at 0/60000 samples\n",
            "Looked at 12800/60000 samples\n",
            "Looked at 25600/60000 samples\n",
            "Looked at 38400/60000 samples\n",
            "Looked at 51200/60000 samples\n",
            "\n",
            "Train loss: 0.47633 | Test loss: 0.47989, Test acc: 83.20%\n",
            "\n",
            "Epoch: 2\n",
            "-------\n",
            "Looked at 0/60000 samples\n",
            "Looked at 12800/60000 samples\n",
            "Looked at 25600/60000 samples\n",
            "Looked at 38400/60000 samples\n",
            "Looked at 51200/60000 samples\n",
            "\n",
            "Train loss: 0.45503 | Test loss: 0.47664, Test acc: 83.43%\n",
            "\n",
            "Train time on cpu: 37.773 seconds\n"
          ]
        }
      ]
    },
    {
      "cell_type": "code",
      "source": [],
      "metadata": {
        "id": "HjwY2CVbMnih"
      },
      "execution_count": 209,
      "outputs": []
    },
    {
      "cell_type": "markdown",
      "source": [
        "### 4. Make predictions and get Model_0 result"
      ],
      "metadata": {
        "id": "jlqklRlrMoRR"
      }
    },
    {
      "cell_type": "code",
      "source": [
        "torch.manual_seed(42)\n",
        "def eval_model(model: torch.nn.Module,\n",
        "               data_loader: torch.utils.data.DataLoader,\n",
        "               loss_fn: torch.nn.Module,\n",
        "               accuracy_fn):\n",
        "    \"\"\"Returns a dictionary containing the results of model predicting on data_loader.\n",
        "\n",
        "    Args:\n",
        "        model (torch.nn.Module): A PyTorch model capable of making predictions on data_loader.\n",
        "        data_loader (torch.utils.data.DataLoader): The target dataset to predict on.\n",
        "        loss_fn (torch.nn.Module): The loss function of model.\n",
        "        accuracy_fn: An accuracy function to compare the models predictions to the truth labels.\n",
        "\n",
        "    Returns:\n",
        "        (dict): Results of model making predictions on data_loader.\n",
        "    \"\"\"\n",
        "    loss, acc = 0, 0\n",
        "    model.eval()\n",
        "    with torch.inference_mode():\n",
        "        for X, y in data_loader:\n",
        "            # Make predictions with the model\n",
        "            y_pred = model(X)\n",
        "\n",
        "            # Accumulate the loss and accuracy values per batch\n",
        "            loss += loss_fn(y_pred, y)\n",
        "            acc += accuracy_fn(y_true=y,\n",
        "                                y_pred=y_pred.argmax(dim=1)) # For accuracy, need the prediction labels (logits -> pred_prob -> pred_labels)\n",
        "\n",
        "        # Scale loss and acc to find the average loss/acc per batch\n",
        "        loss /= len(data_loader)\n",
        "        acc /= len(data_loader)\n",
        "\n",
        "    return {\"model_name\": model.__class__.__name__, # only works when model was created with a class\n",
        "            \"model_loss\": loss.item(),\n",
        "            \"model_acc\": acc}\n",
        "\n",
        "# Calculate model 0 results on test dataset\n",
        "model_0_results = eval_model(model=model_0, data_loader=test_dataloader,\n",
        "    loss_fn=loss_fn, accuracy_fn=accuracy_fn\n",
        ")\n",
        "model_0_results"
      ],
      "metadata": {
        "colab": {
          "base_uri": "https://localhost:8080/"
        },
        "id": "MCnfr_EgMzML",
        "outputId": "7ad63b11-c358-4645-ef4c-2b2926a71378"
      },
      "execution_count": 210,
      "outputs": [
        {
          "output_type": "execute_result",
          "data": {
            "text/plain": [
              "{'model_name': 'FashionMNISTModelV0',\n",
              " 'model_loss': 0.47663894295692444,\n",
              " 'model_acc': 83.42651757188499}"
            ]
          },
          "metadata": {},
          "execution_count": 210
        }
      ]
    },
    {
      "cell_type": "code",
      "source": [],
      "metadata": {
        "id": "PPFZXwNOdfPa"
      },
      "execution_count": 210,
      "outputs": []
    },
    {
      "cell_type": "markdown",
      "source": [
        "### 5. Setup device agnostic-code (for using gpu if there is one)"
      ],
      "metadata": {
        "id": "ChSf0ccEdi0U"
      }
    },
    {
      "cell_type": "code",
      "source": [
        "!nvedia-smi"
      ],
      "metadata": {
        "colab": {
          "base_uri": "https://localhost:8080/"
        },
        "id": "sUJUuqTUdqn3",
        "outputId": "3a8cfda1-5cfb-4793-9889-047f746afa24"
      },
      "execution_count": 211,
      "outputs": [
        {
          "output_type": "stream",
          "name": "stdout",
          "text": [
            "/bin/bash: line 1: nvedia-smi: command not found\n"
          ]
        }
      ]
    },
    {
      "cell_type": "code",
      "source": [
        "torch.cuda.is_available()"
      ],
      "metadata": {
        "colab": {
          "base_uri": "https://localhost:8080/"
        },
        "id": "2I2RjFkrdzBS",
        "outputId": "9f6bffb8-9f6b-4fd4-e1dc-02bcbcef2a1e"
      },
      "execution_count": 212,
      "outputs": [
        {
          "output_type": "execute_result",
          "data": {
            "text/plain": [
              "False"
            ]
          },
          "metadata": {},
          "execution_count": 212
        }
      ]
    },
    {
      "cell_type": "code",
      "source": [
        "# setup device agnostic code\n",
        "import torch\n",
        "device = \"cuda\" if torch.cuda.is_available() else \"cpu\"\n",
        "device"
      ],
      "metadata": {
        "colab": {
          "base_uri": "https://localhost:8080/",
          "height": 35
        },
        "id": "U9tsubOqgfDr",
        "outputId": "ffedfc8e-25df-4a69-d306-32f028078919"
      },
      "execution_count": 213,
      "outputs": [
        {
          "output_type": "execute_result",
          "data": {
            "text/plain": [
              "'cpu'"
            ],
            "application/vnd.google.colaboratory.intrinsic+json": {
              "type": "string"
            }
          },
          "metadata": {},
          "execution_count": 213
        }
      ]
    },
    {
      "cell_type": "markdown",
      "source": [
        "### Model 1: Buileinng better model with non-linearity"
      ],
      "metadata": {
        "id": "cuLSQk_vimPt"
      }
    },
    {
      "cell_type": "code",
      "source": [
        "# create a model with non-linear and linear layers\n",
        "class FashionMNISTModelV1(nn.Module):\n",
        "  def __init__(self,\n",
        "               input_shape:int,\n",
        "               hidden_shape:int,\n",
        "               output_shape:int):\n",
        "    super().__init__()\n",
        "    self.layer_stack = nn.Sequential(\n",
        "        nn.Flatten(),\n",
        "        nn.Linear(in_features=input_shape,\n",
        "                  out_features=hidden_shape),\n",
        "        nn.ReLU(),\n",
        "        nn.Linear(in_features=input_shape,\n",
        "                  out_features=output_shape),\n",
        "        nn.ReLU()\n",
        "        )\n",
        "\n",
        "model_1 = FashionMNISTModelV1(input_shape=784,\n",
        "                               hidden_shape=10,\n",
        "                               output_shape=10)\n",
        "\n",
        "model_1.to(device)\n",
        "\n",
        "\n"
      ],
      "metadata": {
        "colab": {
          "base_uri": "https://localhost:8080/"
        },
        "id": "kJznbR_ZiPjO",
        "outputId": "fb643f3c-f396-42fd-b268-908e53418ec8"
      },
      "execution_count": 214,
      "outputs": [
        {
          "output_type": "execute_result",
          "data": {
            "text/plain": [
              "FashionMNISTModelV1(\n",
              "  (layer_stack): Sequential(\n",
              "    (0): Flatten(start_dim=1, end_dim=-1)\n",
              "    (1): Linear(in_features=784, out_features=10, bias=True)\n",
              "    (2): ReLU()\n",
              "    (3): Linear(in_features=784, out_features=10, bias=True)\n",
              "    (4): ReLU()\n",
              "  )\n",
              ")"
            ]
          },
          "metadata": {},
          "execution_count": 214
        }
      ]
    },
    {
      "cell_type": "code",
      "source": [
        "# Create a model with non-linear and linear layers\n",
        "class FashionMNISTModelV1(nn.Module):\n",
        "    def __init__(self, input_shape: int, hidden_units: int, output_shape: int):\n",
        "        super().__init__()\n",
        "        self.layer_stack = nn.Sequential(\n",
        "            nn.Flatten(), # flatten inputs into single vector\n",
        "            nn.Linear(in_features=input_shape, out_features=hidden_units),\n",
        "            nn.ReLU(),\n",
        "            nn.Linear(in_features=hidden_units, out_features=output_shape),\n",
        "            nn.ReLU()\n",
        "        )\n",
        "\n",
        "    def forward(self, x: torch.Tensor):\n",
        "        return self.layer_stack(x)"
      ],
      "metadata": {
        "id": "3hOKyGuQpQlk"
      },
      "execution_count": 215,
      "outputs": []
    },
    {
      "cell_type": "code",
      "source": [
        "torch.manual_seed(42)\n",
        "\n",
        "model_1 = FashionMNISTModelV1(input_shape=784,\n",
        "                              hidden_units=10,\n",
        "                              output_shape= len(class_names)).to(device)"
      ],
      "metadata": {
        "id": "JrHcjLt7q9Rn"
      },
      "execution_count": 216,
      "outputs": []
    },
    {
      "cell_type": "markdown",
      "source": [
        "### 6.1 Setups loss, Optimizer and evaluation metrics"
      ],
      "metadata": {
        "id": "pv9Deye0sdBU"
      }
    },
    {
      "cell_type": "code",
      "source": [
        "from helper_functions import accuracy_fn\n",
        "loss_fn = nn.CrossEntropyLoss()\n",
        "optimizer = torch.optim.SGD(params=model_1.parameters(),\n",
        "                                lr=0.1)"
      ],
      "metadata": {
        "id": "38lONQqIslUu"
      },
      "execution_count": 217,
      "outputs": []
    },
    {
      "cell_type": "markdown",
      "source": [
        "### 6.2 function training and evaluation/testing loops\n",
        "let's create a function for:\n",
        "* training loop - `train_steps()`\n",
        "* test loop - `test_steps()`"
      ],
      "metadata": {
        "id": "HKAlTz0OzmKf"
      }
    },
    {
      "cell_type": "code",
      "source": [
        "def train_step(model: torch.nn.Module,\n",
        "               data_loader: torch.utils.data.DataLoader,\n",
        "               loss_fn: torch.nn.Module,\n",
        "               optimizer: torch.optim.Optimizer,\n",
        "               accuracy_fn,\n",
        "               device: torch.device = device):\n",
        "    train_loss, train_acc = 0, 0\n",
        "    model.to(device)\n",
        "    for batch, (X, y) in enumerate(data_loader):\n",
        "        # Send data to GPU\n",
        "        X, y = X.to(device), y.to(device)\n",
        "\n",
        "        # 1. Forward pass\n",
        "        y_pred = model(X)\n",
        "\n",
        "        # 2. Calculate loss\n",
        "        loss = loss_fn(y_pred, y)\n",
        "        train_loss += loss\n",
        "        train_acc += accuracy_fn(y_true=y,\n",
        "                                 y_pred=y_pred.argmax(dim=1)) # Go from logits -> pred labels\n",
        "\n",
        "        # 3. Optimizer zero grad\n",
        "        optimizer.zero_grad()\n",
        "\n",
        "        # 4. Loss backward\n",
        "        loss.backward()\n",
        "\n",
        "        # 5. Optimizer step\n",
        "        optimizer.step()\n",
        "\n",
        "    # Calculate loss and accuracy per epoch and print out what's happening\n",
        "    train_loss /= len(data_loader)\n",
        "    train_acc /= len(data_loader)\n",
        "    print(f\"Train loss: {train_loss:.5f} | Train accuracy: {train_acc:.2f}%\")\n",
        "\n",
        "def test_step(data_loader: torch.utils.data.DataLoader,\n",
        "              model: torch.nn.Module,\n",
        "              loss_fn: torch.nn.Module,\n",
        "              accuracy_fn,\n",
        "              device: torch.device = device):\n",
        "    test_loss, test_acc = 0, 0\n",
        "    model.to(device)\n",
        "    model.eval() # put model in eval mode\n",
        "    # Turn on inference context manager\n",
        "    with torch.inference_mode():\n",
        "        for X, y in data_loader:\n",
        "            # Send data to GPU\n",
        "            X, y = X.to(device), y.to(device)\n",
        "\n",
        "            # 1. Forward pass\n",
        "            test_pred = model(X)\n",
        "\n",
        "            # 2. Calculate loss and accuracy\n",
        "            test_loss += loss_fn(test_pred, y)\n",
        "            test_acc += accuracy_fn(y_true=y,\n",
        "                y_pred=test_pred.argmax(dim=1) # Go from logits -> pred labels\n",
        "            )\n",
        "\n",
        "        # Adjust metrics and print out\n",
        "        test_loss /= len(data_loader)\n",
        "        test_acc /= len(data_loader)\n",
        "        print(f\"Test loss: {test_loss:.5f} | Test accuracy: {test_acc:.2f}%\\n\")"
      ],
      "metadata": {
        "id": "Nqvlf7UwpIx4"
      },
      "execution_count": 218,
      "outputs": []
    },
    {
      "cell_type": "code",
      "source": [
        "torch.manual_seed(42)\n",
        "\n",
        "# Measure time\n",
        "from timeit import default_timer as timer\n",
        "train_time_start_on_gpu = timer()\n",
        "\n",
        "epochs = 3\n",
        "for epoch in tqdm(range(epochs)):\n",
        "    print(f\"Epoch: {epoch}\\n---------\")\n",
        "    train_step(data_loader=train_dataloader,\n",
        "        model=model_1,\n",
        "        loss_fn=loss_fn,\n",
        "        optimizer=optimizer,\n",
        "        accuracy_fn=accuracy_fn\n",
        "    )\n",
        "    test_step(data_loader=test_dataloader,\n",
        "        model=model_1,\n",
        "        loss_fn=loss_fn,\n",
        "        accuracy_fn=accuracy_fn\n",
        "    )\n",
        "\n",
        "train_time_end_on_gpu = timer()\n",
        "total_train_time_model_1 = print_train_time(start=train_time_start_on_gpu,\n",
        "                                            end=train_time_end_on_gpu,\n",
        "                                            device=device)"
      ],
      "metadata": {
        "id": "bZUV5wg01wOi",
        "colab": {
          "base_uri": "https://localhost:8080/",
          "height": 327,
          "referenced_widgets": [
            "83d8b26f1ea84ec6a0f7dccf07632eae",
            "c7bd582a1718450abfcdaf9ee378afb9",
            "11916ec4e8cb4095b187bba59be17973",
            "fecde342d696450ab4f14ba88b44426e",
            "29de44d684e24d1bb4a4857b126db866",
            "3648232db5104f7cbbcfad852d2c15d8",
            "073d3bb3042240cba9b1b5bc019089e9",
            "ea3ae609bde745028edfa5d1148721e0",
            "3762471ea27744a2b4cbe6c63afc869c",
            "30f0484c36f545daa72a56337b7a4f22",
            "9dc7a49eb0524f5cb1c691743183317f"
          ]
        },
        "outputId": "2d5c8b36-d1ad-4ee5-e5ed-da9c764588f5"
      },
      "execution_count": 219,
      "outputs": [
        {
          "output_type": "display_data",
          "data": {
            "text/plain": [
              "  0%|          | 0/3 [00:00<?, ?it/s]"
            ],
            "application/vnd.jupyter.widget-view+json": {
              "version_major": 2,
              "version_minor": 0,
              "model_id": "83d8b26f1ea84ec6a0f7dccf07632eae"
            }
          },
          "metadata": {}
        },
        {
          "output_type": "stream",
          "name": "stdout",
          "text": [
            "Epoch: 0\n",
            "---------\n",
            "Train loss: 1.09199 | Train accuracy: 61.34%\n",
            "Test loss: 0.95636 | Test accuracy: 65.00%\n",
            "\n",
            "Epoch: 1\n",
            "---------\n",
            "Train loss: 0.78101 | Train accuracy: 71.93%\n",
            "Test loss: 0.72227 | Test accuracy: 73.91%\n",
            "\n",
            "Epoch: 2\n",
            "---------\n",
            "Train loss: 0.67027 | Train accuracy: 75.94%\n",
            "Test loss: 0.68500 | Test accuracy: 75.02%\n",
            "\n",
            "Train time on cpu: 29.637 seconds\n"
          ]
        }
      ]
    },
    {
      "cell_type": "code",
      "source": [
        "torch.manual_seed(42)\n",
        "def eval_model(model: torch.nn.Module,\n",
        "               data_loader: torch.utils.data.DataLoader,\n",
        "               loss_fn: torch.nn.Module,\n",
        "               accuracy_fn):\n",
        "    \"\"\"Returns a dictionary\"\"\"\n",
        "\n",
        "# Measure time\n",
        "from timeit import default_timer as timer\n",
        "train_time_start_on_gpu = timer()\n",
        "\n",
        "epochs = 3\n",
        "for epoch in tqdm(range(epochs)):\n",
        "    print(f\"Epoch: {epoch}\\n---------\")\n",
        "    train_step(data_loader=train_dataloader,\n",
        "        model=model_1,\n",
        "        loss_fn=loss_fn,\n",
        "        optimizer=optimizer,\n",
        "        accuracy_fn=accuracy_fn\n",
        "    )\n",
        "    test_step(data_loader=test_dataloader,\n",
        "        model=model_1,\n",
        "        loss_fn=loss_fn,\n",
        "        accuracy_fn=accuracy_fn\n",
        "    )\n",
        "\n",
        "train_time_end_on_gpu = timer()\n",
        "total_train_time_model_1 = print_train_time(start=train_time_start_on_gpu,\n",
        "                                            end=train_time_end_on_gpu,\n",
        "                                            device=device)"
      ],
      "metadata": {
        "colab": {
          "base_uri": "https://localhost:8080/",
          "height": 327,
          "referenced_widgets": [
            "41e2d1089e114d5a89be08e39e37fd3c",
            "3d60a9538f1545f386a9beb7f5ea6312",
            "6446e16b8bdc4f46895bfc598aab258a",
            "627d207ba08848a5b418d73fa4becf89",
            "574293a8c4e54886a5846ef58f90c1d2",
            "dec89541b7914c828f395a4aa401e8ed",
            "cc543a08626d4baf887e6b2530188647",
            "a5ae2ed236984c99b77318dbcdd4a0b8",
            "fb5891ef58fe48158f87661633b44140",
            "d3c4fced3d534cd584925f7242ed681b",
            "d0e1cf9604d346bfa2a3c03032d3908e"
          ]
        },
        "id": "7Z-mZxA5qcrh",
        "outputId": "3529682f-eac2-4a12-fa2a-30667d067f01"
      },
      "execution_count": 220,
      "outputs": [
        {
          "output_type": "display_data",
          "data": {
            "text/plain": [
              "  0%|          | 0/3 [00:00<?, ?it/s]"
            ],
            "application/vnd.jupyter.widget-view+json": {
              "version_major": 2,
              "version_minor": 0,
              "model_id": "41e2d1089e114d5a89be08e39e37fd3c"
            }
          },
          "metadata": {}
        },
        {
          "output_type": "stream",
          "name": "stdout",
          "text": [
            "Epoch: 0\n",
            "---------\n",
            "Train loss: 0.64519 | Train accuracy: 76.65%\n",
            "Test loss: 0.68914 | Test accuracy: 75.03%\n",
            "\n",
            "Epoch: 1\n",
            "---------\n",
            "Train loss: 0.62752 | Train accuracy: 77.09%\n",
            "Test loss: 0.66747 | Test accuracy: 75.82%\n",
            "\n",
            "Epoch: 2\n",
            "---------\n",
            "Train loss: 0.61555 | Train accuracy: 77.36%\n",
            "Test loss: 0.64590 | Test accuracy: 76.36%\n",
            "\n",
            "Train time on cpu: 29.766 seconds\n"
          ]
        }
      ]
    },
    {
      "cell_type": "code",
      "source": [
        "# Move values to device\n",
        "torch.manual_seed(42)\n",
        "def eval_model(model: torch.nn.Module,\n",
        "               data_loader: torch.utils.data.DataLoader,\n",
        "               loss_fn: torch.nn.Module,\n",
        "               accuracy_fn,\n",
        "               device: torch.device = device):\n",
        "    \"\"\"Evaluates a given model on a given dataset.\n",
        "\n",
        "    Args:\n",
        "        model (torch.nn.Module): A PyTorch model capable of making predictions on data_loader.\n",
        "        data_loader (torch.utils.data.DataLoader): The target dataset to predict on.\n",
        "        loss_fn (torch.nn.Module): The loss function of model.\n",
        "        accuracy_fn: An accuracy function to compare the models predictions to the truth labels.\n",
        "        device (str, optional): Target device to compute on. Defaults to device.\n",
        "\n",
        "    Returns:\n",
        "        (dict): Results of model making predictions on data_loader.\n",
        "    \"\"\"\n",
        "    loss, acc = 0, 0\n",
        "    model.eval()\n",
        "    with torch.inference_mode():\n",
        "        for X, y in data_loader:\n",
        "            # Send data to the target device\n",
        "            X, y = X.to(device), y.to(device)\n",
        "            y_pred = model(X)\n",
        "            loss += loss_fn(y_pred, y)\n",
        "            acc += accuracy_fn(y_true=y, y_pred=y_pred.argmax(dim=1))\n",
        "\n",
        "        # Scale loss and acc\n",
        "        loss /= len(data_loader)\n",
        "        acc /= len(data_loader)\n",
        "    return {\"model_name\": model.__class__.__name__, # only works when model was created with a class\n",
        "            \"model_loss\": loss.item(),\n",
        "            \"model_acc\": acc}\n",
        "\n",
        "# Calculate model 1 results with device-agnostic code\n",
        "model_1_results = eval_model(model=model_1, data_loader=test_dataloader,\n",
        "    loss_fn=loss_fn, accuracy_fn=accuracy_fn,\n",
        "    device=device\n",
        ")\n",
        "model_1_results"
      ],
      "metadata": {
        "colab": {
          "base_uri": "https://localhost:8080/"
        },
        "id": "sV7k3F11CjOs",
        "outputId": "95bfa01e-12f4-4637-ed08-b6b4dc7d950e"
      },
      "execution_count": 221,
      "outputs": [
        {
          "output_type": "execute_result",
          "data": {
            "text/plain": [
              "{'model_name': 'FashionMNISTModelV1',\n",
              " 'model_loss': 0.6459039449691772,\n",
              " 'model_acc': 76.35782747603834}"
            ]
          },
          "metadata": {},
          "execution_count": 221
        }
      ]
    },
    {
      "cell_type": "code",
      "source": [
        "# Check baseline results\n",
        "model_0_results"
      ],
      "metadata": {
        "colab": {
          "base_uri": "https://localhost:8080/"
        },
        "id": "2cq5WyRECltg",
        "outputId": "9828fbff-ed19-47b1-e066-289da00c335a"
      },
      "execution_count": 222,
      "outputs": [
        {
          "output_type": "execute_result",
          "data": {
            "text/plain": [
              "{'model_name': 'FashionMNISTModelV0',\n",
              " 'model_loss': 0.47663894295692444,\n",
              " 'model_acc': 83.42651757188499}"
            ]
          },
          "metadata": {},
          "execution_count": 222
        }
      ]
    },
    {
      "cell_type": "code",
      "source": [],
      "metadata": {
        "id": "ew8LPNZxCmZF"
      },
      "execution_count": 222,
      "outputs": []
    },
    {
      "cell_type": "markdown",
      "source": [
        "# Model 2: Building a Convolution Neural Network (CNN)\n",
        "# CNNs are also known ConvNets.\n",
        "# CNN's are known for their capabilities to find patterns in visual data."
      ],
      "metadata": {
        "id": "GiWDyrUHUnB8"
      }
    },
    {
      "cell_type": "code",
      "source": [
        "class FashionMNISTModelV2(nn.Module):\n",
        "  def __init__(self, input_shape:int,\n",
        "               hidden_units:int,\n",
        "               output_shape:int):\n",
        "    super().__init__()\n",
        "    self.conv_block = nn.Sequential(\n",
        "        nn.Conv2d(in_channel= input_shape,\n",
        "                  out_challensa=output_shape,\n",
        "                  kernal_size=3,\n",
        "                  stride=1,\n",
        "                  padding=1),\n",
        "        nn.ReLU(),\n",
        "        nn.Conv2d(in_channel= input_shape,\n",
        "                  out_challensa=output_shape,\n",
        "                  kernal_size=3,\n",
        "                  stride=1,\n",
        "                  padding=1),\n",
        "        nn.ReLU(),\n",
        "        nn.MaxPool2d(kernel_size=2,\n",
        "                     stride=2)\n",
        "    )\n",
        "    self.conv_block_2 = nn.Sequential(\n",
        "        nn.Conv2d(in_channels=hidden_units,\n",
        "                  out_channels=output_shape,\n",
        "                  kernal_size=3,\n",
        "                  stride=1,\n",
        "                  padding=1),\n",
        "        nn.ReLU(),\n",
        "        nn.Conv2d(in_channel=inputshap,\n",
        "                  out_channels=output_shape,\n",
        "                  kernal_size=3,\n",
        "                  strides=1,\n",
        "                  padding=1),\n",
        "        nn.ReLU(),\n",
        "        nn.MaxPoole2d(kernal_size=2,\n",
        "                      padding=1)\n",
        "    )\n",
        "\n",
        "\n"
      ],
      "metadata": {
        "id": "FNw5Zi6zDBDn"
      },
      "execution_count": 223,
      "outputs": []
    },
    {
      "cell_type": "code",
      "source": [
        "# Create a convolutional neural network\n",
        "class FashionMNISTModelV2(nn.Module):\n",
        "    \"\"\"\n",
        "    Model architecture copying TinyVGG from:\n",
        "    https://poloclub.github.io/cnn-explainer/\n",
        "    \"\"\"\n",
        "    def __init__(self, input_shape: int, hidden_units: int, output_shape: int):\n",
        "        super().__init__()\n",
        "        self.block_1 = nn.Sequential(\n",
        "            nn.Conv2d(in_channels=input_shape,\n",
        "                      out_channels=hidden_units,\n",
        "                      kernel_size=3, # how big is the square that's going over the image?\n",
        "                      stride=1, # default\n",
        "                      padding=1),# options = \"valid\" (no padding) or \"same\" (output has same shape as input) or int for specific number\n",
        "            nn.ReLU(),\n",
        "            nn.Conv2d(in_channels=hidden_units,\n",
        "                      out_channels=hidden_units,\n",
        "                      kernel_size=3,\n",
        "                      stride=1,\n",
        "                      padding=1),\n",
        "            nn.ReLU(),\n",
        "            nn.MaxPool2d(kernel_size=2,\n",
        "                         stride=2) # default stride value is same as kernel_size\n",
        "        )\n",
        "        self.block_2 = nn.Sequential(\n",
        "            nn.Conv2d(hidden_units, hidden_units, 3, padding=1),\n",
        "            nn.ReLU(),\n",
        "            nn.Conv2d(hidden_units, hidden_units, 3, padding=1),\n",
        "            nn.ReLU(),\n",
        "            nn.MaxPool2d(2)\n",
        "        )\n",
        "        self.classifier = nn.Sequential(\n",
        "            nn.Flatten(),\n",
        "            # Where did this in_features shape come from?\n",
        "            # It's because each layer of our network compresses and changes the shape of our input data.\n",
        "            nn.Linear(in_features=hidden_units*7*7,\n",
        "                      out_features=output_shape)\n",
        "        )\n",
        "    def forward(self, x: torch.Tensor):\n",
        "        x = self.block_1(x)\n",
        "        x = self.block_2(x)\n",
        "        x = self.classifier(x)\n",
        "        return x\n"
      ],
      "metadata": {
        "id": "EAllCDg1ak-2"
      },
      "execution_count": 224,
      "outputs": []
    },
    {
      "cell_type": "code",
      "source": [
        "model_2 = FashionMNISTModelV2(input_shape=1,\n",
        "                              hidden_units=10,\n",
        "                              output_shape=len(class_names)).to(device)\n",
        "device = \"cuda\" if torch.cuda.is_available() else \"cpu\"\n",
        "model_2.to(device)"
      ],
      "metadata": {
        "colab": {
          "base_uri": "https://localhost:8080/"
        },
        "id": "nd2Q5JNwDBGR",
        "outputId": "444d42cf-cdd9-498d-e1b4-f5074c1395b2"
      },
      "execution_count": 225,
      "outputs": [
        {
          "output_type": "execute_result",
          "data": {
            "text/plain": [
              "FashionMNISTModelV2(\n",
              "  (block_1): Sequential(\n",
              "    (0): Conv2d(1, 10, kernel_size=(3, 3), stride=(1, 1), padding=(1, 1))\n",
              "    (1): ReLU()\n",
              "    (2): Conv2d(10, 10, kernel_size=(3, 3), stride=(1, 1), padding=(1, 1))\n",
              "    (3): ReLU()\n",
              "    (4): MaxPool2d(kernel_size=2, stride=2, padding=0, dilation=1, ceil_mode=False)\n",
              "  )\n",
              "  (block_2): Sequential(\n",
              "    (0): Conv2d(10, 10, kernel_size=(3, 3), stride=(1, 1), padding=(1, 1))\n",
              "    (1): ReLU()\n",
              "    (2): Conv2d(10, 10, kernel_size=(3, 3), stride=(1, 1), padding=(1, 1))\n",
              "    (3): ReLU()\n",
              "    (4): MaxPool2d(kernel_size=2, stride=2, padding=0, dilation=1, ceil_mode=False)\n",
              "  )\n",
              "  (classifier): Sequential(\n",
              "    (0): Flatten(start_dim=1, end_dim=-1)\n",
              "    (1): Linear(in_features=490, out_features=10, bias=True)\n",
              "  )\n",
              ")"
            ]
          },
          "metadata": {},
          "execution_count": 225
        }
      ]
    },
    {
      "cell_type": "markdown",
      "source": [
        "# 7.1 Stepping through `nn.Conv2d()`\n",
        "\n",
        "\n"
      ],
      "metadata": {
        "id": "A3t4kYhi-hxq"
      }
    },
    {
      "cell_type": "code",
      "source": [
        "torch.manual_seed(42)\n",
        "\n",
        "# creata a batch of image\n",
        "images = torch.randn(size=(32,3,64,64))\n",
        "test_image = image[0]\n",
        "# plt.imshow(test_image.permute(1,2,0))\n",
        "print(f\"Image shape: {image.shape}\")\n",
        "print(f\"Image batch shape: {test_image.shape}\")\n",
        "\n"
      ],
      "metadata": {
        "colab": {
          "base_uri": "https://localhost:8080/"
        },
        "id": "jP9ZbNaEDG3J",
        "outputId": "64a43a2a-e900-44bd-d585-0370fe260d27"
      },
      "execution_count": 226,
      "outputs": [
        {
          "output_type": "stream",
          "name": "stdout",
          "text": [
            "Image shape: torch.Size([1, 28, 28])\n",
            "Image batch shape: torch.Size([28, 28])\n"
          ]
        }
      ]
    },
    {
      "cell_type": "code",
      "source": [
        "test_image.shape"
      ],
      "metadata": {
        "colab": {
          "base_uri": "https://localhost:8080/"
        },
        "id": "9b_wjUeZRwLb",
        "outputId": "2ef29a3e-9455-4e1b-a8c5-701596648025"
      },
      "execution_count": 227,
      "outputs": [
        {
          "output_type": "execute_result",
          "data": {
            "text/plain": [
              "torch.Size([28, 28])"
            ]
          },
          "metadata": {},
          "execution_count": 227
        }
      ]
    },
    {
      "cell_type": "code",
      "source": [
        "i"
      ],
      "metadata": {
        "id": "ateS7Y1KyFg5",
        "colab": {
          "base_uri": "https://localhost:8080/"
        },
        "outputId": "849c2476-8c93-492c-f74a-37f5572d00ad"
      },
      "execution_count": 228,
      "outputs": [
        {
          "output_type": "execute_result",
          "data": {
            "text/plain": [
              "4"
            ]
          },
          "metadata": {},
          "execution_count": 228
        }
      ]
    },
    {
      "cell_type": "code",
      "source": [
        "plt.imshow(image.squeeze(), cmap=\"gray\")\n"
      ],
      "metadata": {
        "colab": {
          "base_uri": "https://localhost:8080/",
          "height": 447
        },
        "id": "PctzIFLKyFtm",
        "outputId": "ccbb0a0d-9de1-48c9-ce2f-1ed9368b9c73"
      },
      "execution_count": 229,
      "outputs": [
        {
          "output_type": "execute_result",
          "data": {
            "text/plain": [
              "<matplotlib.image.AxesImage at 0x7b48477e11d0>"
            ]
          },
          "metadata": {},
          "execution_count": 229
        },
        {
          "output_type": "display_data",
          "data": {
            "text/plain": [
              "<Figure size 640x480 with 1 Axes>"
            ],
            "image/png": "[encoded data removed]"
          },
          "metadata": {}
        }
      ]
    },
    {
      "cell_type": "code",
      "source": [
        "# model_2(rand_image_tensor.unsqueeze(0).to(device))"
      ],
      "metadata": {
        "id": "WXAIleqFzfJ5"
      },
      "execution_count": 230,
      "outputs": []
    },
    {
      "cell_type": "code",
      "source": [
        "rand_image_tensor = torch.randn(1, 28, 28)\n",
        "rand_image_tensor.shape"
      ],
      "metadata": {
        "colab": {
          "base_uri": "https://localhost:8080/"
        },
        "id": "W4FvpqkNyxgO",
        "outputId": "a57692d8-063a-4f23-b844-d05960a5c86d"
      },
      "execution_count": 231,
      "outputs": [
        {
          "output_type": "execute_result",
          "data": {
            "text/plain": [
              "torch.Size([1, 28, 28])"
            ]
          },
          "metadata": {},
          "execution_count": 231
        }
      ]
    },
    {
      "cell_type": "code",
      "source": [
        "model2 = model_2(image.unsqueeze(0).to(device))\n"
      ],
      "metadata": {
        "id": "D2dSOXO-yd27"
      },
      "execution_count": 232,
      "outputs": []
    },
    {
      "cell_type": "markdown",
      "source": [],
      "metadata": {
        "id": "Lt6nyuvq19PK"
      }
    },
    {
      "cell_type": "code",
      "source": [
        "# torch.manual_seed(42)\n",
        "\n",
        "# # Create a convolutional layer with same dimensions as TinyVGG\n",
        "# # (try changing any of the parameters and see what happens)\n",
        "# conv_layer = nn.Conv2d(in_channels=3,\n",
        "#                        out_channels=10,\n",
        "#                        kernel_size=(3,3),\n",
        "#                        stride=1,\n",
        "#                        padding=0) # also try using \"valid\" or \"same\" here\n",
        "\n",
        "# # Pass the data through the convolutional layer\n",
        "# conv_output = conv_layer(test_image.unsqueeze(0))\n",
        "# conv_output"
      ],
      "metadata": {
        "id": "Fp850N4TiHLU"
      },
      "execution_count": 233,
      "outputs": []
    },
    {
      "cell_type": "code",
      "source": [
        "torch.__version__"
      ],
      "metadata": {
        "id": "QRSLtA2KDBeP",
        "colab": {
          "base_uri": "https://localhost:8080/",
          "height": 35
        },
        "outputId": "045b1e30-2e11-44e1-94f9-ab175d207818"
      },
      "execution_count": 234,
      "outputs": [
        {
          "output_type": "execute_result",
          "data": {
            "text/plain": [
              "'2.5.1+cu121'"
            ],
            "application/vnd.google.colaboratory.intrinsic+json": {
              "type": "string"
            }
          },
          "metadata": {},
          "execution_count": 234
        }
      ]
    },
    {
      "cell_type": "code",
      "source": [],
      "metadata": {
        "id": "sQq3UsUkhNB-"
      },
      "execution_count": 234,
      "outputs": []
    },
    {
      "cell_type": "markdown",
      "source": [
        "# 7.2 Stepping through nn.MaxPool2d()"
      ],
      "metadata": {
        "id": "E_WsWpIKVrmg"
      }
    },
    {
      "cell_type": "code",
      "source": [],
      "metadata": {
        "id": "Tv_CnEF9hqsF"
      },
      "execution_count": 234,
      "outputs": []
    },
    {
      "cell_type": "code",
      "source": [],
      "metadata": {
        "id": "9N0WKI42h49y"
      },
      "execution_count": 234,
      "outputs": []
    },
    {
      "cell_type": "code",
      "source": [
        "# # Print out original image shape without and with unsqueezed dimension\n",
        "# print(f\"Test image original shape: {test_image.shape}\")\n",
        "# print(f\"Test image with unsqueezed dimension: {test_image.unsqueeze(dim=0).shape}\")\n",
        "\n",
        "# # Create a sample nn.MaxPoo2d() layer\n",
        "# max_pool_layer = nn.MaxPool2d(kernel_size=2)\n",
        "\n",
        "# # Pass data through just the conv_layer\n",
        "# test_image_through_conv = conv_layer(test_image.unsqueeze(dim=0))\n",
        "# print(f\"Shape after going through conv_layer(): {test_image_through_conv.shape}\")\n",
        "\n",
        "# # Pass data through the max pool layer\n",
        "# test_image_through_conv_and_max_pool = max_pool_layer(test_image_through_conv)\n",
        "# print(f\"Shape after going through conv_layer() and max_pool_layer(): {test_image_through_conv_and_max_pool.shape}\")"
      ],
      "metadata": {
        "id": "SbvQVITih_EV"
      },
      "execution_count": 235,
      "outputs": []
    },
    {
      "cell_type": "code",
      "source": [
        "torch.manual_seed(42)\n",
        "# creat a random tensor with similar number of dimension to out image\n",
        "random_tensor = torch.randn(size=(1,1,2,2))\n",
        "print(random_tensor.shape)\n",
        "\n",
        " # create max pool layer\n",
        "max_pool_layer = nn.MaxPool2d(kernel_size=2)\n",
        "print(random_tensor)\n",
        "\n",
        "\n",
        "# # pass the random tensor through the max pool layer\n",
        "max_pool_tensor = max_pool_layer(random_tensor)\n",
        "\n",
        "print(f\"Max pool tensor: {max_pool_tensor}\")\n",
        "print(f\"Max pool tensor shape: {max_pool_tensor.shape}\")\n",
        "\n"
      ],
      "metadata": {
        "colab": {
          "base_uri": "https://localhost:8080/"
        },
        "id": "NOrgWPxglJ6O",
        "outputId": "fa63a634-08ed-4abb-b2db-975b636dece9"
      },
      "execution_count": 236,
      "outputs": [
        {
          "output_type": "stream",
          "name": "stdout",
          "text": [
            "torch.Size([1, 1, 2, 2])\n",
            "tensor([[[[0.3367, 0.1288],\n",
            "          [0.2345, 0.2303]]]])\n",
            "Max pool tensor: tensor([[[[0.3367]]]])\n",
            "Max pool tensor shape: torch.Size([1, 1, 1, 1])\n"
          ]
        }
      ]
    },
    {
      "cell_type": "markdown",
      "source": [
        "# 7.3 Setup a loss function and optimizer for `model_2`"
      ],
      "metadata": {
        "id": "NoLAr0IQ1_SR"
      }
    },
    {
      "cell_type": "code",
      "source": [
        "# Setup loss function/eval metrics/optimizers\n",
        "from helper_functions import accuracy_fn\n",
        "\n",
        "loss_fn = nn.CrossEntropyLoss()\n",
        "optimizer = torch.optim.SGD(params=model_2.parameters(),\n",
        "                            lr=0.1)"
      ],
      "metadata": {
        "id": "-ldiftXVx-UK"
      },
      "execution_count": 237,
      "outputs": []
    },
    {
      "cell_type": "code",
      "source": [],
      "metadata": {
        "id": "w12Tai2N3o86"
      },
      "execution_count": 237,
      "outputs": []
    },
    {
      "cell_type": "code",
      "source": [],
      "metadata": {
        "id": "BADwbJ7vKP7O"
      },
      "execution_count": 237,
      "outputs": []
    },
    {
      "cell_type": "code",
      "source": [],
      "metadata": {
        "id": "NMTflzr0KP-o"
      },
      "execution_count": 237,
      "outputs": []
    },
    {
      "cell_type": "code",
      "source": [],
      "metadata": {
        "id": "Eftrsxtl3o5g"
      },
      "execution_count": 237,
      "outputs": []
    },
    {
      "cell_type": "code",
      "source": [],
      "metadata": {
        "id": "zZIbCNYIKZw5"
      },
      "execution_count": 237,
      "outputs": []
    },
    {
      "cell_type": "markdown",
      "source": [
        "### 7.4 Training and testing `model_2` using out training and test functions\n"
      ],
      "metadata": {
        "id": "CwleqWbc3nbb"
      }
    },
    {
      "cell_type": "code",
      "source": [
        "torch.manual_seed(42)\n",
        "torch.cuda.manual_seed(42)\n",
        "\n",
        "# measure time\n",
        "from timeit import default_timer as timer\n",
        "train_time_start_model_2 = timer()\n",
        "\n",
        "# train and test model\n",
        "epochs = 3\n",
        "torch.manual_seed(42)\n",
        "torch.cuda.manual_seed(42)\n",
        "\n",
        "# measure time\n",
        "from timeit import default_timer as timer\n",
        "train_time_start_model_2 = timer()\n",
        "\n",
        "# train and test model\n",
        "epochs = 3\n",
        "for epoch in tqdm(range(epochs)):\n",
        "    print(f\"Epoch: {epoch}\\n---------\")\n",
        "    train_step(model=model_2,\n",
        "               data_loader=train_dataloader,\n",
        "               loss_fn=loss_fn,\n",
        "               optimizer=optimizer,\n",
        "               accuracy_fn=accuracy_fn,\n",
        "               device=device)\n",
        "    test_step(model=model_2,\n",
        "              data_loader=test_dataloader,\n",
        "              loss_fn=loss_fn,\n",
        "              accuracy_fn=accuracy_fn,\n",
        "              device=device)\n",
        "\n",
        "train_time_end_model_2 = timer()\n",
        "total_train_time_model_2 = print_train_time(start=train_time_start_model_2,\n",
        "                                            end=train_time_end_model_2,\n",
        "                                            device=device)"
      ],
      "metadata": {
        "id": "N73REYUA4CeM",
        "colab": {
          "base_uri": "https://localhost:8080/",
          "height": 327,
          "referenced_widgets": [
            "583152ac4a6447008f6671fe064d53a2",
            "33c1fd5c95d94a24a51fabc0669abf31",
            "5c1b1a9590234272b6063def386d4051",
            "d5833d187003448fa219293719e726f6",
            "990e40f6717e470ba6d281a73aa568c3",
            "59544960c5f44c7caa151fa159447709",
            "5d9f3fb529e04b949d130af92eb3a92e",
            "6cdb2f6595f9470cbb26fe1fc7d1d4dc",
            "d94df373b19d4de3a75b5f46c7b1ef14",
            "d14f2e6a13234b348d201cb4432d92eb",
            "7e8c1556172d4ef58f7cadbc9d35a683"
          ]
        },
        "outputId": "7a61701a-c73f-4a89-d5be-394601a5a993"
      },
      "execution_count": 238,
      "outputs": [
        {
          "output_type": "display_data",
          "data": {
            "text/plain": [
              "  0%|          | 0/3 [00:00<?, ?it/s]"
            ],
            "application/vnd.jupyter.widget-view+json": {
              "version_major": 2,
              "version_minor": 0,
              "model_id": "583152ac4a6447008f6671fe064d53a2"
            }
          },
          "metadata": {}
        },
        {
          "output_type": "stream",
          "name": "stdout",
          "text": [
            "Epoch: 0\n",
            "---------\n",
            "Train loss: 0.74085 | Train accuracy: 73.11%\n",
            "Test loss: 0.39399 | Test accuracy: 86.07%\n",
            "\n",
            "Epoch: 1\n",
            "---------\n",
            "Train loss: 0.36874 | Train accuracy: 86.75%\n",
            "Test loss: 0.36821 | Test accuracy: 86.59%\n",
            "\n",
            "Epoch: 2\n",
            "---------\n",
            "Train loss: 0.32907 | Train accuracy: 88.03%\n",
            "Test loss: 0.33431 | Test accuracy: 87.98%\n",
            "\n",
            "Train time on cpu: 150.581 seconds\n"
          ]
        }
      ]
    },
    {
      "cell_type": "code",
      "source": [
        "model_2_results = eval_model(model=model_2,\n",
        "                             data_loader=test_dataloader,\n",
        "                             loss_fn=loss_fn,\n",
        "                             accuracy_fn=accuracy_fn,\n",
        "                             device=device)\n",
        "model_2_results"
      ],
      "metadata": {
        "colab": {
          "base_uri": "https://localhost:8080/"
        },
        "id": "RZIaL1TWXLEC",
        "outputId": "6a92baf9-0109-41d9-a4a5-222235b865b3"
      },
      "execution_count": 239,
      "outputs": [
        {
          "output_type": "execute_result",
          "data": {
            "text/plain": [
              "{'model_name': 'FashionMNISTModelV2',\n",
              " 'model_loss': 0.3343087434768677,\n",
              " 'model_acc': 87.97923322683707}"
            ]
          },
          "metadata": {},
          "execution_count": 239
        }
      ]
    },
    {
      "cell_type": "code",
      "source": [],
      "metadata": {
        "id": "fD7HeZAUWoBJ"
      },
      "execution_count": 239,
      "outputs": []
    },
    {
      "cell_type": "markdown",
      "source": [
        "# 8. Compare model results and training time"
      ],
      "metadata": {
        "id": "RCSmscCjZXSY"
      }
    },
    {
      "cell_type": "code",
      "source": [
        "model_1_results, model_2_results"
      ],
      "metadata": {
        "colab": {
          "base_uri": "https://localhost:8080/"
        },
        "id": "XjCsi4PTZdH4",
        "outputId": "d74ad6b8-eeea-40d8-d52f-dbb03d665496"
      },
      "execution_count": 240,
      "outputs": [
        {
          "output_type": "execute_result",
          "data": {
            "text/plain": [
              "({'model_name': 'FashionMNISTModelV1',\n",
              "  'model_loss': 0.6459039449691772,\n",
              "  'model_acc': 76.35782747603834},\n",
              " {'model_name': 'FashionMNISTModelV2',\n",
              "  'model_loss': 0.3343087434768677,\n",
              "  'model_acc': 87.97923322683707})"
            ]
          },
          "metadata": {},
          "execution_count": 240
        }
      ]
    },
    {
      "cell_type": "code",
      "source": [
        "import pandas as pd\n",
        "df = pd.DataFrame([model_1_results, model_2_results])\n",
        "df"
      ],
      "metadata": {
        "colab": {
          "base_uri": "https://localhost:8080/",
          "height": 125
        },
        "id": "3sZjs2JtZloE",
        "outputId": "885df5f3-7020-4ad0-86f8-290b5fa7b2f5"
      },
      "execution_count": 241,
      "outputs": [
        {
          "output_type": "execute_result",
          "data": {
            "text/plain": [
              "            model_name  model_loss  model_acc\n",
              "0  FashionMNISTModelV1    0.645904  76.357827\n",
              "1  FashionMNISTModelV2    0.334309  87.979233"
            ],
            "text/html": [
              "\n",
              "  <div id=\"df-8791e9b1-9d84-483b-946b-0b51fb733492\" class=\"colab-df-container\">\n",
              "    <div>\n",
              "<style scoped>\n",
              "    .dataframe tbody tr th:only-of-type {\n",
              "        vertical-align: middle;\n",
              "    }\n",
              "\n",
              "    .dataframe tbody tr th {\n",
              "        vertical-align: top;\n",
              "    }\n",
              "\n",
              "    .dataframe thead th {\n",
              "        text-align: right;\n",
              "    }\n",
              "</style>\n",
              "<table border=\"1\" class=\"dataframe\">\n",
              "  <thead>\n",
              "    <tr style=\"text-align: right;\">\n",
              "      <th></th>\n",
              "      <th>model_name</th>\n",
              "      <th>model_loss</th>\n",
              "      <th>model_acc</th>\n",
              "    </tr>\n",
              "  </thead>\n",
              "  <tbody>\n",
              "    <tr>\n",
              "      <th>0</th>\n",
              "      <td>FashionMNISTModelV1</td>\n",
              "      <td>0.645904</td>\n",
              "      <td>76.357827</td>\n",
              "    </tr>\n",
              "    <tr>\n",
              "      <th>1</th>\n",
              "      <td>FashionMNISTModelV2</td>\n",
              "      <td>0.334309</td>\n",
              "      <td>87.979233</td>\n",
              "    </tr>\n",
              "  </tbody>\n",
              "</table>\n",
              "</div>\n",
              "    <div class=\"colab-df-buttons\">\n",
              "\n",
              "  <div class=\"colab-df-container\">\n",
              "    <button class=\"colab-df-convert\" onclick=\"convertToInteractive('df-8791e9b1-9d84-483b-946b-0b51fb733492')\"\n",
              "            title=\"Convert this dataframe to an interactive table.\"\n",
              "            style=\"display:none;\">\n",
              "\n",
              "  <svg xmlns=\"http://www.w3.org/2000/svg\" height=\"24px\" viewBox=\"0 -960 960 960\">\n",
              "    <path d=\"M120-120v-720h720v720H120Zm60-500h600v-160H180v160Zm220 220h160v-160H400v160Zm0 220h160v-160H400v160ZM180-400h160v-160H180v160Zm440 0h160v-160H620v160ZM180-180h160v-160H180v160Zm440 0h160v-160H620v160Z\"/>\n",
              "  </svg>\n",
              "    </button>\n",
              "\n",
              "  <style>\n",
              "    .colab-df-container {\n",
              "      display:flex;\n",
              "      gap: 12px;\n",
              "    }\n",
              "\n",
              "    .colab-df-convert {\n",
              "      background-color: #E8F0FE;\n",
              "      border: none;\n",
              "      border-radius: 50%;\n",
              "      cursor: pointer;\n",
              "      display: none;\n",
              "      fill: #1967D2;\n",
              "      height: 32px;\n",
              "      padding: 0 0 0 0;\n",
              "      width: 32px;\n",
              "    }\n",
              "\n",
              "    .colab-df-convert:hover {\n",
              "      background-color: #E2EBFA;\n",
              "      box-shadow: 0px 1px 2px rgba(60, 64, 67, 0.3), 0px 1px 3px 1px rgba(60, 64, 67, 0.15);\n",
              "      fill: #174EA6;\n",
              "    }\n",
              "\n",
              "    .colab-df-buttons div {\n",
              "      margin-bottom: 4px;\n",
              "    }\n",
              "\n",
              "    [theme=dark] .colab-df-convert {\n",
              "      background-color: #3B4455;\n",
              "      fill: #D2E3FC;\n",
              "    }\n",
              "\n",
              "    [theme=dark] .colab-df-convert:hover {\n",
              "      background-color: #434B5C;\n",
              "      box-shadow: 0px 1px 3px 1px rgba(0, 0, 0, 0.15);\n",
              "      filter: drop-shadow(0px 1px 2px rgba(0, 0, 0, 0.3));\n",
              "      fill: #FFFFFF;\n",
              "    }\n",
              "  </style>\n",
              "\n",
              "    <script>\n",
              "      const buttonEl =\n",
              "        document.querySelector('#df-8791e9b1-9d84-483b-946b-0b51fb733492 button.colab-df-convert');\n",
              "      buttonEl.style.display =\n",
              "        google.colab.kernel.accessAllowed ? 'block' : 'none';\n",
              "\n",
              "      async function convertToInteractive(key) {\n",
              "        const element = document.querySelector('#df-8791e9b1-9d84-483b-946b-0b51fb733492');\n",
              "        const dataTable =\n",
              "          await google.colab.kernel.invokeFunction('convertToInteractive',\n",
              "                                                    [key], {});\n",
              "        if (!dataTable) return;\n",
              "\n",
              "        const docLinkHtml = 'Like what you see? Visit the ' +\n",
              "          '<a target=\"_blank\" href=https://colab.research.google.com/notebooks/data_table.ipynb>data table notebook</a>'\n",
              "          + ' to learn more about interactive tables.';\n",
              "        element.innerHTML = '';\n",
              "        dataTable['output_type'] = 'display_data';\n",
              "        await google.colab.output.renderOutput(dataTable, element);\n",
              "        const docLink = document.createElement('div');\n",
              "        docLink.innerHTML = docLinkHtml;\n",
              "        element.appendChild(docLink);\n",
              "      }\n",
              "    </script>\n",
              "  </div>\n",
              "\n",
              "\n",
              "<div id=\"df-9e3c1d53-4345-4a41-887d-ee18c9f18560\">\n",
              "  <button class=\"colab-df-quickchart\" onclick=\"quickchart('df-9e3c1d53-4345-4a41-887d-ee18c9f18560')\"\n",
              "            title=\"Suggest charts\"\n",
              "            style=\"display:none;\">\n",
              "\n",
              "<svg xmlns=\"http://www.w3.org/2000/svg\" height=\"24px\"viewBox=\"0 0 24 24\"\n",
              "     width=\"24px\">\n",
              "    <g>\n",
              "        <path d=\"M19 3H5c-1.1 0-2 .9-2 2v14c0 1.1.9 2 2 2h14c1.1 0 2-.9 2-2V5c0-1.1-.9-2-2-2zM9 17H7v-7h2v7zm4 0h-2V7h2v10zm4 0h-2v-4h2v4z\"/>\n",
              "    </g>\n",
              "</svg>\n",
              "  </button>\n",
              "\n",
              "<style>\n",
              "  .colab-df-quickchart {\n",
              "      --bg-color: #E8F0FE;\n",
              "      --fill-color: #1967D2;\n",
              "      --hover-bg-color: #E2EBFA;\n",
              "      --hover-fill-color: #174EA6;\n",
              "      --disabled-fill-color: #AAA;\n",
              "      --disabled-bg-color: #DDD;\n",
              "  }\n",
              "\n",
              "  [theme=dark] .colab-df-quickchart {\n",
              "      --bg-color: #3B4455;\n",
              "      --fill-color: #D2E3FC;\n",
              "      --hover-bg-color: #434B5C;\n",
              "      --hover-fill-color: #FFFFFF;\n",
              "      --disabled-bg-color: #3B4455;\n",
              "      --disabled-fill-color: #666;\n",
              "  }\n",
              "\n",
              "  .colab-df-quickchart {\n",
              "    background-color: var(--bg-color);\n",
              "    border: none;\n",
              "    border-radius: 50%;\n",
              "    cursor: pointer;\n",
              "    display: none;\n",
              "    fill: var(--fill-color);\n",
              "    height: 32px;\n",
              "    padding: 0;\n",
              "    width: 32px;\n",
              "  }\n",
              "\n",
              "  .colab-df-quickchart:hover {\n",
              "    background-color: var(--hover-bg-color);\n",
              "    box-shadow: 0 1px 2px rgba(60, 64, 67, 0.3), 0 1px 3px 1px rgba(60, 64, 67, 0.15);\n",
              "    fill: var(--button-hover-fill-color);\n",
              "  }\n",
              "\n",
              "  .colab-df-quickchart-complete:disabled,\n",
              "  .colab-df-quickchart-complete:disabled:hover {\n",
              "    background-color: var(--disabled-bg-color);\n",
              "    fill: var(--disabled-fill-color);\n",
              "    box-shadow: none;\n",
              "  }\n",
              "\n",
              "  .colab-df-spinner {\n",
              "    border: 2px solid var(--fill-color);\n",
              "    border-color: transparent;\n",
              "    border-bottom-color: var(--fill-color);\n",
              "    animation:\n",
              "      spin 1s steps(1) infinite;\n",
              "  }\n",
              "\n",
              "  @keyframes spin {\n",
              "    0% {\n",
              "      border-color: transparent;\n",
              "      border-bottom-color: var(--fill-color);\n",
              "      border-left-color: var(--fill-color);\n",
              "    }\n",
              "    20% {\n",
              "      border-color: transparent;\n",
              "      border-left-color: var(--fill-color);\n",
              "      border-top-color: var(--fill-color);\n",
              "    }\n",
              "    30% {\n",
              "      border-color: transparent;\n",
              "      border-left-color: var(--fill-color);\n",
              "      border-top-color: var(--fill-color);\n",
              "      border-right-color: var(--fill-color);\n",
              "    }\n",
              "    40% {\n",
              "      border-color: transparent;\n",
              "      border-right-color: var(--fill-color);\n",
              "      border-top-color: var(--fill-color);\n",
              "    }\n",
              "    60% {\n",
              "      border-color: transparent;\n",
              "      border-right-color: var(--fill-color);\n",
              "    }\n",
              "    80% {\n",
              "      border-color: transparent;\n",
              "      border-right-color: var(--fill-color);\n",
              "      border-bottom-color: var(--fill-color);\n",
              "    }\n",
              "    90% {\n",
              "      border-color: transparent;\n",
              "      border-bottom-color: var(--fill-color);\n",
              "    }\n",
              "  }\n",
              "</style>\n",
              "\n",
              "  <script>\n",
              "    async function quickchart(key) {\n",
              "      const quickchartButtonEl =\n",
              "        document.querySelector('#' + key + ' button');\n",
              "      quickchartButtonEl.disabled = true;  // To prevent multiple clicks.\n",
              "      quickchartButtonEl.classList.add('colab-df-spinner');\n",
              "      try {\n",
              "        const charts = await google.colab.kernel.invokeFunction(\n",
              "            'suggestCharts', [key], {});\n",
              "      } catch (error) {\n",
              "        console.error('Error during call to suggestCharts:', error);\n",
              "      }\n",
              "      quickchartButtonEl.classList.remove('colab-df-spinner');\n",
              "      quickchartButtonEl.classList.add('colab-df-quickchart-complete');\n",
              "    }\n",
              "    (() => {\n",
              "      let quickchartButtonEl =\n",
              "        document.querySelector('#df-9e3c1d53-4345-4a41-887d-ee18c9f18560 button');\n",
              "      quickchartButtonEl.style.display =\n",
              "        google.colab.kernel.accessAllowed ? 'block' : 'none';\n",
              "    })();\n",
              "  </script>\n",
              "</div>\n",
              "\n",
              "  <div id=\"id_cc11d814-eea7-4907-9b55-cbbe8fe3cda3\">\n",
              "    <style>\n",
              "      .colab-df-generate {\n",
              "        background-color: #E8F0FE;\n",
              "        border: none;\n",
              "        border-radius: 50%;\n",
              "        cursor: pointer;\n",
              "        display: none;\n",
              "        fill: #1967D2;\n",
              "        height: 32px;\n",
              "        padding: 0 0 0 0;\n",
              "        width: 32px;\n",
              "      }\n",
              "\n",
              "      .colab-df-generate:hover {\n",
              "        background-color: #E2EBFA;\n",
              "        box-shadow: 0px 1px 2px rgba(60, 64, 67, 0.3), 0px 1px 3px 1px rgba(60, 64, 67, 0.15);\n",
              "        fill: #174EA6;\n",
              "      }\n",
              "\n",
              "      [theme=dark] .colab-df-generate {\n",
              "        background-color: #3B4455;\n",
              "        fill: #D2E3FC;\n",
              "      }\n",
              "\n",
              "      [theme=dark] .colab-df-generate:hover {\n",
              "        background-color: #434B5C;\n",
              "        box-shadow: 0px 1px 3px 1px rgba(0, 0, 0, 0.15);\n",
              "        filter: drop-shadow(0px 1px 2px rgba(0, 0, 0, 0.3));\n",
              "        fill: #FFFFFF;\n",
              "      }\n",
              "    </style>\n",
              "    <button class=\"colab-df-generate\" onclick=\"generateWithVariable('df')\"\n",
              "            title=\"Generate code using this dataframe.\"\n",
              "            style=\"display:none;\">\n",
              "\n",
              "  <svg xmlns=\"http://www.w3.org/2000/svg\" height=\"24px\"viewBox=\"0 0 24 24\"\n",
              "       width=\"24px\">\n",
              "    <path d=\"M7,19H8.4L18.45,9,17,7.55,7,17.6ZM5,21V16.75L18.45,3.32a2,2,0,0,1,2.83,0l1.4,1.43a1.91,1.91,0,0,1,.58,1.4,1.91,1.91,0,0,1-.58,1.4L9.25,21ZM18.45,9,17,7.55Zm-12,3A5.31,5.31,0,0,0,4.9,8.1,5.31,5.31,0,0,0,1,6.5,5.31,5.31,0,0,0,4.9,4.9,5.31,5.31,0,0,0,6.5,1,5.31,5.31,0,0,0,8.1,4.9,5.31,5.31,0,0,0,12,6.5,5.46,5.46,0,0,0,6.5,12Z\"/>\n",
              "  </svg>\n",
              "    </button>\n",
              "    <script>\n",
              "      (() => {\n",
              "      const buttonEl =\n",
              "        document.querySelector('#id_cc11d814-eea7-4907-9b55-cbbe8fe3cda3 button.colab-df-generate');\n",
              "      buttonEl.style.display =\n",
              "        google.colab.kernel.accessAllowed ? 'block' : 'none';\n",
              "\n",
              "      buttonEl.onclick = () => {\n",
              "        google.colab.notebook.generateWithVariable('df');\n",
              "      }\n",
              "      })();\n",
              "    </script>\n",
              "  </div>\n",
              "\n",
              "    </div>\n",
              "  </div>\n"
            ],
            "application/vnd.google.colaboratory.intrinsic+json": {
              "type": "dataframe",
              "variable_name": "df",
              "summary": "{\n  \"name\": \"df\",\n  \"rows\": 2,\n  \"fields\": [\n    {\n      \"column\": \"model_name\",\n      \"properties\": {\n        \"dtype\": \"string\",\n        \"num_unique_values\": 2,\n        \"samples\": [\n          \"FashionMNISTModelV2\",\n          \"FashionMNISTModelV1\"\n        ],\n        \"semantic_type\": \"\",\n        \"description\": \"\"\n      }\n    },\n    {\n      \"column\": \"model_loss\",\n      \"properties\": {\n        \"dtype\": \"number\",\n        \"std\": 0.22033107996040072,\n        \"min\": 0.3343087434768677,\n        \"max\": 0.6459039449691772,\n        \"num_unique_values\": 2,\n        \"samples\": [\n          0.3343087434768677,\n          0.6459039449691772\n        ],\n        \"semantic_type\": \"\",\n        \"description\": \"\"\n      }\n    },\n    {\n      \"column\": \"model_acc\",\n      \"properties\": {\n        \"dtype\": \"number\",\n        \"std\": 8.217574813310122,\n        \"min\": 76.35782747603834,\n        \"max\": 87.97923322683707,\n        \"num_unique_values\": 2,\n        \"samples\": [\n          87.97923322683707,\n          76.35782747603834\n        ],\n        \"semantic_type\": \"\",\n        \"description\": \"\"\n      }\n    }\n  ]\n}"
            }
          },
          "metadata": {},
          "execution_count": 241
        }
      ]
    },
    {
      "cell_type": "code",
      "source": [
        "import pandas as pd\n",
        "compare_results = pd.DataFrame([\n",
        "    model_1_results,\n",
        "    model_2_results,\n",
        "    model_0_results\n",
        "])\n",
        "print(compare_results)"
      ],
      "metadata": {
        "colab": {
          "base_uri": "https://localhost:8080/"
        },
        "id": "uT61kBaWbAK1",
        "outputId": "b3031371-ff61-4075-fb58-621e6c73c1f0"
      },
      "execution_count": 242,
      "outputs": [
        {
          "output_type": "stream",
          "name": "stdout",
          "text": [
            "            model_name  model_loss  model_acc\n",
            "0  FashionMNISTModelV1    0.645904  76.357827\n",
            "1  FashionMNISTModelV2    0.334309  87.979233\n",
            "2  FashionMNISTModelV0    0.476639  83.426518\n"
          ]
        }
      ]
    },
    {
      "cell_type": "code",
      "source": [
        "plt.plot(compare_results[\"model_name\"], compare_results[\"model_loss\"])\n",
        "plt.bar(compare_results[\"model_name\"], compare_results[\"model_acc\"], color=[\"red\", \"green\", \"orange\"])\n",
        "plt.title(\"Model Comparison: Loss and Accuracy\")\n",
        "plt.xlabel(\"Model\")\n",
        "plt.ylabel(\"Value\")"
      ],
      "metadata": {
        "colab": {
          "base_uri": "https://localhost:8080/",
          "height": 489
        },
        "id": "W6Et1DTDbPow",
        "outputId": "154807ed-6eed-45ca-e151-7729d42010ce"
      },
      "execution_count": 243,
      "outputs": [
        {
          "output_type": "execute_result",
          "data": {
            "text/plain": [
              "Text(0, 0.5, 'Value')"
            ]
          },
          "metadata": {},
          "execution_count": 243
        },
        {
          "output_type": "display_data",
          "data": {
            "text/plain": [
              "<Figure size 640x480 with 1 Axes>"
            ],
            "image/png": "[encoded data removed]"
          },
          "metadata": {}
        }
      ]
    },
    {
      "cell_type": "code",
      "source": [
        "compare_results[\"training_time\"] = [total_train_time_model_0,\n",
        "                                    total_train_time_model_1,\n",
        "                                    total_train_time_model_2]\n",
        "compare_results"
      ],
      "metadata": {
        "colab": {
          "base_uri": "https://localhost:8080/",
          "height": 143
        },
        "id": "VhCULolrcaiJ",
        "outputId": "dcb22fe4-ff81-46a9-c564-9625ed634b24"
      },
      "execution_count": 244,
      "outputs": [
        {
          "output_type": "execute_result",
          "data": {
            "text/plain": [
              "            model_name  model_loss  model_acc  training_time\n",
              "0  FashionMNISTModelV1    0.645904  76.357827      37.772913\n",
              "1  FashionMNISTModelV2    0.334309  87.979233      29.766476\n",
              "2  FashionMNISTModelV0    0.476639  83.426518     150.581004"
            ],
            "text/html": [
              "\n",
              "  <div id=\"df-a0576255-2a2d-4b53-b5bb-bf61aabf722a\" class=\"colab-df-container\">\n",
              "    <div>\n",
              "<style scoped>\n",
              "    .dataframe tbody tr th:only-of-type {\n",
              "        vertical-align: middle;\n",
              "    }\n",
              "\n",
              "    .dataframe tbody tr th {\n",
              "        vertical-align: top;\n",
              "    }\n",
              "\n",
              "    .dataframe thead th {\n",
              "        text-align: right;\n",
              "    }\n",
              "</style>\n",
              "<table border=\"1\" class=\"dataframe\">\n",
              "  <thead>\n",
              "    <tr style=\"text-align: right;\">\n",
              "      <th></th>\n",
              "      <th>model_name</th>\n",
              "      <th>model_loss</th>\n",
              "      <th>model_acc</th>\n",
              "      <th>training_time</th>\n",
              "    </tr>\n",
              "  </thead>\n",
              "  <tbody>\n",
              "    <tr>\n",
              "      <th>0</th>\n",
              "      <td>FashionMNISTModelV1</td>\n",
              "      <td>0.645904</td>\n",
              "      <td>76.357827</td>\n",
              "      <td>37.772913</td>\n",
              "    </tr>\n",
              "    <tr>\n",
              "      <th>1</th>\n",
              "      <td>FashionMNISTModelV2</td>\n",
              "      <td>0.334309</td>\n",
              "      <td>87.979233</td>\n",
              "      <td>29.766476</td>\n",
              "    </tr>\n",
              "    <tr>\n",
              "      <th>2</th>\n",
              "      <td>FashionMNISTModelV0</td>\n",
              "      <td>0.476639</td>\n",
              "      <td>83.426518</td>\n",
              "      <td>150.581004</td>\n",
              "    </tr>\n",
              "  </tbody>\n",
              "</table>\n",
              "</div>\n",
              "    <div class=\"colab-df-buttons\">\n",
              "\n",
              "  <div class=\"colab-df-container\">\n",
              "    <button class=\"colab-df-convert\" onclick=\"convertToInteractive('df-a0576255-2a2d-4b53-b5bb-bf61aabf722a')\"\n",
              "            title=\"Convert this dataframe to an interactive table.\"\n",
              "            style=\"display:none;\">\n",
              "\n",
              "  <svg xmlns=\"http://www.w3.org/2000/svg\" height=\"24px\" viewBox=\"0 -960 960 960\">\n",
              "    <path d=\"M120-120v-720h720v720H120Zm60-500h600v-160H180v160Zm220 220h160v-160H400v160Zm0 220h160v-160H400v160ZM180-400h160v-160H180v160Zm440 0h160v-160H620v160ZM180-180h160v-160H180v160Zm440 0h160v-160H620v160Z\"/>\n",
              "  </svg>\n",
              "    </button>\n",
              "\n",
              "  <style>\n",
              "    .colab-df-container {\n",
              "      display:flex;\n",
              "      gap: 12px;\n",
              "    }\n",
              "\n",
              "    .colab-df-convert {\n",
              "      background-color: #E8F0FE;\n",
              "      border: none;\n",
              "      border-radius: 50%;\n",
              "      cursor: pointer;\n",
              "      display: none;\n",
              "      fill: #1967D2;\n",
              "      height: 32px;\n",
              "      padding: 0 0 0 0;\n",
              "      width: 32px;\n",
              "    }\n",
              "\n",
              "    .colab-df-convert:hover {\n",
              "      background-color: #E2EBFA;\n",
              "      box-shadow: 0px 1px 2px rgba(60, 64, 67, 0.3), 0px 1px 3px 1px rgba(60, 64, 67, 0.15);\n",
              "      fill: #174EA6;\n",
              "    }\n",
              "\n",
              "    .colab-df-buttons div {\n",
              "      margin-bottom: 4px;\n",
              "    }\n",
              "\n",
              "    [theme=dark] .colab-df-convert {\n",
              "      background-color: #3B4455;\n",
              "      fill: #D2E3FC;\n",
              "    }\n",
              "\n",
              "    [theme=dark] .colab-df-convert:hover {\n",
              "      background-color: #434B5C;\n",
              "      box-shadow: 0px 1px 3px 1px rgba(0, 0, 0, 0.15);\n",
              "      filter: drop-shadow(0px 1px 2px rgba(0, 0, 0, 0.3));\n",
              "      fill: #FFFFFF;\n",
              "    }\n",
              "  </style>\n",
              "\n",
              "    <script>\n",
              "      const buttonEl =\n",
              "        document.querySelector('#df-a0576255-2a2d-4b53-b5bb-bf61aabf722a button.colab-df-convert');\n",
              "      buttonEl.style.display =\n",
              "        google.colab.kernel.accessAllowed ? 'block' : 'none';\n",
              "\n",
              "      async function convertToInteractive(key) {\n",
              "        const element = document.querySelector('#df-a0576255-2a2d-4b53-b5bb-bf61aabf722a');\n",
              "        const dataTable =\n",
              "          await google.colab.kernel.invokeFunction('convertToInteractive',\n",
              "                                                    [key], {});\n",
              "        if (!dataTable) return;\n",
              "\n",
              "        const docLinkHtml = 'Like what you see? Visit the ' +\n",
              "          '<a target=\"_blank\" href=https://colab.research.google.com/notebooks/data_table.ipynb>data table notebook</a>'\n",
              "          + ' to learn more about interactive tables.';\n",
              "        element.innerHTML = '';\n",
              "        dataTable['output_type'] = 'display_data';\n",
              "        await google.colab.output.renderOutput(dataTable, element);\n",
              "        const docLink = document.createElement('div');\n",
              "        docLink.innerHTML = docLinkHtml;\n",
              "        element.appendChild(docLink);\n",
              "      }\n",
              "    </script>\n",
              "  </div>\n",
              "\n",
              "\n",
              "<div id=\"df-5fa66f0c-e491-4944-b0af-5363bccaf27d\">\n",
              "  <button class=\"colab-df-quickchart\" onclick=\"quickchart('df-5fa66f0c-e491-4944-b0af-5363bccaf27d')\"\n",
              "            title=\"Suggest charts\"\n",
              "            style=\"display:none;\">\n",
              "\n",
              "<svg xmlns=\"http://www.w3.org/2000/svg\" height=\"24px\"viewBox=\"0 0 24 24\"\n",
              "     width=\"24px\">\n",
              "    <g>\n",
              "        <path d=\"M19 3H5c-1.1 0-2 .9-2 2v14c0 1.1.9 2 2 2h14c1.1 0 2-.9 2-2V5c0-1.1-.9-2-2-2zM9 17H7v-7h2v7zm4 0h-2V7h2v10zm4 0h-2v-4h2v4z\"/>\n",
              "    </g>\n",
              "</svg>\n",
              "  </button>\n",
              "\n",
              "<style>\n",
              "  .colab-df-quickchart {\n",
              "      --bg-color: #E8F0FE;\n",
              "      --fill-color: #1967D2;\n",
              "      --hover-bg-color: #E2EBFA;\n",
              "      --hover-fill-color: #174EA6;\n",
              "      --disabled-fill-color: #AAA;\n",
              "      --disabled-bg-color: #DDD;\n",
              "  }\n",
              "\n",
              "  [theme=dark] .colab-df-quickchart {\n",
              "      --bg-color: #3B4455;\n",
              "      --fill-color: #D2E3FC;\n",
              "      --hover-bg-color: #434B5C;\n",
              "      --hover-fill-color: #FFFFFF;\n",
              "      --disabled-bg-color: #3B4455;\n",
              "      --disabled-fill-color: #666;\n",
              "  }\n",
              "\n",
              "  .colab-df-quickchart {\n",
              "    background-color: var(--bg-color);\n",
              "    border: none;\n",
              "    border-radius: 50%;\n",
              "    cursor: pointer;\n",
              "    display: none;\n",
              "    fill: var(--fill-color);\n",
              "    height: 32px;\n",
              "    padding: 0;\n",
              "    width: 32px;\n",
              "  }\n",
              "\n",
              "  .colab-df-quickchart:hover {\n",
              "    background-color: var(--hover-bg-color);\n",
              "    box-shadow: 0 1px 2px rgba(60, 64, 67, 0.3), 0 1px 3px 1px rgba(60, 64, 67, 0.15);\n",
              "    fill: var(--button-hover-fill-color);\n",
              "  }\n",
              "\n",
              "  .colab-df-quickchart-complete:disabled,\n",
              "  .colab-df-quickchart-complete:disabled:hover {\n",
              "    background-color: var(--disabled-bg-color);\n",
              "    fill: var(--disabled-fill-color);\n",
              "    box-shadow: none;\n",
              "  }\n",
              "\n",
              "  .colab-df-spinner {\n",
              "    border: 2px solid var(--fill-color);\n",
              "    border-color: transparent;\n",
              "    border-bottom-color: var(--fill-color);\n",
              "    animation:\n",
              "      spin 1s steps(1) infinite;\n",
              "  }\n",
              "\n",
              "  @keyframes spin {\n",
              "    0% {\n",
              "      border-color: transparent;\n",
              "      border-bottom-color: var(--fill-color);\n",
              "      border-left-color: var(--fill-color);\n",
              "    }\n",
              "    20% {\n",
              "      border-color: transparent;\n",
              "      border-left-color: var(--fill-color);\n",
              "      border-top-color: var(--fill-color);\n",
              "    }\n",
              "    30% {\n",
              "      border-color: transparent;\n",
              "      border-left-color: var(--fill-color);\n",
              "      border-top-color: var(--fill-color);\n",
              "      border-right-color: var(--fill-color);\n",
              "    }\n",
              "    40% {\n",
              "      border-color: transparent;\n",
              "      border-right-color: var(--fill-color);\n",
              "      border-top-color: var(--fill-color);\n",
              "    }\n",
              "    60% {\n",
              "      border-color: transparent;\n",
              "      border-right-color: var(--fill-color);\n",
              "    }\n",
              "    80% {\n",
              "      border-color: transparent;\n",
              "      border-right-color: var(--fill-color);\n",
              "      border-bottom-color: var(--fill-color);\n",
              "    }\n",
              "    90% {\n",
              "      border-color: transparent;\n",
              "      border-bottom-color: var(--fill-color);\n",
              "    }\n",
              "  }\n",
              "</style>\n",
              "\n",
              "  <script>\n",
              "    async function quickchart(key) {\n",
              "      const quickchartButtonEl =\n",
              "        document.querySelector('#' + key + ' button');\n",
              "      quickchartButtonEl.disabled = true;  // To prevent multiple clicks.\n",
              "      quickchartButtonEl.classList.add('colab-df-spinner');\n",
              "      try {\n",
              "        const charts = await google.colab.kernel.invokeFunction(\n",
              "            'suggestCharts', [key], {});\n",
              "      } catch (error) {\n",
              "        console.error('Error during call to suggestCharts:', error);\n",
              "      }\n",
              "      quickchartButtonEl.classList.remove('colab-df-spinner');\n",
              "      quickchartButtonEl.classList.add('colab-df-quickchart-complete');\n",
              "    }\n",
              "    (() => {\n",
              "      let quickchartButtonEl =\n",
              "        document.querySelector('#df-5fa66f0c-e491-4944-b0af-5363bccaf27d button');\n",
              "      quickchartButtonEl.style.display =\n",
              "        google.colab.kernel.accessAllowed ? 'block' : 'none';\n",
              "    })();\n",
              "  </script>\n",
              "</div>\n",
              "\n",
              "  <div id=\"id_022a674f-0029-4fc5-af29-a27338c43121\">\n",
              "    <style>\n",
              "      .colab-df-generate {\n",
              "        background-color: #E8F0FE;\n",
              "        border: none;\n",
              "        border-radius: 50%;\n",
              "        cursor: pointer;\n",
              "        display: none;\n",
              "        fill: #1967D2;\n",
              "        height: 32px;\n",
              "        padding: 0 0 0 0;\n",
              "        width: 32px;\n",
              "      }\n",
              "\n",
              "      .colab-df-generate:hover {\n",
              "        background-color: #E2EBFA;\n",
              "        box-shadow: 0px 1px 2px rgba(60, 64, 67, 0.3), 0px 1px 3px 1px rgba(60, 64, 67, 0.15);\n",
              "        fill: #174EA6;\n",
              "      }\n",
              "\n",
              "      [theme=dark] .colab-df-generate {\n",
              "        background-color: #3B4455;\n",
              "        fill: #D2E3FC;\n",
              "      }\n",
              "\n",
              "      [theme=dark] .colab-df-generate:hover {\n",
              "        background-color: #434B5C;\n",
              "        box-shadow: 0px 1px 3px 1px rgba(0, 0, 0, 0.15);\n",
              "        filter: drop-shadow(0px 1px 2px rgba(0, 0, 0, 0.3));\n",
              "        fill: #FFFFFF;\n",
              "      }\n",
              "    </style>\n",
              "    <button class=\"colab-df-generate\" onclick=\"generateWithVariable('compare_results')\"\n",
              "            title=\"Generate code using this dataframe.\"\n",
              "            style=\"display:none;\">\n",
              "\n",
              "  <svg xmlns=\"http://www.w3.org/2000/svg\" height=\"24px\"viewBox=\"0 0 24 24\"\n",
              "       width=\"24px\">\n",
              "    <path d=\"M7,19H8.4L18.45,9,17,7.55,7,17.6ZM5,21V16.75L18.45,3.32a2,2,0,0,1,2.83,0l1.4,1.43a1.91,1.91,0,0,1,.58,1.4,1.91,1.91,0,0,1-.58,1.4L9.25,21ZM18.45,9,17,7.55Zm-12,3A5.31,5.31,0,0,0,4.9,8.1,5.31,5.31,0,0,0,1,6.5,5.31,5.31,0,0,0,4.9,4.9,5.31,5.31,0,0,0,6.5,1,5.31,5.31,0,0,0,8.1,4.9,5.31,5.31,0,0,0,12,6.5,5.46,5.46,0,0,0,6.5,12Z\"/>\n",
              "  </svg>\n",
              "    </button>\n",
              "    <script>\n",
              "      (() => {\n",
              "      const buttonEl =\n",
              "        document.querySelector('#id_022a674f-0029-4fc5-af29-a27338c43121 button.colab-df-generate');\n",
              "      buttonEl.style.display =\n",
              "        google.colab.kernel.accessAllowed ? 'block' : 'none';\n",
              "\n",
              "      buttonEl.onclick = () => {\n",
              "        google.colab.notebook.generateWithVariable('compare_results');\n",
              "      }\n",
              "      })();\n",
              "    </script>\n",
              "  </div>\n",
              "\n",
              "    </div>\n",
              "  </div>\n"
            ],
            "application/vnd.google.colaboratory.intrinsic+json": {
              "type": "dataframe",
              "variable_name": "compare_results",
              "summary": "{\n  \"name\": \"compare_results\",\n  \"rows\": 3,\n  \"fields\": [\n    {\n      \"column\": \"model_name\",\n      \"properties\": {\n        \"dtype\": \"string\",\n        \"num_unique_values\": 3,\n        \"samples\": [\n          \"FashionMNISTModelV1\",\n          \"FashionMNISTModelV2\",\n          \"FashionMNISTModelV0\"\n        ],\n        \"semantic_type\": \"\",\n        \"description\": \"\"\n      }\n    },\n    {\n      \"column\": \"model_loss\",\n      \"properties\": {\n        \"dtype\": \"number\",\n        \"std\": 0.1559915041400619,\n        \"min\": 0.3343087434768677,\n        \"max\": 0.6459039449691772,\n        \"num_unique_values\": 3,\n        \"samples\": [\n          0.6459039449691772,\n          0.3343087434768677,\n          0.47663894295692444\n        ],\n        \"semantic_type\": \"\",\n        \"description\": \"\"\n      }\n    },\n    {\n      \"column\": \"model_acc\",\n      \"properties\": {\n        \"dtype\": \"number\",\n        \"std\": 5.855918247531922,\n        \"min\": 76.35782747603834,\n        \"max\": 87.97923322683707,\n        \"num_unique_values\": 3,\n        \"samples\": [\n          76.35782747603834,\n          87.97923322683707,\n          83.42651757188499\n        ],\n        \"semantic_type\": \"\",\n        \"description\": \"\"\n      }\n    },\n    {\n      \"column\": \"training_time\",\n      \"properties\": {\n        \"dtype\": \"number\",\n        \"std\": 67.55974938126111,\n        \"min\": 29.76647581100042,\n        \"max\": 150.58100370399916,\n        \"num_unique_values\": 3,\n        \"samples\": [\n          37.7729134580004,\n          29.76647581100042,\n          150.58100370399916\n        ],\n        \"semantic_type\": \"\",\n        \"description\": \"\"\n      }\n    }\n  ]\n}"
            }
          },
          "metadata": {},
          "execution_count": 244
        }
      ]
    },
    {
      "cell_type": "code",
      "source": [
        "plt.bar(compare_results[\"model_name\"], compare_results[\"training_time\"])\n",
        "plt.title(\"Model Comparison: Training Time\")\n",
        "plt.xlabel(\"Model\")\n",
        "plt.ylabel(\"Training Time\")"
      ],
      "metadata": {
        "colab": {
          "base_uri": "https://localhost:8080/",
          "height": 489
        },
        "id": "G6_1ARxYcwZe",
        "outputId": "8b5343c8-87a3-4f08-a3db-567986ee59a3"
      },
      "execution_count": 245,
      "outputs": [
        {
          "output_type": "execute_result",
          "data": {
            "text/plain": [
              "Text(0, 0.5, 'Training Time')"
            ]
          },
          "metadata": {},
          "execution_count": 245
        },
        {
          "output_type": "display_data",
          "data": {
            "text/plain": [
              "<Figure size 640x480 with 1 Axes>"
            ],
            "image/png": "[encoded data removed]"
          },
          "metadata": {}
        }
      ]
    },
    {
      "cell_type": "code",
      "source": [
        "# Visualize our model results\n",
        "compare_results.set_index(\"model_name\")[\"model_acc\"].plot(kind=\"barh\")\n",
        "plt.xlabel(\"accuracy (%)\")\n",
        "plt.ylabel(\"model\");"
      ],
      "metadata": {
        "colab": {
          "base_uri": "https://localhost:8080/",
          "height": 449
        },
        "id": "EJmqw-bPdlIW",
        "outputId": "e09fdd54-0326-4592-f297-9c283bbe1362"
      },
      "execution_count": 246,
      "outputs": [
        {
          "output_type": "display_data",
          "data": {
            "text/plain": [
              "<Figure size 640x480 with 1 Axes>"
            ],
            "image/png": "[encoded data removed]"
          },
          "metadata": {}
        }
      ]
    },
    {
      "cell_type": "code",
      "source": [],
      "metadata": {
        "id": "FgBIe-Uin-Tf"
      },
      "execution_count": 246,
      "outputs": []
    },
    {
      "cell_type": "markdown",
      "source": [
        "### 9. Make and evaluate random predictions with best model"
      ],
      "metadata": {
        "id": "8F-jT8d_eUmC"
      }
    },
    {
      "cell_type": "code",
      "source": [
        "def make_predictions(model: torch.nn.Module, data: list, device: torch.device = device):\n",
        "    pred_probs = []\n",
        "    model.eval()\n",
        "    with torch.inference_mode():\n",
        "        for sample in data:\n",
        "            # Prepare sample\n",
        "            sample = torch.unsqueeze(sample, dim=0).to(device) # Add an extra dimension and send sample to device\n",
        "\n",
        "            # Forward pass (model outputs raw logit)\n",
        "            pred_logit = model(sample)\n",
        "\n",
        "            # Get prediction probability (logit -> prediction probability)\n",
        "            pred_prob = torch.softmax(pred_logit.squeeze(), dim=0) # note: perform softmax on the \"logits\" dimension, not \"batch\" dimension (in this case we have a batch size of 1, so can perform on dim=0)\n",
        "\n",
        "            # Get pred_prob off GPU for further calculations\n",
        "            pred_probs.append(pred_prob.cpu())\n",
        "\n",
        "    # Stack the pred_probs to turn list into a tensor\n",
        "    return torch.stack(pred_probs)"
      ],
      "metadata": {
        "id": "yw8tNewSn-xb"
      },
      "execution_count": 247,
      "outputs": []
    },
    {
      "cell_type": "code",
      "source": [
        "import random\n",
        "random.seed(42)\n",
        "test_samples = []\n",
        "test_labels = []\n",
        "for sample, label in random.sample(list(test_data), k=9):\n",
        "    test_samples.append(sample)\n",
        "    test_labels.append(label)\n",
        "\n",
        "# View the first test sample shape and label\n",
        "print(f\"Test sample image shape: {test_samples[0].shape}\\nTest sample label: {test_labels[0]} ({class_names[test_labels[0]]})\")"
      ],
      "metadata": {
        "colab": {
          "base_uri": "https://localhost:8080/"
        },
        "id": "_Q16rSIHpX3-",
        "outputId": "f39d2317-62d4-4de4-ae2a-9b1443b9d8d7"
      },
      "execution_count": 248,
      "outputs": [
        {
          "output_type": "stream",
          "name": "stdout",
          "text": [
            "Test sample image shape: torch.Size([1, 28, 28])\n",
            "Test sample label: 5 (Sandal)\n"
          ]
        }
      ]
    },
    {
      "cell_type": "code",
      "source": [
        "# Make predictions on test samples with model 2\n",
        "pred_probs= make_predictions(model=model_2,\n",
        "                             data=test_samples)\n",
        "\n",
        "# View first two prediction probabilities list\n",
        "pred_probs[:2]"
      ],
      "metadata": {
        "colab": {
          "base_uri": "https://localhost:8080/"
        },
        "id": "mAThgYQLy4Zb",
        "outputId": "dadeb3b4-9847-49f3-903d-fca5a9541ea2"
      },
      "execution_count": 249,
      "outputs": [
        {
          "output_type": "execute_result",
          "data": {
            "text/plain": [
              "tensor([[5.8331e-07, 1.3614e-09, 1.8328e-08, 5.0327e-08, 5.4914e-09, 9.9999e-01,\n",
              "         1.5441e-07, 3.2850e-07, 2.0518e-06, 3.5186e-06],\n",
              "        [9.7742e-02, 6.1124e-01, 8.8197e-03, 1.9753e-01, 1.2528e-02, 9.2709e-04,\n",
              "         6.9006e-02, 1.0071e-03, 1.0003e-03, 2.0247e-04]])"
            ]
          },
          "metadata": {},
          "execution_count": 249
        }
      ]
    },
    {
      "cell_type": "code",
      "source": [
        "# Make predictions on test samples with model 2\n",
        "pred_probs= make_predictions(model=model_2,\n",
        "                             data=test_samples)\n",
        "\n",
        "# View first two prediction probabilities list\n",
        "pred_probs[:2]"
      ],
      "metadata": {
        "colab": {
          "base_uri": "https://localhost:8080/"
        },
        "id": "ZwkT8IKTy6UB",
        "outputId": "c8dfc4ec-126f-43a0-f351-260b721dfd18"
      },
      "execution_count": 250,
      "outputs": [
        {
          "output_type": "execute_result",
          "data": {
            "text/plain": [
              "tensor([[5.8331e-07, 1.3614e-09, 1.8328e-08, 5.0327e-08, 5.4914e-09, 9.9999e-01,\n",
              "         1.5441e-07, 3.2850e-07, 2.0518e-06, 3.5186e-06],\n",
              "        [9.7742e-02, 6.1124e-01, 8.8197e-03, 1.9753e-01, 1.2528e-02, 9.2709e-04,\n",
              "         6.9006e-02, 1.0071e-03, 1.0003e-03, 2.0247e-04]])"
            ]
          },
          "metadata": {},
          "execution_count": 250
        }
      ]
    },
    {
      "cell_type": "code",
      "source": [
        "# Turn the prediction probabilities into prediction labels by taking the argmax()\n",
        "pred_classes = pred_probs.argmax(dim=1)\n",
        "pred_classes"
      ],
      "metadata": {
        "colab": {
          "base_uri": "https://localhost:8080/"
        },
        "id": "s5aRFy0Zy9tN",
        "outputId": "349f65f4-aeb1-4dac-8d44-94ed58c49d74"
      },
      "execution_count": 251,
      "outputs": [
        {
          "output_type": "execute_result",
          "data": {
            "text/plain": [
              "tensor([5, 1, 7, 4, 3, 0, 4, 7, 1])"
            ]
          },
          "metadata": {},
          "execution_count": 251
        }
      ]
    },
    {
      "cell_type": "code",
      "source": [
        "# Are our predictions in the same form as our test labels?\n",
        "test_labels, pred_classes"
      ],
      "metadata": {
        "colab": {
          "base_uri": "https://localhost:8080/"
        },
        "id": "nIHUsEYHy9wo",
        "outputId": "f27c82f1-7c7c-4bf3-a9a5-0ece71273806"
      },
      "execution_count": 252,
      "outputs": [
        {
          "output_type": "execute_result",
          "data": {
            "text/plain": [
              "([5, 1, 7, 4, 3, 0, 4, 7, 1], tensor([5, 1, 7, 4, 3, 0, 4, 7, 1]))"
            ]
          },
          "metadata": {},
          "execution_count": 252
        }
      ]
    },
    {
      "cell_type": "code",
      "source": [
        "# Plot predictions\n",
        "plt.figure(figsize=(9, 9))\n",
        "nrows = 3\n",
        "ncols = 3\n",
        "for i, sample in enumerate(test_samples):\n",
        "  # Create a subplot\n",
        "  plt.subplot(nrows, ncols, i+1)\n",
        "\n",
        "  # Plot the target image\n",
        "  plt.imshow(sample.squeeze(), cmap=\"gray\")\n",
        "\n",
        "  # Find the prediction label (in text form, e.g. \"Sandal\")\n",
        "  pred_label = class_names[pred_classes[i]]\n",
        "\n",
        "  # Get the truth label (in text form, e.g. \"T-shirt\")\n",
        "  truth_label = class_names[test_labels[i]]\n",
        "\n",
        "  # Create the title text of the plot\n",
        "  title_text = f\"Pred: {pred_label} | Truth: {truth_label}\"\n",
        "\n",
        "  # Check for equality and change title colour accordingly\n",
        "  if pred_label == truth_label:\n",
        "      plt.title(title_text, fontsize=10, c=\"g\") # green text if correct\n",
        "  else:\n",
        "      plt.title(title_text, fontsize=10, c=\"r\") # red text if wrong\n",
        "  plt.axis(False);"
      ],
      "metadata": {
        "colab": {
          "base_uri": "https://localhost:8080/",
          "height": 749
        },
        "id": "mamAxy7Py904",
        "outputId": "4f9843d8-d813-43d1-ad91-7d3943a4ee29"
      },
      "execution_count": 253,
      "outputs": [
        {
          "output_type": "display_data",
          "data": {
            "text/plain": [
              "<Figure size 900x900 with 9 Axes>"
            ],
            "image/png": "[encoded data removed]"
          },
          "metadata": {}
        }
      ]
    },
    {
      "cell_type": "code",
      "source": [],
      "metadata": {
        "id": "V4iMK1h7zDYO"
      },
      "execution_count": 253,
      "outputs": []
    },
    {
      "cell_type": "code",
      "source": [
        "plt.imshow(test_samples[0].squeeze(), cmap=\"gray\")\n",
        "plt.title(test_labels[0])"
      ],
      "metadata": {
        "colab": {
          "base_uri": "https://localhost:8080/",
          "height": 469
        },
        "id": "xHhlOgU_r7DY",
        "outputId": "62d29cf7-813d-423d-9909-217bc77b8633"
      },
      "execution_count": 254,
      "outputs": [
        {
          "output_type": "execute_result",
          "data": {
            "text/plain": [
              "Text(0.5, 1.0, '5')"
            ]
          },
          "metadata": {},
          "execution_count": 254
        },
        {
          "output_type": "display_data",
          "data": {
            "text/plain": [
              "<Figure size 640x480 with 1 Axes>"
            ],
            "image/png": "[encoded data removed]"
          },
          "metadata": {}
        }
      ]
    },
    {
      "cell_type": "code",
      "source": [
        "# Make predictions on test samples with model 2\n",
        "pred_probs= make_predictions(model=model_2,\n",
        "                             data=test_samples)\n",
        "\n",
        "# View first two prediction probabilities list\n",
        "pred_probs[:2]"
      ],
      "metadata": {
        "colab": {
          "base_uri": "https://localhost:8080/"
        },
        "id": "gsT3RUtAslt7",
        "outputId": "b3b93ff5-ec92-481d-dc7a-2ece35168321"
      },
      "execution_count": 255,
      "outputs": [
        {
          "output_type": "execute_result",
          "data": {
            "text/plain": [
              "tensor([[5.8331e-07, 1.3614e-09, 1.8328e-08, 5.0327e-08, 5.4914e-09, 9.9999e-01,\n",
              "         1.5441e-07, 3.2850e-07, 2.0518e-06, 3.5186e-06],\n",
              "        [9.7742e-02, 6.1124e-01, 8.8197e-03, 1.9753e-01, 1.2528e-02, 9.2709e-04,\n",
              "         6.9006e-02, 1.0071e-03, 1.0003e-03, 2.0247e-04]])"
            ]
          },
          "metadata": {},
          "execution_count": 255
        }
      ]
    },
    {
      "cell_type": "code",
      "source": [
        "torch.argmax(pred_probs[0])"
      ],
      "metadata": {
        "colab": {
          "base_uri": "https://localhost:8080/"
        },
        "id": "r_fNWZe4tKnD",
        "outputId": "6c75364b-2de1-46fa-e3b2-08afb093ed26"
      },
      "execution_count": 256,
      "outputs": [
        {
          "output_type": "execute_result",
          "data": {
            "text/plain": [
              "tensor(5)"
            ]
          },
          "metadata": {},
          "execution_count": 256
        }
      ]
    },
    {
      "cell_type": "code",
      "source": [
        "test_labels"
      ],
      "metadata": {
        "id": "p5ZAtDsPtXpw",
        "outputId": "59b30892-a6df-47c0-b8d5-40d3fcaae7ed",
        "colab": {
          "base_uri": "https://localhost:8080/"
        }
      },
      "execution_count": 257,
      "outputs": [
        {
          "output_type": "execute_result",
          "data": {
            "text/plain": [
              "[5, 1, 7, 4, 3, 0, 4, 7, 1]"
            ]
          },
          "metadata": {},
          "execution_count": 257
        }
      ]
    },
    {
      "cell_type": "code",
      "source": [],
      "metadata": {
        "id": "BnBD0lCPBrET"
      },
      "execution_count": 257,
      "outputs": []
    },
    {
      "cell_type": "markdown",
      "source": [
        "# 10. Making a confusion matrix for further prediction evaluation"
      ],
      "metadata": {
        "id": "7fIWjXWaWRkK"
      }
    },
    {
      "cell_type": "code",
      "source": [
        "# Import tqdm for progress bar\n",
        "from tqdm.auto import tqdm\n",
        "\n",
        "# 1. Make predictions with trained model\n",
        "y_preds = []\n",
        "model_2.eval()\n",
        "with torch.inference_mode():\n",
        "  for X, y in tqdm(test_dataloader, desc=\"Making predictions\"):\n",
        "    # Send data and targets to target device\n",
        "    X, y = X.to(device), y.to(device)\n",
        "    # Do the forward pass\n",
        "    y_logit = model_2(X)\n",
        "    # Turn predictions from logits -> prediction probabilities -> predictions labels\n",
        "    y_pred = torch.softmax(y_logit, dim=1).argmax(dim=1) # note: perform softmax on the \"logits\" dimension, not \"batch\" dimension (in this case we have a batch size of 32, so can perform on dim=1)\n",
        "    # Put predictions on CPU for evaluation\n",
        "    y_preds.append(y_pred.cpu())\n",
        "# Concatenate list of predictions into a tensor\n",
        "y_pred_tensor = torch.cat(y_preds)"
      ],
      "metadata": {
        "colab": {
          "base_uri": "https://localhost:8080/",
          "height": 49,
          "referenced_widgets": [
            "8550167d24e94b8db083bb2ae0ef00ea",
            "75ab488e755a4794b8645b8772edb7b2",
            "ef023c673afa4d09b5fd27324081fa32",
            "764e419bc47c4297b5b4aed1841051a9",
            "e99a05be1fbc47b9a6cc5320155c143f",
            "6b34609a63fe4df792f5384bc126b5fa",
            "5f9fbcac79f940b585021540762c596c",
            "7309b334f44843f7bbcdadcaa81e0605",
            "d9403136b5a2438591a3900ea358c667",
            "e8f8eb9ea4cf46428b6023455e3b481b",
            "02e9de85562c443f9e340377b7cc1c81"
          ]
        },
        "id": "isuXtaGOWaCU",
        "outputId": "7f6556d4-de34-4f8b-d013-5807be46e2a9"
      },
      "execution_count": 258,
      "outputs": [
        {
          "output_type": "display_data",
          "data": {
            "text/plain": [
              "Making predictions:   0%|          | 0/313 [00:00<?, ?it/s]"
            ],
            "application/vnd.jupyter.widget-view+json": {
              "version_major": 2,
              "version_minor": 0,
              "model_id": "8550167d24e94b8db083bb2ae0ef00ea"
            }
          },
          "metadata": {}
        }
      ]
    },
    {
      "cell_type": "code",
      "source": [
        "# See if torchmetrics exists, if not, install it\n",
        "try:\n",
        "    import torchmetrics, mlxtend\n",
        "    print(f\"mlxtend version: {mlxtend.__version__}\")\n",
        "    assert int(mlxtend.__version__.split(\".\")[1]) >= 19, \"mlxtend verison should be 0.19.0 or higher\"\n",
        "except:\n",
        "    !pip install -q torchmetrics -U mlxtend # <- Note: If you're using Google Colab, this may require restarting the runtime\n",
        "    import torchmetrics, mlxtend\n",
        "    print(f\"mlxtend version: {mlxtend.__version__}\")"
      ],
      "metadata": {
        "colab": {
          "base_uri": "https://localhost:8080/"
        },
        "id": "Uurzu20kWcNF",
        "outputId": "67a0620f-4aa9-404c-fbe4-22e8b1a0fdf7"
      },
      "execution_count": 259,
      "outputs": [
        {
          "output_type": "stream",
          "name": "stdout",
          "text": [
            "\u001b[?25l   \u001b[90m━━━━━━━━━━━━━━━━━━━━━━━━━━━━━━━━━━━━━━━━\u001b[0m \u001b[32m0.0/927.3 kB\u001b[0m \u001b[31m?\u001b[0m eta \u001b[36m-:--:--\u001b[0m\r\u001b[2K   \u001b[91m━━━━━━━━━━━\u001b[0m\u001b[90m╺\u001b[0m\u001b[90m━━━━━━━━━━━━━━━━━━━━━━━━━━━━\u001b[0m \u001b[32m256.0/927.3 kB\u001b[0m \u001b[31m7.7 MB/s\u001b[0m eta \u001b[36m0:00:01\u001b[0m\r\u001b[2K   \u001b[91m━━━━━━━━━━━━━━━━━━━━━━━━━━━━━━━━━━━━━━━\u001b[0m\u001b[91m╸\u001b[0m \u001b[32m921.6/927.3 kB\u001b[0m \u001b[31m15.6 MB/s\u001b[0m eta \u001b[36m0:00:01\u001b[0m\r\u001b[2K   \u001b[90m━━━━━━━━━━━━━━━━━━━━━━━━━━━━━━━━━━━━━━━━\u001b[0m \u001b[32m927.3/927.3 kB\u001b[0m \u001b[31m12.9 MB/s\u001b[0m eta \u001b[36m0:00:00\u001b[0m\n",
            "\u001b[?25hmlxtend version: 0.23.3\n"
          ]
        }
      ]
    },
    {
      "cell_type": "code",
      "source": [
        "# Import mlxtend upgraded version\n",
        "import mlxtend\n",
        "print(mlxtend.__version__)\n",
        "assert int(mlxtend.__version__.split(\".\")[1]) >= 19 # should be version 0.19.0 or higher"
      ],
      "metadata": {
        "colab": {
          "base_uri": "https://localhost:8080/"
        },
        "id": "jRo7Q-lsWd94",
        "outputId": "b51dacaa-f9df-4a48-e36c-e742ed538bbb"
      },
      "execution_count": 260,
      "outputs": [
        {
          "output_type": "stream",
          "name": "stdout",
          "text": [
            "0.23.3\n"
          ]
        }
      ]
    },
    {
      "cell_type": "code",
      "source": [
        "from torchmetrics import ConfusionMatrix\n",
        "from mlxtend.plotting import plot_confusion_matrix\n",
        "\n",
        "# 2. Setup confusion matrix instance and compare predictions to targets\n",
        "confmat = ConfusionMatrix(num_classes=len(class_names), task='multiclass')\n",
        "confmat_tensor = confmat(preds=y_pred_tensor,\n",
        "                         target=test_data.targets)\n",
        "\n",
        "# 3. Plot the confusion matrix\n",
        "fig, ax = plot_confusion_matrix(\n",
        "    conf_mat=confmat_tensor.numpy(), # matplotlib likes working with NumPy\n",
        "    class_names=class_names, # turn the row and column labels into class names\n",
        "    figsize=(10, 7)\n",
        ");"
      ],
      "metadata": {
        "colab": {
          "base_uri": "https://localhost:8080/",
          "height": 667
        },
        "id": "nKslhAQRWg-E",
        "outputId": "adeefc53-fb04-4775-a93e-abeef27cc854"
      },
      "execution_count": 261,
      "outputs": [
        {
          "output_type": "display_data",
          "data": {
            "text/plain": [
              "<Figure size 1000x700 with 1 Axes>"
            ],
            "image/png": "[encoded data removed]"
          },
          "metadata": {}
        }
      ]
    },
    {
      "cell_type": "code",
      "source": [],
      "metadata": {
        "id": "Ot1ccbvGW7A-"
      },
      "execution_count": null,
      "outputs": []
    }
  ]
}